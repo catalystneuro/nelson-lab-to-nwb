{
 "cells": [
  {
   "cell_type": "code",
   "execution_count": 1,
   "id": "6bbd7f9b-b82b-4513-aeac-efc8631fbe03",
   "metadata": {},
   "outputs": [],
   "source": [
    "%load_ext autoreload\n",
    "%autoreload 2"
   ]
  },
  {
   "cell_type": "markdown",
   "id": "7a9b0fef-6618-4e61-ab03-91007bf94d42",
   "metadata": {},
   "source": [
    "# Run conversion script for Creed 2024 sessions"
   ]
  },
  {
   "cell_type": "code",
   "execution_count": 16,
   "id": "db758e06-c386-4ad6-aa48-79d68f692213",
   "metadata": {},
   "outputs": [],
   "source": [
    "from nelson_lab_to_nwb.creed_2024 import session_to_nwb"
   ]
  },
  {
   "cell_type": "code",
   "execution_count": 17,
   "id": "9605a690-4537-4901-aa38-c4785a37f629",
   "metadata": {},
   "outputs": [
    {
     "name": "stdout",
     "output_type": "stream",
     "text": [
      "Source data is valid!\n",
      "Metadata is valid!\n",
      "conversion_options is valid!\n"
     ]
    },
    {
     "name": "stderr",
     "output_type": "stream",
     "text": [
      "/home/luiz/anaconda3/envs/nelson_lab_to_nwb_env/lib/python3.12/site-packages/hdmf/build/objectmapper.py:260: DtypeConversionWarning: Spec 'TimeSeries/timestamps': Value with data type int64 is being converted to data type float64 as specified.\n",
      "  warnings.warn(full_warning_msg, DtypeConversionWarning)\n"
     ]
    },
    {
     "ename": "TypeError",
     "evalue": "Can't implicitly convert non-string objects to strings",
     "output_type": "error",
     "traceback": [
      "\u001b[0;31m---------------------------------------------------------------------------\u001b[0m",
      "\u001b[0;31mTypeError\u001b[0m                                 Traceback (most recent call last)",
      "Cell \u001b[0;32mIn[17], line 1\u001b[0m\n\u001b[0;32m----> 1\u001b[0m output_file_path \u001b[38;5;241m=\u001b[39m session_to_nwb(\n\u001b[1;32m      2\u001b[0m     nex_file_path\u001b[38;5;241m=\u001b[39m\u001b[38;5;124m\"\u001b[39m\u001b[38;5;124m/media/luiz/Seagate Basic/storage/catalystneuro/nelson_lab/Raw_Plexon_ephys_LIDpaper/mr150417a3_fromRawPlex.nex\u001b[39m\u001b[38;5;124m\"\u001b[39m,\n\u001b[1;32m      3\u001b[0m     noldus_file_path\u001b[38;5;241m=\u001b[39m\u001b[38;5;124m\"\u001b[39m\u001b[38;5;124m/media/luiz/Seagate Basic/storage/catalystneuro/nelson_lab/Raw_Plexon_ephys_LIDpaper/BehaviorNoldusFile.xlsx\u001b[39m\u001b[38;5;124m\"\u001b[39m,\n\u001b[1;32m      4\u001b[0m     aim_score_file_path\u001b[38;5;241m=\u001b[39m\u001b[38;5;124m\"\u001b[39m\u001b[38;5;124m/media/luiz/Seagate Basic/storage/catalystneuro/nelson_lab/Raw_Plexon_ephys_LIDpaper/AIM_score.xlsx\u001b[39m\u001b[38;5;124m\"\u001b[39m,\n\u001b[1;32m      5\u001b[0m     metadata_file_path\u001b[38;5;241m=\u001b[39m\u001b[38;5;124m\"\u001b[39m\u001b[38;5;124m/mnt/shared_storage/Github/nelson-lab-to-nwb/src/nelson_lab_to_nwb/creed_2024/metadata_example.yaml\u001b[39m\u001b[38;5;124m\"\u001b[39m,\n\u001b[1;32m      6\u001b[0m     output_folder_path\u001b[38;5;241m=\u001b[39m\u001b[38;5;124m\"\u001b[39m\u001b[38;5;124mcreed_2024_converted_session\u001b[39m\u001b[38;5;124m\"\u001b[39m,\n\u001b[1;32m      7\u001b[0m     stub_test\u001b[38;5;241m=\u001b[39m\u001b[38;5;28;01mTrue\u001b[39;00m,\n\u001b[1;32m      8\u001b[0m     overwrite\u001b[38;5;241m=\u001b[39m\u001b[38;5;28;01mTrue\u001b[39;00m,\n\u001b[1;32m      9\u001b[0m     verbose\u001b[38;5;241m=\u001b[39m\u001b[38;5;28;01mTrue\u001b[39;00m,\n\u001b[1;32m     10\u001b[0m )\n",
      "File \u001b[0;32m/mnt/shared_storage/Github/nelson-lab-to-nwb/src/nelson_lab_to_nwb/creed_2024/creed_2024_convert_session.py:101\u001b[0m, in \u001b[0;36msession_to_nwb\u001b[0;34m(nex_file_path, noldus_file_path, aim_score_file_path, metadata_file_path, output_folder_path, noldus_start_event_name, stub_test, overwrite, verbose)\u001b[0m\n\u001b[1;32m     98\u001b[0m start_datetime \u001b[38;5;241m=\u001b[39m metadata\u001b[38;5;241m.\u001b[39mget(\u001b[38;5;124m\"\u001b[39m\u001b[38;5;124mNWBFile\u001b[39m\u001b[38;5;124m\"\u001b[39m)\u001b[38;5;241m.\u001b[39mget(\u001b[38;5;124m\"\u001b[39m\u001b[38;5;124msession_start_time\u001b[39m\u001b[38;5;124m\"\u001b[39m)\u001b[38;5;241m.\u001b[39mreplace(\u001b[38;5;124m\"\u001b[39m\u001b[38;5;124m:\u001b[39m\u001b[38;5;124m\"\u001b[39m, \u001b[38;5;124m\"\u001b[39m\u001b[38;5;124m\"\u001b[39m)\u001b[38;5;241m.\u001b[39mreplace(\u001b[38;5;124m\"\u001b[39m\u001b[38;5;124m-\u001b[39m\u001b[38;5;124m\"\u001b[39m, \u001b[38;5;124m\"\u001b[39m\u001b[38;5;124m\"\u001b[39m)[:\u001b[38;5;241m-\u001b[39m\u001b[38;5;241m4\u001b[39m]\n\u001b[1;32m     99\u001b[0m nwbfile_path \u001b[38;5;241m=\u001b[39m \u001b[38;5;28mstr\u001b[39m(output_folder \u001b[38;5;241m/\u001b[39m \u001b[38;5;124mf\u001b[39m\u001b[38;5;124m\"\u001b[39m\u001b[38;5;132;01m{\u001b[39;00msubject_id\u001b[38;5;132;01m}\u001b[39;00m\u001b[38;5;124m_\u001b[39m\u001b[38;5;132;01m{\u001b[39;00mstart_datetime\u001b[38;5;132;01m}\u001b[39;00m\u001b[38;5;124m.nwb\u001b[39m\u001b[38;5;124m\"\u001b[39m)\n\u001b[0;32m--> 101\u001b[0m converter\u001b[38;5;241m.\u001b[39mrun_conversion(\n\u001b[1;32m    102\u001b[0m     metadata\u001b[38;5;241m=\u001b[39mmetadata,\n\u001b[1;32m    103\u001b[0m     nwbfile_path\u001b[38;5;241m=\u001b[39mnwbfile_path,\n\u001b[1;32m    104\u001b[0m     conversion_options\u001b[38;5;241m=\u001b[39mconversion_options,\n\u001b[1;32m    105\u001b[0m     overwrite\u001b[38;5;241m=\u001b[39moverwrite\n\u001b[1;32m    106\u001b[0m )\n\u001b[1;32m    108\u001b[0m \u001b[38;5;28;01mreturn\u001b[39;00m nwbfile_path\n",
      "File \u001b[0;32m/mnt/shared_storage/Github/neuroconv/src/neuroconv/nwbconverter.py:158\u001b[0m, in \u001b[0;36mNWBConverter.run_conversion\u001b[0;34m(self, nwbfile_path, nwbfile, metadata, overwrite, conversion_options)\u001b[0m\n\u001b[1;32m    154\u001b[0m \u001b[38;5;28mself\u001b[39m\u001b[38;5;241m.\u001b[39mvalidate_conversion_options(conversion_options\u001b[38;5;241m=\u001b[39mconversion_options)\n\u001b[1;32m    156\u001b[0m \u001b[38;5;28mself\u001b[39m\u001b[38;5;241m.\u001b[39mtemporally_align_data_interfaces()\n\u001b[0;32m--> 158\u001b[0m \u001b[38;5;28;01mwith\u001b[39;00m make_or_load_nwbfile(\n\u001b[1;32m    159\u001b[0m     nwbfile_path\u001b[38;5;241m=\u001b[39mnwbfile_path,\n\u001b[1;32m    160\u001b[0m     nwbfile\u001b[38;5;241m=\u001b[39mnwbfile,\n\u001b[1;32m    161\u001b[0m     metadata\u001b[38;5;241m=\u001b[39mmetadata,\n\u001b[1;32m    162\u001b[0m     overwrite\u001b[38;5;241m=\u001b[39moverwrite,\n\u001b[1;32m    163\u001b[0m     verbose\u001b[38;5;241m=\u001b[39m\u001b[38;5;28mself\u001b[39m\u001b[38;5;241m.\u001b[39mverbose,\n\u001b[1;32m    164\u001b[0m ) \u001b[38;5;28;01mas\u001b[39;00m nwbfile_out:\n\u001b[1;32m    165\u001b[0m     \u001b[38;5;28mself\u001b[39m\u001b[38;5;241m.\u001b[39madd_to_nwbfile(nwbfile_out, metadata, conversion_options)\n",
      "File \u001b[0;32m~/anaconda3/envs/nelson_lab_to_nwb_env/lib/python3.12/contextlib.py:144\u001b[0m, in \u001b[0;36m_GeneratorContextManager.__exit__\u001b[0;34m(self, typ, value, traceback)\u001b[0m\n\u001b[1;32m    142\u001b[0m \u001b[38;5;28;01mif\u001b[39;00m typ \u001b[38;5;129;01mis\u001b[39;00m \u001b[38;5;28;01mNone\u001b[39;00m:\n\u001b[1;32m    143\u001b[0m     \u001b[38;5;28;01mtry\u001b[39;00m:\n\u001b[0;32m--> 144\u001b[0m         \u001b[38;5;28mnext\u001b[39m(\u001b[38;5;28mself\u001b[39m\u001b[38;5;241m.\u001b[39mgen)\n\u001b[1;32m    145\u001b[0m     \u001b[38;5;28;01mexcept\u001b[39;00m \u001b[38;5;167;01mStopIteration\u001b[39;00m:\n\u001b[1;32m    146\u001b[0m         \u001b[38;5;28;01mreturn\u001b[39;00m \u001b[38;5;28;01mFalse\u001b[39;00m\n",
      "File \u001b[0;32m/mnt/shared_storage/Github/neuroconv/src/neuroconv/tools/nwb_helpers/_metadata_and_file_helpers.py:217\u001b[0m, in \u001b[0;36mmake_or_load_nwbfile\u001b[0;34m(nwbfile_path, nwbfile, metadata, overwrite, backend, verbose)\u001b[0m\n\u001b[1;32m    215\u001b[0m \u001b[38;5;28;01mtry\u001b[39;00m:\n\u001b[1;32m    216\u001b[0m     \u001b[38;5;28;01mif\u001b[39;00m success:\n\u001b[0;32m--> 217\u001b[0m         io\u001b[38;5;241m.\u001b[39mwrite(nwbfile)\n\u001b[1;32m    219\u001b[0m         \u001b[38;5;28;01mif\u001b[39;00m verbose:\n\u001b[1;32m    220\u001b[0m             \u001b[38;5;28mprint\u001b[39m(\u001b[38;5;124mf\u001b[39m\u001b[38;5;124m\"\u001b[39m\u001b[38;5;124mNWB file saved at \u001b[39m\u001b[38;5;132;01m{\u001b[39;00mnwbfile_path_in\u001b[38;5;132;01m}\u001b[39;00m\u001b[38;5;124m!\u001b[39m\u001b[38;5;124m\"\u001b[39m)\n",
      "File \u001b[0;32m~/anaconda3/envs/nelson_lab_to_nwb_env/lib/python3.12/site-packages/hdmf/utils.py:668\u001b[0m, in \u001b[0;36mdocval.<locals>.dec.<locals>.func_call\u001b[0;34m(*args, **kwargs)\u001b[0m\n\u001b[1;32m    666\u001b[0m \u001b[38;5;28;01mdef\u001b[39;00m \u001b[38;5;21mfunc_call\u001b[39m(\u001b[38;5;241m*\u001b[39margs, \u001b[38;5;241m*\u001b[39m\u001b[38;5;241m*\u001b[39mkwargs):\n\u001b[1;32m    667\u001b[0m     pargs \u001b[38;5;241m=\u001b[39m _check_args(args, kwargs)\n\u001b[0;32m--> 668\u001b[0m     \u001b[38;5;28;01mreturn\u001b[39;00m func(args[\u001b[38;5;241m0\u001b[39m], \u001b[38;5;241m*\u001b[39m\u001b[38;5;241m*\u001b[39mpargs)\n",
      "File \u001b[0;32m~/anaconda3/envs/nelson_lab_to_nwb_env/lib/python3.12/site-packages/hdmf/backends/hdf5/h5tools.py:377\u001b[0m, in \u001b[0;36mHDF5IO.write\u001b[0;34m(self, **kwargs)\u001b[0m\n\u001b[1;32m    372\u001b[0m     \u001b[38;5;28;01mraise\u001b[39;00m UnsupportedOperation((\u001b[38;5;124m\"\u001b[39m\u001b[38;5;124mCannot write to file \u001b[39m\u001b[38;5;132;01m%s\u001b[39;00m\u001b[38;5;124m in mode \u001b[39m\u001b[38;5;124m'\u001b[39m\u001b[38;5;132;01m%s\u001b[39;00m\u001b[38;5;124m'\u001b[39m\u001b[38;5;124m. \u001b[39m\u001b[38;5;124m\"\u001b[39m\n\u001b[1;32m    373\u001b[0m                                 \u001b[38;5;124m\"\u001b[39m\u001b[38;5;124mPlease use mode \u001b[39m\u001b[38;5;124m'\u001b[39m\u001b[38;5;124mr+\u001b[39m\u001b[38;5;124m'\u001b[39m\u001b[38;5;124m, \u001b[39m\u001b[38;5;124m'\u001b[39m\u001b[38;5;124mw\u001b[39m\u001b[38;5;124m'\u001b[39m\u001b[38;5;124m, \u001b[39m\u001b[38;5;124m'\u001b[39m\u001b[38;5;124mw-\u001b[39m\u001b[38;5;124m'\u001b[39m\u001b[38;5;124m, \u001b[39m\u001b[38;5;124m'\u001b[39m\u001b[38;5;124mx\u001b[39m\u001b[38;5;124m'\u001b[39m\u001b[38;5;124m, or \u001b[39m\u001b[38;5;124m'\u001b[39m\u001b[38;5;124ma\u001b[39m\u001b[38;5;124m'\u001b[39m\u001b[38;5;124m\"\u001b[39m)\n\u001b[1;32m    374\u001b[0m                                \u001b[38;5;241m%\u001b[39m (\u001b[38;5;28mself\u001b[39m\u001b[38;5;241m.\u001b[39msource, \u001b[38;5;28mself\u001b[39m\u001b[38;5;241m.\u001b[39m__mode))\n\u001b[1;32m    376\u001b[0m cache_spec \u001b[38;5;241m=\u001b[39m popargs(\u001b[38;5;124m'\u001b[39m\u001b[38;5;124mcache_spec\u001b[39m\u001b[38;5;124m'\u001b[39m, kwargs)\n\u001b[0;32m--> 377\u001b[0m \u001b[38;5;28msuper\u001b[39m()\u001b[38;5;241m.\u001b[39mwrite(\u001b[38;5;241m*\u001b[39m\u001b[38;5;241m*\u001b[39mkwargs)\n\u001b[1;32m    378\u001b[0m \u001b[38;5;28;01mif\u001b[39;00m cache_spec:\n\u001b[1;32m    379\u001b[0m     \u001b[38;5;28mself\u001b[39m\u001b[38;5;241m.\u001b[39m__cache_spec()\n",
      "File \u001b[0;32m~/anaconda3/envs/nelson_lab_to_nwb_env/lib/python3.12/site-packages/hdmf/utils.py:668\u001b[0m, in \u001b[0;36mdocval.<locals>.dec.<locals>.func_call\u001b[0;34m(*args, **kwargs)\u001b[0m\n\u001b[1;32m    666\u001b[0m \u001b[38;5;28;01mdef\u001b[39;00m \u001b[38;5;21mfunc_call\u001b[39m(\u001b[38;5;241m*\u001b[39margs, \u001b[38;5;241m*\u001b[39m\u001b[38;5;241m*\u001b[39mkwargs):\n\u001b[1;32m    667\u001b[0m     pargs \u001b[38;5;241m=\u001b[39m _check_args(args, kwargs)\n\u001b[0;32m--> 668\u001b[0m     \u001b[38;5;28;01mreturn\u001b[39;00m func(args[\u001b[38;5;241m0\u001b[39m], \u001b[38;5;241m*\u001b[39m\u001b[38;5;241m*\u001b[39mpargs)\n",
      "File \u001b[0;32m~/anaconda3/envs/nelson_lab_to_nwb_env/lib/python3.12/site-packages/hdmf/backends/io.py:99\u001b[0m, in \u001b[0;36mHDMFIO.write\u001b[0;34m(self, **kwargs)\u001b[0m\n\u001b[1;32m     97\u001b[0m \u001b[38;5;250m\u001b[39m\u001b[38;5;124;03m\"\"\"Write a container to the IO source.\"\"\"\u001b[39;00m\n\u001b[1;32m     98\u001b[0m f_builder \u001b[38;5;241m=\u001b[39m \u001b[38;5;28mself\u001b[39m\u001b[38;5;241m.\u001b[39m__manager\u001b[38;5;241m.\u001b[39mbuild(container, source\u001b[38;5;241m=\u001b[39m\u001b[38;5;28mself\u001b[39m\u001b[38;5;241m.\u001b[39m__source, root\u001b[38;5;241m=\u001b[39m\u001b[38;5;28;01mTrue\u001b[39;00m)\n\u001b[0;32m---> 99\u001b[0m \u001b[38;5;28mself\u001b[39m\u001b[38;5;241m.\u001b[39mwrite_builder(f_builder, \u001b[38;5;241m*\u001b[39m\u001b[38;5;241m*\u001b[39mkwargs)\n",
      "File \u001b[0;32m~/anaconda3/envs/nelson_lab_to_nwb_env/lib/python3.12/site-packages/hdmf/utils.py:668\u001b[0m, in \u001b[0;36mdocval.<locals>.dec.<locals>.func_call\u001b[0;34m(*args, **kwargs)\u001b[0m\n\u001b[1;32m    666\u001b[0m \u001b[38;5;28;01mdef\u001b[39;00m \u001b[38;5;21mfunc_call\u001b[39m(\u001b[38;5;241m*\u001b[39margs, \u001b[38;5;241m*\u001b[39m\u001b[38;5;241m*\u001b[39mkwargs):\n\u001b[1;32m    667\u001b[0m     pargs \u001b[38;5;241m=\u001b[39m _check_args(args, kwargs)\n\u001b[0;32m--> 668\u001b[0m     \u001b[38;5;28;01mreturn\u001b[39;00m func(args[\u001b[38;5;241m0\u001b[39m], \u001b[38;5;241m*\u001b[39m\u001b[38;5;241m*\u001b[39mpargs)\n",
      "File \u001b[0;32m~/anaconda3/envs/nelson_lab_to_nwb_env/lib/python3.12/site-packages/hdmf/backends/hdf5/h5tools.py:815\u001b[0m, in \u001b[0;36mHDF5IO.write_builder\u001b[0;34m(self, **kwargs)\u001b[0m\n\u001b[1;32m    812\u001b[0m \u001b[38;5;28mself\u001b[39m\u001b[38;5;241m.\u001b[39mlogger\u001b[38;5;241m.\u001b[39mdebug(\u001b[38;5;124m\"\u001b[39m\u001b[38;5;124mWriting GroupBuilder \u001b[39m\u001b[38;5;124m'\u001b[39m\u001b[38;5;132;01m%s\u001b[39;00m\u001b[38;5;124m'\u001b[39m\u001b[38;5;124m to path \u001b[39m\u001b[38;5;124m'\u001b[39m\u001b[38;5;132;01m%s\u001b[39;00m\u001b[38;5;124m'\u001b[39m\u001b[38;5;124m with kwargs=\u001b[39m\u001b[38;5;132;01m%s\u001b[39;00m\u001b[38;5;124m\"\u001b[39m\n\u001b[1;32m    813\u001b[0m                   \u001b[38;5;241m%\u001b[39m (f_builder\u001b[38;5;241m.\u001b[39mname, \u001b[38;5;28mself\u001b[39m\u001b[38;5;241m.\u001b[39msource, kwargs))\n\u001b[1;32m    814\u001b[0m \u001b[38;5;28;01mfor\u001b[39;00m name, gbldr \u001b[38;5;129;01min\u001b[39;00m f_builder\u001b[38;5;241m.\u001b[39mgroups\u001b[38;5;241m.\u001b[39mitems():\n\u001b[0;32m--> 815\u001b[0m     \u001b[38;5;28mself\u001b[39m\u001b[38;5;241m.\u001b[39mwrite_group(\u001b[38;5;28mself\u001b[39m\u001b[38;5;241m.\u001b[39m__file, gbldr, \u001b[38;5;241m*\u001b[39m\u001b[38;5;241m*\u001b[39mkwargs)\n\u001b[1;32m    816\u001b[0m \u001b[38;5;28;01mfor\u001b[39;00m name, dbldr \u001b[38;5;129;01min\u001b[39;00m f_builder\u001b[38;5;241m.\u001b[39mdatasets\u001b[38;5;241m.\u001b[39mitems():\n\u001b[1;32m    817\u001b[0m     \u001b[38;5;28mself\u001b[39m\u001b[38;5;241m.\u001b[39mwrite_dataset(\u001b[38;5;28mself\u001b[39m\u001b[38;5;241m.\u001b[39m__file, dbldr, \u001b[38;5;241m*\u001b[39m\u001b[38;5;241m*\u001b[39mkwargs)\n",
      "File \u001b[0;32m~/anaconda3/envs/nelson_lab_to_nwb_env/lib/python3.12/site-packages/hdmf/utils.py:668\u001b[0m, in \u001b[0;36mdocval.<locals>.dec.<locals>.func_call\u001b[0;34m(*args, **kwargs)\u001b[0m\n\u001b[1;32m    666\u001b[0m \u001b[38;5;28;01mdef\u001b[39;00m \u001b[38;5;21mfunc_call\u001b[39m(\u001b[38;5;241m*\u001b[39margs, \u001b[38;5;241m*\u001b[39m\u001b[38;5;241m*\u001b[39mkwargs):\n\u001b[1;32m    667\u001b[0m     pargs \u001b[38;5;241m=\u001b[39m _check_args(args, kwargs)\n\u001b[0;32m--> 668\u001b[0m     \u001b[38;5;28;01mreturn\u001b[39;00m func(args[\u001b[38;5;241m0\u001b[39m], \u001b[38;5;241m*\u001b[39m\u001b[38;5;241m*\u001b[39mpargs)\n",
      "File \u001b[0;32m~/anaconda3/envs/nelson_lab_to_nwb_env/lib/python3.12/site-packages/hdmf/backends/hdf5/h5tools.py:997\u001b[0m, in \u001b[0;36mHDF5IO.write_group\u001b[0;34m(self, **kwargs)\u001b[0m\n\u001b[1;32m    994\u001b[0m \u001b[38;5;28;01mif\u001b[39;00m subgroups:\n\u001b[1;32m    995\u001b[0m     \u001b[38;5;28;01mfor\u001b[39;00m subgroup_name, sub_builder \u001b[38;5;129;01min\u001b[39;00m subgroups\u001b[38;5;241m.\u001b[39mitems():\n\u001b[1;32m    996\u001b[0m         \u001b[38;5;66;03m# do not create an empty group without attributes or links\u001b[39;00m\n\u001b[0;32m--> 997\u001b[0m         \u001b[38;5;28mself\u001b[39m\u001b[38;5;241m.\u001b[39mwrite_group(group, sub_builder, \u001b[38;5;241m*\u001b[39m\u001b[38;5;241m*\u001b[39mkwargs)\n\u001b[1;32m    998\u001b[0m \u001b[38;5;66;03m# write all datasets\u001b[39;00m\n\u001b[1;32m    999\u001b[0m datasets \u001b[38;5;241m=\u001b[39m builder\u001b[38;5;241m.\u001b[39mdatasets\n",
      "File \u001b[0;32m~/anaconda3/envs/nelson_lab_to_nwb_env/lib/python3.12/site-packages/hdmf/utils.py:668\u001b[0m, in \u001b[0;36mdocval.<locals>.dec.<locals>.func_call\u001b[0;34m(*args, **kwargs)\u001b[0m\n\u001b[1;32m    666\u001b[0m \u001b[38;5;28;01mdef\u001b[39;00m \u001b[38;5;21mfunc_call\u001b[39m(\u001b[38;5;241m*\u001b[39margs, \u001b[38;5;241m*\u001b[39m\u001b[38;5;241m*\u001b[39mkwargs):\n\u001b[1;32m    667\u001b[0m     pargs \u001b[38;5;241m=\u001b[39m _check_args(args, kwargs)\n\u001b[0;32m--> 668\u001b[0m     \u001b[38;5;28;01mreturn\u001b[39;00m func(args[\u001b[38;5;241m0\u001b[39m], \u001b[38;5;241m*\u001b[39m\u001b[38;5;241m*\u001b[39mpargs)\n",
      "File \u001b[0;32m~/anaconda3/envs/nelson_lab_to_nwb_env/lib/python3.12/site-packages/hdmf/backends/hdf5/h5tools.py:997\u001b[0m, in \u001b[0;36mHDF5IO.write_group\u001b[0;34m(self, **kwargs)\u001b[0m\n\u001b[1;32m    994\u001b[0m \u001b[38;5;28;01mif\u001b[39;00m subgroups:\n\u001b[1;32m    995\u001b[0m     \u001b[38;5;28;01mfor\u001b[39;00m subgroup_name, sub_builder \u001b[38;5;129;01min\u001b[39;00m subgroups\u001b[38;5;241m.\u001b[39mitems():\n\u001b[1;32m    996\u001b[0m         \u001b[38;5;66;03m# do not create an empty group without attributes or links\u001b[39;00m\n\u001b[0;32m--> 997\u001b[0m         \u001b[38;5;28mself\u001b[39m\u001b[38;5;241m.\u001b[39mwrite_group(group, sub_builder, \u001b[38;5;241m*\u001b[39m\u001b[38;5;241m*\u001b[39mkwargs)\n\u001b[1;32m    998\u001b[0m \u001b[38;5;66;03m# write all datasets\u001b[39;00m\n\u001b[1;32m    999\u001b[0m datasets \u001b[38;5;241m=\u001b[39m builder\u001b[38;5;241m.\u001b[39mdatasets\n",
      "File \u001b[0;32m~/anaconda3/envs/nelson_lab_to_nwb_env/lib/python3.12/site-packages/hdmf/utils.py:668\u001b[0m, in \u001b[0;36mdocval.<locals>.dec.<locals>.func_call\u001b[0;34m(*args, **kwargs)\u001b[0m\n\u001b[1;32m    666\u001b[0m \u001b[38;5;28;01mdef\u001b[39;00m \u001b[38;5;21mfunc_call\u001b[39m(\u001b[38;5;241m*\u001b[39margs, \u001b[38;5;241m*\u001b[39m\u001b[38;5;241m*\u001b[39mkwargs):\n\u001b[1;32m    667\u001b[0m     pargs \u001b[38;5;241m=\u001b[39m _check_args(args, kwargs)\n\u001b[0;32m--> 668\u001b[0m     \u001b[38;5;28;01mreturn\u001b[39;00m func(args[\u001b[38;5;241m0\u001b[39m], \u001b[38;5;241m*\u001b[39m\u001b[38;5;241m*\u001b[39mpargs)\n",
      "File \u001b[0;32m~/anaconda3/envs/nelson_lab_to_nwb_env/lib/python3.12/site-packages/hdmf/backends/hdf5/h5tools.py:1002\u001b[0m, in \u001b[0;36mHDF5IO.write_group\u001b[0;34m(self, **kwargs)\u001b[0m\n\u001b[1;32m   1000\u001b[0m \u001b[38;5;28;01mif\u001b[39;00m datasets:\n\u001b[1;32m   1001\u001b[0m     \u001b[38;5;28;01mfor\u001b[39;00m dset_name, sub_builder \u001b[38;5;129;01min\u001b[39;00m datasets\u001b[38;5;241m.\u001b[39mitems():\n\u001b[0;32m-> 1002\u001b[0m         \u001b[38;5;28mself\u001b[39m\u001b[38;5;241m.\u001b[39mwrite_dataset(group, sub_builder, \u001b[38;5;241m*\u001b[39m\u001b[38;5;241m*\u001b[39mkwargs)\n\u001b[1;32m   1003\u001b[0m \u001b[38;5;66;03m# write all links\u001b[39;00m\n\u001b[1;32m   1004\u001b[0m links \u001b[38;5;241m=\u001b[39m builder\u001b[38;5;241m.\u001b[39mlinks\n",
      "File \u001b[0;32m~/anaconda3/envs/nelson_lab_to_nwb_env/lib/python3.12/site-packages/hdmf/utils.py:668\u001b[0m, in \u001b[0;36mdocval.<locals>.dec.<locals>.func_call\u001b[0;34m(*args, **kwargs)\u001b[0m\n\u001b[1;32m    666\u001b[0m \u001b[38;5;28;01mdef\u001b[39;00m \u001b[38;5;21mfunc_call\u001b[39m(\u001b[38;5;241m*\u001b[39margs, \u001b[38;5;241m*\u001b[39m\u001b[38;5;241m*\u001b[39mkwargs):\n\u001b[1;32m    667\u001b[0m     pargs \u001b[38;5;241m=\u001b[39m _check_args(args, kwargs)\n\u001b[0;32m--> 668\u001b[0m     \u001b[38;5;28;01mreturn\u001b[39;00m func(args[\u001b[38;5;241m0\u001b[39m], \u001b[38;5;241m*\u001b[39m\u001b[38;5;241m*\u001b[39mpargs)\n",
      "File \u001b[0;32m~/anaconda3/envs/nelson_lab_to_nwb_env/lib/python3.12/site-packages/hdmf/backends/hdf5/h5tools.py:1309\u001b[0m, in \u001b[0;36mHDF5IO.write_dataset\u001b[0;34m(self, **kwargs)\u001b[0m\n\u001b[1;32m   1307\u001b[0m \u001b[38;5;66;03m# Write a regular in memory array (e.g., numpy array, list etc.)\u001b[39;00m\n\u001b[1;32m   1308\u001b[0m \u001b[38;5;28;01melif\u001b[39;00m \u001b[38;5;28mhasattr\u001b[39m(data, \u001b[38;5;124m'\u001b[39m\u001b[38;5;124m__len__\u001b[39m\u001b[38;5;124m'\u001b[39m):\n\u001b[0;32m-> 1309\u001b[0m     dset \u001b[38;5;241m=\u001b[39m \u001b[38;5;28mself\u001b[39m\u001b[38;5;241m.\u001b[39m__list_fill__(parent, name, data, options)\n\u001b[1;32m   1310\u001b[0m \u001b[38;5;66;03m# Write a regular scalar dataset\u001b[39;00m\n\u001b[1;32m   1311\u001b[0m \u001b[38;5;28;01melse\u001b[39;00m:\n\u001b[1;32m   1312\u001b[0m     dset \u001b[38;5;241m=\u001b[39m \u001b[38;5;28mself\u001b[39m\u001b[38;5;241m.\u001b[39m__scalar_fill__(parent, name, data, options)\n",
      "File \u001b[0;32m~/anaconda3/envs/nelson_lab_to_nwb_env/lib/python3.12/site-packages/hdmf/backends/hdf5/h5tools.py:1475\u001b[0m, in \u001b[0;36mHDF5IO.__list_fill__\u001b[0;34m(cls, parent, name, data, options)\u001b[0m\n\u001b[1;32m   1473\u001b[0m     dset[:] \u001b[38;5;241m=\u001b[39m data\n\u001b[1;32m   1474\u001b[0m \u001b[38;5;28;01mexcept\u001b[39;00m \u001b[38;5;167;01mException\u001b[39;00m \u001b[38;5;28;01mas\u001b[39;00m e:\n\u001b[0;32m-> 1475\u001b[0m     \u001b[38;5;28;01mraise\u001b[39;00m e\n\u001b[1;32m   1476\u001b[0m \u001b[38;5;28;01mreturn\u001b[39;00m dset\n",
      "File \u001b[0;32m~/anaconda3/envs/nelson_lab_to_nwb_env/lib/python3.12/site-packages/hdmf/backends/hdf5/h5tools.py:1473\u001b[0m, in \u001b[0;36mHDF5IO.__list_fill__\u001b[0;34m(cls, parent, name, data, options)\u001b[0m\n\u001b[1;32m   1471\u001b[0m     dset\u001b[38;5;241m.\u001b[39mresize(new_shape)\n\u001b[1;32m   1472\u001b[0m \u001b[38;5;28;01mtry\u001b[39;00m:\n\u001b[0;32m-> 1473\u001b[0m     dset[:] \u001b[38;5;241m=\u001b[39m data\n\u001b[1;32m   1474\u001b[0m \u001b[38;5;28;01mexcept\u001b[39;00m \u001b[38;5;167;01mException\u001b[39;00m \u001b[38;5;28;01mas\u001b[39;00m e:\n\u001b[1;32m   1475\u001b[0m     \u001b[38;5;28;01mraise\u001b[39;00m e\n",
      "File \u001b[0;32mh5py/_objects.pyx:54\u001b[0m, in \u001b[0;36mh5py._objects.with_phil.wrapper\u001b[0;34m()\u001b[0m\n",
      "File \u001b[0;32mh5py/_objects.pyx:55\u001b[0m, in \u001b[0;36mh5py._objects.with_phil.wrapper\u001b[0;34m()\u001b[0m\n",
      "File \u001b[0;32m~/anaconda3/envs/nelson_lab_to_nwb_env/lib/python3.12/site-packages/h5py/_hl/dataset.py:999\u001b[0m, in \u001b[0;36mDataset.__setitem__\u001b[0;34m(self, args, val)\u001b[0m\n\u001b[1;32m    997\u001b[0m mspace \u001b[38;5;241m=\u001b[39m h5s\u001b[38;5;241m.\u001b[39mcreate_simple(selection\u001b[38;5;241m.\u001b[39mexpand_shape(mshape))\n\u001b[1;32m    998\u001b[0m \u001b[38;5;28;01mfor\u001b[39;00m fspace \u001b[38;5;129;01min\u001b[39;00m selection\u001b[38;5;241m.\u001b[39mbroadcast(mshape):\n\u001b[0;32m--> 999\u001b[0m     \u001b[38;5;28mself\u001b[39m\u001b[38;5;241m.\u001b[39mid\u001b[38;5;241m.\u001b[39mwrite(mspace, fspace, val, mtype, dxpl\u001b[38;5;241m=\u001b[39m\u001b[38;5;28mself\u001b[39m\u001b[38;5;241m.\u001b[39m_dxpl)\n",
      "File \u001b[0;32mh5py/_objects.pyx:54\u001b[0m, in \u001b[0;36mh5py._objects.with_phil.wrapper\u001b[0;34m()\u001b[0m\n",
      "File \u001b[0;32mh5py/_objects.pyx:55\u001b[0m, in \u001b[0;36mh5py._objects.with_phil.wrapper\u001b[0;34m()\u001b[0m\n",
      "File \u001b[0;32mh5py/h5d.pyx:282\u001b[0m, in \u001b[0;36mh5py.h5d.DatasetID.write\u001b[0;34m()\u001b[0m\n",
      "File \u001b[0;32mh5py/_proxy.pyx:147\u001b[0m, in \u001b[0;36mh5py._proxy.dset_rw\u001b[0;34m()\u001b[0m\n",
      "File \u001b[0;32mh5py/_conv.pyx:442\u001b[0m, in \u001b[0;36mh5py._conv.str2vlen\u001b[0;34m()\u001b[0m\n",
      "File \u001b[0;32mh5py/_conv.pyx:96\u001b[0m, in \u001b[0;36mh5py._conv.generic_converter\u001b[0;34m()\u001b[0m\n",
      "File \u001b[0;32mh5py/_conv.pyx:247\u001b[0m, in \u001b[0;36mh5py._conv.conv_str2vlen\u001b[0;34m()\u001b[0m\n",
      "\u001b[0;31mTypeError\u001b[0m: Can't implicitly convert non-string objects to strings"
     ]
    }
   ],
   "source": [
    "output_file_path = session_to_nwb(\n",
    "    nex_file_path=\"/media/luiz/Seagate Basic/storage/catalystneuro/nelson_lab/Raw_Plexon_ephys_LIDpaper/mr150417a3_fromRawPlex.nex\",\n",
    "    noldus_file_path=\"/media/luiz/Seagate Basic/storage/catalystneuro/nelson_lab/Raw_Plexon_ephys_LIDpaper/BehaviorNoldusFile.xlsx\",\n",
    "    aim_score_file_path=\"/media/luiz/Seagate Basic/storage/catalystneuro/nelson_lab/Raw_Plexon_ephys_LIDpaper/AIM_score.xlsx\",\n",
    "    metadata_file_path=\"/mnt/shared_storage/Github/nelson-lab-to-nwb/src/nelson_lab_to_nwb/creed_2024/metadata_example.yaml\",\n",
    "    output_folder_path=\"creed_2024_converted_session\",\n",
    "    stub_test=True,\n",
    "    overwrite=True,\n",
    "    verbose=True,\n",
    ")"
   ]
  },
  {
   "cell_type": "markdown",
   "id": "11a94c4b-3d71-465e-9f73-6a1b2b0e12fc",
   "metadata": {},
   "source": [
    "# Inspect converted data"
   ]
  },
  {
   "cell_type": "code",
   "execution_count": null,
   "id": "b50c1e69-c0ab-4d3b-9ff3-8703128e6cfe",
   "metadata": {},
   "outputs": [],
   "source": [
    "from pynwb import NWBHDF5IO\n",
    "from nwbwidgets import nwb2widget"
   ]
  },
  {
   "cell_type": "code",
   "execution_count": null,
   "id": "8db2b2a8-21d5-44aa-9e24-56f613b312dd",
   "metadata": {},
   "outputs": [],
   "source": [
    "io = NWBHDF5IO(output_file_path, 'r', load_namespaces=True)\n",
    "nwbfile = io.read()\n",
    "nwbfile"
   ]
  },
  {
   "cell_type": "code",
   "execution_count": null,
   "id": "02cd02c6-4915-47d5-bcd8-b99c8e82dd36",
   "metadata": {},
   "outputs": [],
   "source": [
    "nwb2widget(nwbfile)"
   ]
  }
 ],
 "metadata": {
  "kernelspec": {
   "display_name": "nelson_lab_to_nwb_env",
   "language": "python",
   "name": "nelson_lab_to_nwb_env"
  },
  "language_info": {
   "codemirror_mode": {
    "name": "ipython",
    "version": 3
   },
   "file_extension": ".py",
   "mimetype": "text/x-python",
   "name": "python",
   "nbconvert_exporter": "python",
   "pygments_lexer": "ipython3",
   "version": "3.12.1"
  }
 },
 "nbformat": 4,
 "nbformat_minor": 5
}
