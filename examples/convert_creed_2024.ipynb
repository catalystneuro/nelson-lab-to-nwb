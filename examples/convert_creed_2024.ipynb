{
 "cells": [
  {
   "cell_type": "code",
   "execution_count": null,
   "id": "6bbd7f9b-b82b-4513-aeac-efc8631fbe03",
   "metadata": {},
   "outputs": [],
   "source": [
    "%load_ext autoreload\n",
    "%autoreload 2"
   ]
  },
  {
   "cell_type": "markdown",
   "id": "7a9b0fef-6618-4e61-ab03-91007bf94d42",
   "metadata": {},
   "source": [
    "# Run conversion script for Creed 2024 sessions"
   ]
  },
  {
   "cell_type": "code",
   "execution_count": null,
   "id": "db758e06-c386-4ad6-aa48-79d68f692213",
   "metadata": {},
   "outputs": [],
   "source": [
    "from nelson_lab_to_nwb.creed_2024 import session_to_nwb"
   ]
  },
  {
   "cell_type": "code",
   "execution_count": null,
   "id": "9605a690-4537-4901-aa38-c4785a37f629",
   "metadata": {},
   "outputs": [],
   "source": [
    "output_file_path = session_to_nwb(\n",
    "    nex_file_path=\"/media/luiz/Seagate Basic/storage/catalystneuro/nelson_lab/Raw_Plexon_ephys_LIDpaper/mr150417a3_fromRawPlex.nex\",\n",
    "    noldus_file_path=\"/media/luiz/Seagate Basic/storage/catalystneuro/nelson_lab/Raw_Plexon_ephys_LIDpaper/BehaviorNoldusFile.xlsx\",\n",
    "    aim_score_file_path=\"/media/luiz/Seagate Basic/storage/catalystneuro/nelson_lab/Raw_Plexon_ephys_LIDpaper/AIM_score.xlsx\",\n",
    "    metadata_file_path=\"/mnt/shared_storage/Github/nelson-lab-to-nwb/src/nelson_lab_to_nwb/creed_2024/metadata_example.yaml\",\n",
    "    output_folder_path=\"creed_2024_converted_session\",\n",
    "    stub_test=False,\n",
    "    overwrite=True,\n",
    "    verbose=True,\n",
    ")"
   ]
  },
  {
   "cell_type": "markdown",
   "id": "11a94c4b-3d71-465e-9f73-6a1b2b0e12fc",
   "metadata": {},
   "source": [
    "# Inspect converted data"
   ]
  },
  {
   "cell_type": "code",
   "execution_count": null,
   "id": "8db2b2a8-21d5-44aa-9e24-56f613b312dd",
   "metadata": {},
   "outputs": [],
   "source": [
    "from pynwb import NWBHDF5IO\n",
    "from nwbwidgets import nwb2widget\n",
    "\n",
    "\n",
    "output_file_path = \"creed_2024_converted_session/subid012345_20000723T000000.nwb\"\n",
    "\n",
    "io = NWBHDF5IO(output_file_path, 'r', load_namespaces=True)\n",
    "nwbfile = io.read()\n",
    "nwbfile"
   ]
  },
  {
   "cell_type": "code",
   "execution_count": null,
   "id": "02cd02c6-4915-47d5-bcd8-b99c8e82dd36",
   "metadata": {},
   "outputs": [],
   "source": [
    "nwb2widget(nwbfile)"
   ]
  },
  {
   "cell_type": "code",
   "execution_count": null,
   "id": "a5753a73-e443-48e3-ac50-8e5ec744e3aa",
   "metadata": {},
   "outputs": [],
   "source": [
    "nwbfile.processing"
   ]
  },
  {
   "cell_type": "code",
   "execution_count": null,
   "id": "48b2674a-d03c-4cab-9f16-8ffd691b66b3",
   "metadata": {},
   "outputs": [],
   "source": []
  }
 ],
 "metadata": {
  "kernelspec": {
   "display_name": "nelson_lab_to_nwb_env",
   "language": "python",
   "name": "nelson_lab_to_nwb_env"
  },
  "language_info": {
   "codemirror_mode": {
    "name": "ipython",
    "version": 3
   },
   "file_extension": ".py",
   "mimetype": "text/x-python",
   "name": "python",
   "nbconvert_exporter": "python",
   "pygments_lexer": "ipython3",
   "version": "3.12.1"
  }
 },
 "nbformat": 4,
 "nbformat_minor": 5
}
