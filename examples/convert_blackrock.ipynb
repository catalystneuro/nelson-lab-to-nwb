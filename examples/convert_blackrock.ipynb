{
 "cells": [
  {
   "cell_type": "code",
   "execution_count": 2,
   "id": "ba29ff9e-9f46-4848-acbd-7aecda7de74b",
   "metadata": {},
   "outputs": [],
   "source": [
    "%load_ext autoreload\n",
    "%autoreload 2"
   ]
  },
  {
   "cell_type": "code",
   "execution_count": 3,
   "id": "93347100-3df4-4fd9-8056-a58b649ec724",
   "metadata": {},
   "outputs": [],
   "source": [
    "from datetime import datetime\n",
    "from dateutil import tz\n",
    "from pathlib import Path\n",
    "from neuroconv.datainterfaces import BlackrockRecordingInterface"
   ]
  },
  {
   "cell_type": "code",
   "execution_count": 4,
   "id": "6030e21b-fc21-40f1-80fe-bf1d82cc0e85",
   "metadata": {},
   "outputs": [],
   "source": [
    "file_path = \"/media/luiz/Seagate Basic/storage/catalystneuro/nelson_lab/Raw_BlackRock_withCognitiveEvents/BlackRock_raw_H0.2_071823001.ns6\"\n",
    "\n",
    "interface = BlackrockRecordingInterface(file_path=file_path, verbose=False)\n",
    "\n",
    "# Extract what metadata we can from the source files\n",
    "metadata = interface.get_metadata()\n",
    "\n",
    "# # For data provenance we add the time zone information to the conversion\n",
    "# session_start_time = metadata[\"NWBFile\"][\"session_start_time\"]\n",
    "# session_start_time = session_start_time.replace(tzinfo=tz.gettz(\"US/Pacific\")).isoformat()\n",
    "# metadata[\"NWBFile\"].update(session_start_time=session_start_time)\n",
    "\n",
    "# # Choose a path for saving the nwb file and run the conversion\n",
    "# nwbfile_path = f\"{path_to_save_nwbfile}\"\n",
    "# interface.run_conversion(nwbfile_path=nwbfile_path, metadata=metadata)"
   ]
  },
  {
   "cell_type": "code",
   "execution_count": 7,
   "id": "42271c2f-be71-4f2f-89f3-fb4be57ba725",
   "metadata": {},
   "outputs": [
    {
     "data": {
      "text/plain": [
       "BlackrockRecordingExtractor: 32 channels - 30.0kHz - 1 segments - 444,255,989 samples \n",
       "                             14,808.53s (4.11 hours) - int16 dtype - 26.48 GiB\n",
       "  file_path: /media/luiz/Seagate Basic/storage/catalystneuro/nelson_lab/Raw_BlackRock_withCognitiveEvents/BlackRock_raw_H0.2_071823001.ns6"
      ]
     },
     "execution_count": 7,
     "metadata": {},
     "output_type": "execute_result"
    }
   ],
   "source": [
    "interface.recording_extractor"
   ]
  },
  {
   "cell_type": "code",
   "execution_count": null,
   "id": "ed70179e-285f-408a-bb9f-94dc9a21783a",
   "metadata": {},
   "outputs": [],
   "source": []
  }
 ],
 "metadata": {
  "kernelspec": {
   "display_name": "nelson_lab_to_nwb_env",
   "language": "python",
   "name": "nelson_lab_to_nwb_env"
  },
  "language_info": {
   "codemirror_mode": {
    "name": "ipython",
    "version": 3
   },
   "file_extension": ".py",
   "mimetype": "text/x-python",
   "name": "python",
   "nbconvert_exporter": "python",
   "pygments_lexer": "ipython3",
   "version": "3.12.1"
  }
 },
 "nbformat": 4,
 "nbformat_minor": 5
}
