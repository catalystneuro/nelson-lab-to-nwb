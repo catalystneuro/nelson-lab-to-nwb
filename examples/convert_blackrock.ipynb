{
 "cells": [
  {
   "cell_type": "code",
   "execution_count": null,
   "id": "238e6632-2874-47ab-bae1-a208fba82e8f",
   "metadata": {},
   "outputs": [],
   "source": [
    "%load_ext autoreload\n",
    "%autoreload 2"
   ]
  },
  {
   "cell_type": "markdown",
   "id": "57fd1015-1f16-4b0c-b7e2-0248938b6831",
   "metadata": {},
   "source": [
    "# Run conversion script for Raw_BlackRock_withCognitiveEvents"
   ]
  },
  {
   "cell_type": "code",
   "execution_count": null,
   "id": "d1becc7a-d9d5-4e75-a740-331af46adccc",
   "metadata": {},
   "outputs": [],
   "source": [
    "from nelson_lab_to_nwb.blackrock_sessions_converter import session_to_nwb\n",
    "\n",
    "session_to_nwb(\n",
    "    output_folder_path=\"output_folder\",\n",
    "    blackrock_raw_file_path=\"/media/luiz/Seagate Basic/storage/catalystneuro/nelson_lab/Raw_BlackRock_withCognitiveEvents/BlackRock_raw_H0.2_071823001.ns6\",\n",
    "    blackrock_lfp_file_path=\"/media/luiz/Seagate Basic/storage/catalystneuro/nelson_lab/Raw_BlackRock_withCognitiveEvents/BlackRock_raw_H0.2_071823001.ns2\",\n",
    "    blackrock_sorting_file_path=\"/media/luiz/Seagate Basic/storage/catalystneuro/nelson_lab/Raw_BlackRock_withCognitiveEvents/BlackRock_raw_H0.2_071823001.nev\",\n",
    "    behavioral_events_file_path=\"/media/luiz/Seagate Basic/storage/catalystneuro/nelson_lab/Raw_BlackRock_withCognitiveEvents/CognitiveBehavioral_Raw_H0.2.CSV\",\n",
    "    behavioral_video_file_path=\"/media/luiz/Seagate Basic/storage/catalystneuro/nelson_lab/Raw_BlackRock_withCognitiveEvents/BlackRock_exampleVideo_H0.2.avi\",\n",
    "    user_metadata_file_path=\"/mnt/shared_storage/Github/nelson-lab-to-nwb/src/nelson_lab_to_nwb/blackrock_sessions_converter/metadata_example.yaml\",\n",
    "    behavioral_events_time_offset=5,\n",
    "    stub_test=False,\n",
    "    overwrite=True,\n",
    "    verbose=True,\n",
    ")"
   ]
  },
  {
   "cell_type": "markdown",
   "id": "d4679d12-c109-4d42-b059-61d73fc2eaad",
   "metadata": {},
   "source": [
    "# Inspect converted data"
   ]
  },
  {
   "cell_type": "code",
   "execution_count": null,
   "id": "4136c04d-7aa7-48ef-a749-47cfba3750ba",
   "metadata": {},
   "outputs": [],
   "source": [
    "from pynwb import NWBHDF5IO\n",
    "from nwbwidgets import nwb2widget\n",
    "\n",
    "io = NWBHDF5IO(\"output_folder/subid012345_20230718T19.nwb\", mode='r')\n",
    "nwbfile = io.read()\n",
    "nwbfile"
   ]
  },
  {
   "cell_type": "code",
   "execution_count": null,
   "id": "256320d0-6bb3-44ae-8278-ae0160da1f32",
   "metadata": {},
   "outputs": [],
   "source": [
    "nwb2widget(nwbfile)"
   ]
  },
  {
   "cell_type": "code",
   "execution_count": null,
   "id": "1cb1523b-cdef-4ba8-a4c6-a62517e8730f",
   "metadata": {},
   "outputs": [],
   "source": [
    "io.close()"
   ]
  }
 ],
 "metadata": {
  "kernelspec": {
   "display_name": "nelson_lab_to_nwb_env",
   "language": "python",
   "name": "nelson_lab_to_nwb_env"
  },
  "language_info": {
   "codemirror_mode": {
    "name": "ipython",
    "version": 3
   },
   "file_extension": ".py",
   "mimetype": "text/x-python",
   "name": "python",
   "nbconvert_exporter": "python",
   "pygments_lexer": "ipython3",
   "version": "3.12.1"
  }
 },
 "nbformat": 4,
 "nbformat_minor": 5
}
