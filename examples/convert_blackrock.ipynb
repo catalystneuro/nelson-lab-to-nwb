{
 "cells": [
  {
   "cell_type": "code",
   "execution_count": 1,
   "id": "ba29ff9e-9f46-4848-acbd-7aecda7de74b",
   "metadata": {},
   "outputs": [],
   "source": [
    "%load_ext autoreload\n",
    "%autoreload 2"
   ]
  },
  {
   "cell_type": "code",
   "execution_count": 2,
   "id": "93347100-3df4-4fd9-8056-a58b649ec724",
   "metadata": {},
   "outputs": [],
   "source": [
    "from datetime import datetime\n",
    "from dateutil import tz\n",
    "from pathlib import Path\n",
    "import yaml\n",
    "from nelson_lab_to_nwb.blackrock_sessions_converter import BlackrockNWBConverter\n",
    "from neuroconv.datainterfaces import BlackrockRecordingInterface, BlackrockSortingInterface\n",
    "from neuroconv.utils.dict import load_dict_from_file, dict_deep_update"
   ]
  },
  {
   "cell_type": "code",
   "execution_count": 3,
   "id": "0c1d9164-e5a8-493a-874b-ed378986a525",
   "metadata": {},
   "outputs": [
    {
     "name": "stdout",
     "output_type": "stream",
     "text": [
      "Source data is valid!\n"
     ]
    }
   ],
   "source": [
    "# set the source data for the Converter\n",
    "source_data = dict(\n",
    "    BlackrockRaw=dict(\n",
    "        file_path=\"/media/luiz/Seagate Basic/storage/catalystneuro/nelson_lab/Raw_BlackRock_withCognitiveEvents/BlackRock_raw_H0.2_071823001.ns6\"\n",
    "    ),\n",
    "    BlackrockLFP=dict(\n",
    "        file_path=\"/media/luiz/Seagate Basic/storage/catalystneuro/nelson_lab/Raw_BlackRock_withCognitiveEvents/BlackRock_raw_H0.2_071823001.ns2\"\n",
    "    ),\n",
    "    BlackrockSorting=dict(\n",
    "        file_path=\"/media/luiz/Seagate Basic/storage/catalystneuro/nelson_lab/Raw_BlackRock_withCognitiveEvents/BlackRock_raw_H0.2_071823001.nev\",\n",
    "        sampling_frequency=30000,\n",
    "    )\n",
    ")\n",
    "\n",
    "# Instantiate the Converter\n",
    "converter = BlackrockNWBConverter(source_data)\n",
    "\n",
    "# Automatically fetch metadata from files, then update it with user-defined metadata\n",
    "source_metadata = converter.get_metadata()\n",
    "user_metadata_file = \"/mnt/shared_storage/Github/nelson-lab-to-nwb/src/nelson_lab_to_nwb/blackrock_sessions_converter/metadata_example.yaml\"\n",
    "user_metadata = load_dict_from_file(file_path=user_metadata_file)\n",
    "metadata = dict_deep_update(source_metadata, user_metadata)"
   ]
  },
  {
   "cell_type": "code",
   "execution_count": 4,
   "id": "76b5258d-55a5-42df-a4b3-f72b9d135deb",
   "metadata": {},
   "outputs": [
    {
     "name": "stdout",
     "output_type": "stream",
     "text": [
      "DeepDict: {'NWBFile': {'session_description': 'Blackrock recording session', 'identifier': '3b7182f0-21fa-413e-b6f4-7cec100ff422', 'session_start_time': '2023-07-18T19:33:06', 'institution': 'University of California San Francisco', 'lab': 'Nelson Lab', 'experimenter': ['Last, First Middle']}, 'Ecephys': {'Device': [{'name': 'DeviceEcephys', 'description': 'no description'}], 'ElectrodeGroup': [{'name': 'ElectrodeGroup', 'description': 'no description', 'location': 'unknown', 'device': 'DeviceEcephys'}], 'ElectricalSeries': {'name': 'ElectricalSeries', 'description': 'Acquisition traces for the ElectricalSeries.'}}, 'Subject': {'subject_id': 'subid012345', 'genotype': 'not defined', 'description': 'not defined', 'species': 'Mus musculus', 'date_of_birth': '2023-03-17T00:00:00', 'sex': 'F'}}\n"
     ]
    }
   ],
   "source": [
    "print(metadata)"
   ]
  },
  {
   "cell_type": "code",
   "execution_count": 5,
   "id": "1a406cf9-0bda-49f0-b6fd-8e8fb21621ef",
   "metadata": {},
   "outputs": [
    {
     "name": "stdout",
     "output_type": "stream",
     "text": [
      "Metadata is valid!\n",
      "conversion_options is valid!\n"
     ]
    },
    {
     "name": "stderr",
     "output_type": "stream",
     "text": [
      "/home/luiz/anaconda3/envs/nelson_lab_to_nwb_env/lib/python3.12/site-packages/pynwb/file.py:146: UserWarning: Date is missing timezone information. Updating to local timezone.\n",
      "  args_to_set['date_of_birth'] = _add_missing_timezone(date_of_birth)\n",
      "/home/luiz/anaconda3/envs/nelson_lab_to_nwb_env/lib/python3.12/site-packages/pynwb/file.py:471: UserWarning: Date is missing timezone information. Updating to local timezone.\n",
      "  args_to_set['session_start_time'] = _add_missing_timezone(session_start_time)\n"
     ]
    },
    {
     "name": "stdout",
     "output_type": "stream",
     "text": [
      "NWB file saved at converted_blackrock.nwb!\n"
     ]
    }
   ],
   "source": [
    "# Conversion options\n",
    "conversion_options = dict(\n",
    "    BlackrockRaw=dict(\n",
    "        stub_test=True,\n",
    "    ),\n",
    "    BlackrockLFP=dict(\n",
    "        write_as=\"lfp\"\n",
    "    )\n",
    ")\n",
    "\n",
    "# Run conversion\n",
    "converter.run_conversion(\n",
    "    metadata=metadata,\n",
    "    nwbfile_path=\"converted_blackrock.nwb\",\n",
    "    overwrite=True,\n",
    "    conversion_options=conversion_options\n",
    ")"
   ]
  },
  {
   "cell_type": "code",
   "execution_count": null,
   "id": "d8abec60-e522-4edf-a464-59acce84f638",
   "metadata": {},
   "outputs": [],
   "source": []
  },
  {
   "cell_type": "code",
   "execution_count": 6,
   "id": "aa25e2ff-1c13-4e58-83fa-aeccb0cdbb27",
   "metadata": {},
   "outputs": [
    {
     "data": {
      "application/vnd.jupyter.widget-view+json": {
       "model_id": "797509a2b8ea4d008c2a3df9ea81bd20",
       "version_major": 2,
       "version_minor": 0
      },
      "text/plain": [
       "VBox(children=(HBox(children=(Label(value='session_description:', layout=Layout(max_height='40px', max_width='…"
      ]
     },
     "execution_count": 6,
     "metadata": {},
     "output_type": "execute_result"
    }
   ],
   "source": [
    "from pynwb import NWBHDF5IO\n",
    "from nwbwidgets import nwb2widget\n",
    "\n",
    "io = NWBHDF5IO(\"converted_blackrock.nwb\", mode='r')\n",
    "nwb = io.read()\n",
    "\n",
    "nwb2widget(nwb)"
   ]
  },
  {
   "cell_type": "code",
   "execution_count": 7,
   "id": "5f0c0139-daa1-4432-ab7d-851c2232c00d",
   "metadata": {},
   "outputs": [
    {
     "data": {
      "text/html": [
       "\n",
       "        <style>\n",
       "            .container-fields {\n",
       "                font-family: \"Open Sans\", Arial, sans-serif;\n",
       "            }\n",
       "            .container-fields .field-value {\n",
       "                color: #00788E;\n",
       "            }\n",
       "            .container-fields details > summary {\n",
       "                cursor: pointer;\n",
       "                display: list-item;\n",
       "            }\n",
       "            .container-fields details > summary:hover {\n",
       "                color: #0A6EAA;\n",
       "            }\n",
       "        </style>\n",
       "        \n",
       "        <script>\n",
       "            function copyToClipboard(text) {\n",
       "                navigator.clipboard.writeText(text).then(function() {\n",
       "                    console.log('Copied to clipboard: ' + text);\n",
       "                }, function(err) {\n",
       "                    console.error('Could not copy text: ', err);\n",
       "                });\n",
       "            }\n",
       "\n",
       "            document.addEventListener('DOMContentLoaded', function() {\n",
       "                let fieldKeys = document.querySelectorAll('.container-fields .field-key');\n",
       "                fieldKeys.forEach(function(fieldKey) {\n",
       "                    fieldKey.addEventListener('click', function() {\n",
       "                        let accessCode = fieldKey.getAttribute('title').replace('Access code: ', '');\n",
       "                        copyToClipboard(accessCode);\n",
       "                    });\n",
       "                });\n",
       "            });\n",
       "        </script>\n",
       "        <div class='container-wrap'><div class='container-header'><div class='xr-obj-type'><h3>root (NWBFile)</h3></div></div><div style=\"margin-left: 0px;\" class=\"container-fields\"><span class=\"field-key\" title=\".session_description\">session_description: </span><span class=\"field-value\">Blackrock recording session</span></div><div style=\"margin-left: 0px;\" class=\"container-fields\"><span class=\"field-key\" title=\".identifier\">identifier: </span><span class=\"field-value\">3b7182f0-21fa-413e-b6f4-7cec100ff422</span></div><details><summary style=\"display: list-item; margin-left: 0px;\" class=\"container-fields field-key\" title=\".session_start_time\"><b>session_start_time</b></summary><span class=\"field-key\">2023-07-18 19:33:06+02:00</span></details><details><summary style=\"display: list-item; margin-left: 0px;\" class=\"container-fields field-key\" title=\".timestamps_reference_time\"><b>timestamps_reference_time</b></summary><span class=\"field-key\">2023-07-18 19:33:06+02:00</span></details><details><summary style=\"display: list-item; margin-left: 0px;\" class=\"container-fields field-key\" title=\".file_create_date\"><b>file_create_date</b></summary><details><summary style=\"display: list-item; margin-left: 20px;\" class=\"container-fields field-key\" title=\".file_create_date[0]\"><b>0</b></summary><span class=\"field-key\">2024-04-15 14:19:13.563628+02:00</span></details></details><details><summary style=\"display: list-item; margin-left: 0px;\" class=\"container-fields field-key\" title=\".experimenter\"><b>experimenter</b></summary><span class=\"field-key\">('Last, First Middle',)</span></details><details><summary style=\"display: list-item; margin-left: 0px;\" class=\"container-fields field-key\" title=\".acquisition\"><b>acquisition</b></summary><details><summary style=\"display: list-item; margin-left: 20px;\" class=\"container-fields field-key\" title=\".acquisition['ElectricalSeries']\"><b>ElectricalSeries</b></summary><div style=\"margin-left: 40px;\" class=\"container-fields\"><span class=\"field-key\" title=\".acquisition['ElectricalSeries'].starting_time\">starting_time: </span><span class=\"field-value\">0.0</span></div><div style=\"margin-left: 40px;\" class=\"container-fields\"><span class=\"field-key\" title=\".acquisition['ElectricalSeries'].rate\">rate: </span><span class=\"field-value\">30000.0</span></div><div style=\"margin-left: 40px;\" class=\"container-fields\"><span class=\"field-key\" title=\".acquisition['ElectricalSeries'].resolution\">resolution: </span><span class=\"field-value\">-1.0</span></div><div style=\"margin-left: 40px;\" class=\"container-fields\"><span class=\"field-key\" title=\".acquisition['ElectricalSeries'].comments\">comments: </span><span class=\"field-value\">no comments</span></div><div style=\"margin-left: 40px;\" class=\"container-fields\"><span class=\"field-key\" title=\".acquisition['ElectricalSeries'].description\">description: </span><span class=\"field-value\">Acquisition traces for the ElectricalSeries.</span></div><div style=\"margin-left: 40px;\" class=\"container-fields\"><span class=\"field-key\" title=\".acquisition['ElectricalSeries'].conversion\">conversion: </span><span class=\"field-value\">2.5e-07</span></div><div style=\"margin-left: 40px;\" class=\"container-fields\"><span class=\"field-key\" title=\".acquisition['ElectricalSeries'].offset\">offset: </span><span class=\"field-value\">0.0</span></div><div style=\"margin-left: 40px;\" class=\"container-fields\"><span class=\"field-key\" title=\".acquisition['ElectricalSeries'].unit\">unit: </span><span class=\"field-value\">volts</span></div><details><summary style=\"display: list-item; margin-left: 40px;\" class=\"container-fields field-key\" title=\".acquisition['ElectricalSeries'].data\"><b>data</b></summary></details><div style=\"margin-left: 40px;\" class=\"container-fields\"><span class=\"field-key\" title=\".acquisition['ElectricalSeries'].starting_time_unit\">starting_time_unit: </span><span class=\"field-value\">seconds</span></div><details><summary style=\"display: list-item; margin-left: 40px;\" class=\"container-fields field-key\" title=\".acquisition['ElectricalSeries'].electrodes\"><b>electrodes</b></summary><div style=\"margin-left: 60px;\" class=\"container-fields\"><span class=\"field-key\" title=\".acquisition['ElectricalSeries'].electrodes.description\">description: </span><span class=\"field-value\">electrode_table_region</span></div><details><summary style=\"display: list-item; margin-left: 60px;\" class=\"container-fields field-key\" title=\".acquisition['ElectricalSeries'].electrodes.table\"><b>table</b></summary><div style=\"margin-left: 80px;\" class=\"container-fields\"><span class=\"field-key\" title=\".acquisition['ElectricalSeries'].electrodes.table\">description: </span><span class=\"field-value\">metadata about extracellular electrodes</span></div><details><summary style=\"display: list-item; margin-left: 80px;\" class=\"container-fields field-key\" title=\".acquisition['ElectricalSeries'].electrodes.table\"><b>table</b></summary><table border=\"1\" class=\"dataframe\">\n",
       "  <thead>\n",
       "    <tr style=\"text-align: right;\">\n",
       "      <th></th>\n",
       "      <th>location</th>\n",
       "      <th>group</th>\n",
       "      <th>group_name</th>\n",
       "      <th>channel_name</th>\n",
       "      <th>gain_to_uV</th>\n",
       "      <th>offset_to_uV</th>\n",
       "    </tr>\n",
       "    <tr>\n",
       "      <th>id</th>\n",
       "      <th></th>\n",
       "      <th></th>\n",
       "      <th></th>\n",
       "      <th></th>\n",
       "      <th></th>\n",
       "      <th></th>\n",
       "    </tr>\n",
       "  </thead>\n",
       "  <tbody>\n",
       "    <tr>\n",
       "      <th>0</th>\n",
       "      <td>unknown</td>\n",
       "      <td>ElectrodeGroup pynwb.ecephys.ElectrodeGroup at 0x140157625390992\\nFields:\\n  description: no description\\n  device: DeviceEcephys pynwb.device.Device at 0x140157627037792\\nFields:\\n  description: no description\\n\\n  location: unknown\\n</td>\n",
       "      <td>ElectrodeGroup</td>\n",
       "      <td>sig001</td>\n",
       "      <td>0.25</td>\n",
       "      <td>0.0</td>\n",
       "    </tr>\n",
       "    <tr>\n",
       "      <th>1</th>\n",
       "      <td>unknown</td>\n",
       "      <td>ElectrodeGroup pynwb.ecephys.ElectrodeGroup at 0x140157625390992\\nFields:\\n  description: no description\\n  device: DeviceEcephys pynwb.device.Device at 0x140157627037792\\nFields:\\n  description: no description\\n\\n  location: unknown\\n</td>\n",
       "      <td>ElectrodeGroup</td>\n",
       "      <td>sig002</td>\n",
       "      <td>0.25</td>\n",
       "      <td>0.0</td>\n",
       "    </tr>\n",
       "    <tr>\n",
       "      <th>2</th>\n",
       "      <td>unknown</td>\n",
       "      <td>ElectrodeGroup pynwb.ecephys.ElectrodeGroup at 0x140157625390992\\nFields:\\n  description: no description\\n  device: DeviceEcephys pynwb.device.Device at 0x140157627037792\\nFields:\\n  description: no description\\n\\n  location: unknown\\n</td>\n",
       "      <td>ElectrodeGroup</td>\n",
       "      <td>sig003</td>\n",
       "      <td>0.25</td>\n",
       "      <td>0.0</td>\n",
       "    </tr>\n",
       "    <tr>\n",
       "      <th>3</th>\n",
       "      <td>unknown</td>\n",
       "      <td>ElectrodeGroup pynwb.ecephys.ElectrodeGroup at 0x140157625390992\\nFields:\\n  description: no description\\n  device: DeviceEcephys pynwb.device.Device at 0x140157627037792\\nFields:\\n  description: no description\\n\\n  location: unknown\\n</td>\n",
       "      <td>ElectrodeGroup</td>\n",
       "      <td>sig004</td>\n",
       "      <td>0.25</td>\n",
       "      <td>0.0</td>\n",
       "    </tr>\n",
       "  </tbody>\n",
       "</table><p>... and 28 more rows.</p></details></details></details></details></details><details><summary style=\"display: list-item; margin-left: 0px;\" class=\"container-fields field-key\" title=\".processing\"><b>processing</b></summary><details><summary style=\"display: list-item; margin-left: 20px;\" class=\"container-fields field-key\" title=\".processing['ecephys']\"><b>ecephys</b></summary><div style=\"margin-left: 40px;\" class=\"container-fields\"><span class=\"field-key\" title=\".processing['ecephys'].description\">description: </span><span class=\"field-value\">Intermediate data from extracellular electrophysiology recordings, e.g., LFP.</span></div><details><summary style=\"display: list-item; margin-left: 40px;\" class=\"container-fields field-key\" title=\".processing['ecephys'].data_interfaces\"><b>data_interfaces</b></summary><details><summary style=\"display: list-item; margin-left: 60px;\" class=\"container-fields field-key\" title=\".processing['ecephys'].data_interfaces['LFP']\"><b>LFP</b></summary><details><summary style=\"display: list-item; margin-left: 80px;\" class=\"container-fields field-key\" title=\".processing['ecephys'].data_interfaces['LFP'].electrical_series\"><b>electrical_series</b></summary><details><summary style=\"display: list-item; margin-left: 100px;\" class=\"container-fields field-key\" title=\".processing['ecephys'].data_interfaces['LFP'].electrical_series['ElectricalSeries']\"><b>ElectricalSeries</b></summary><div style=\"margin-left: 120px;\" class=\"container-fields\"><span class=\"field-key\" title=\".processing['ecephys'].data_interfaces['LFP'].electrical_series['ElectricalSeries'].starting_time\">starting_time: </span><span class=\"field-value\">0.0</span></div><div style=\"margin-left: 120px;\" class=\"container-fields\"><span class=\"field-key\" title=\".processing['ecephys'].data_interfaces['LFP'].electrical_series['ElectricalSeries'].rate\">rate: </span><span class=\"field-value\">1000.0</span></div><div style=\"margin-left: 120px;\" class=\"container-fields\"><span class=\"field-key\" title=\".processing['ecephys'].data_interfaces['LFP'].electrical_series['ElectricalSeries'].resolution\">resolution: </span><span class=\"field-value\">-1.0</span></div><div style=\"margin-left: 120px;\" class=\"container-fields\"><span class=\"field-key\" title=\".processing['ecephys'].data_interfaces['LFP'].electrical_series['ElectricalSeries'].comments\">comments: </span><span class=\"field-value\">no comments</span></div><div style=\"margin-left: 120px;\" class=\"container-fields\"><span class=\"field-key\" title=\".processing['ecephys'].data_interfaces['LFP'].electrical_series['ElectricalSeries'].description\">description: </span><span class=\"field-value\">Acquisition traces for the ElectricalSeries.</span></div><div style=\"margin-left: 120px;\" class=\"container-fields\"><span class=\"field-key\" title=\".processing['ecephys'].data_interfaces['LFP'].electrical_series['ElectricalSeries'].conversion\">conversion: </span><span class=\"field-value\">2.5e-07</span></div><div style=\"margin-left: 120px;\" class=\"container-fields\"><span class=\"field-key\" title=\".processing['ecephys'].data_interfaces['LFP'].electrical_series['ElectricalSeries'].offset\">offset: </span><span class=\"field-value\">0.0</span></div><div style=\"margin-left: 120px;\" class=\"container-fields\"><span class=\"field-key\" title=\".processing['ecephys'].data_interfaces['LFP'].electrical_series['ElectricalSeries'].unit\">unit: </span><span class=\"field-value\">volts</span></div><details><summary style=\"display: list-item; margin-left: 120px;\" class=\"container-fields field-key\" title=\".processing['ecephys'].data_interfaces['LFP'].electrical_series['ElectricalSeries'].data\"><b>data</b></summary></details><div style=\"margin-left: 120px;\" class=\"container-fields\"><span class=\"field-key\" title=\".processing['ecephys'].data_interfaces['LFP'].electrical_series['ElectricalSeries'].starting_time_unit\">starting_time_unit: </span><span class=\"field-value\">seconds</span></div><details><summary style=\"display: list-item; margin-left: 120px;\" class=\"container-fields field-key\" title=\".processing['ecephys'].data_interfaces['LFP'].electrical_series['ElectricalSeries'].electrodes\"><b>electrodes</b></summary><div style=\"margin-left: 140px;\" class=\"container-fields\"><span class=\"field-key\" title=\".processing['ecephys'].data_interfaces['LFP'].electrical_series['ElectricalSeries'].electrodes.description\">description: </span><span class=\"field-value\">electrode_table_region</span></div><details><summary style=\"display: list-item; margin-left: 140px;\" class=\"container-fields field-key\" title=\".processing['ecephys'].data_interfaces['LFP'].electrical_series['ElectricalSeries'].electrodes.table\"><b>table</b></summary><div style=\"margin-left: 160px;\" class=\"container-fields\"><span class=\"field-key\" title=\".processing['ecephys'].data_interfaces['LFP'].electrical_series['ElectricalSeries'].electrodes.table\">description: </span><span class=\"field-value\">metadata about extracellular electrodes</span></div><details><summary style=\"display: list-item; margin-left: 160px;\" class=\"container-fields field-key\" title=\".processing['ecephys'].data_interfaces['LFP'].electrical_series['ElectricalSeries'].electrodes.table\"><b>table</b></summary><table border=\"1\" class=\"dataframe\">\n",
       "  <thead>\n",
       "    <tr style=\"text-align: right;\">\n",
       "      <th></th>\n",
       "      <th>location</th>\n",
       "      <th>group</th>\n",
       "      <th>group_name</th>\n",
       "      <th>channel_name</th>\n",
       "      <th>gain_to_uV</th>\n",
       "      <th>offset_to_uV</th>\n",
       "    </tr>\n",
       "    <tr>\n",
       "      <th>id</th>\n",
       "      <th></th>\n",
       "      <th></th>\n",
       "      <th></th>\n",
       "      <th></th>\n",
       "      <th></th>\n",
       "      <th></th>\n",
       "    </tr>\n",
       "  </thead>\n",
       "  <tbody>\n",
       "    <tr>\n",
       "      <th>0</th>\n",
       "      <td>unknown</td>\n",
       "      <td>ElectrodeGroup pynwb.ecephys.ElectrodeGroup at 0x140157625390992\\nFields:\\n  description: no description\\n  device: DeviceEcephys pynwb.device.Device at 0x140157627037792\\nFields:\\n  description: no description\\n\\n  location: unknown\\n</td>\n",
       "      <td>ElectrodeGroup</td>\n",
       "      <td>sig001</td>\n",
       "      <td>0.25</td>\n",
       "      <td>0.0</td>\n",
       "    </tr>\n",
       "    <tr>\n",
       "      <th>1</th>\n",
       "      <td>unknown</td>\n",
       "      <td>ElectrodeGroup pynwb.ecephys.ElectrodeGroup at 0x140157625390992\\nFields:\\n  description: no description\\n  device: DeviceEcephys pynwb.device.Device at 0x140157627037792\\nFields:\\n  description: no description\\n\\n  location: unknown\\n</td>\n",
       "      <td>ElectrodeGroup</td>\n",
       "      <td>sig002</td>\n",
       "      <td>0.25</td>\n",
       "      <td>0.0</td>\n",
       "    </tr>\n",
       "    <tr>\n",
       "      <th>2</th>\n",
       "      <td>unknown</td>\n",
       "      <td>ElectrodeGroup pynwb.ecephys.ElectrodeGroup at 0x140157625390992\\nFields:\\n  description: no description\\n  device: DeviceEcephys pynwb.device.Device at 0x140157627037792\\nFields:\\n  description: no description\\n\\n  location: unknown\\n</td>\n",
       "      <td>ElectrodeGroup</td>\n",
       "      <td>sig003</td>\n",
       "      <td>0.25</td>\n",
       "      <td>0.0</td>\n",
       "    </tr>\n",
       "    <tr>\n",
       "      <th>3</th>\n",
       "      <td>unknown</td>\n",
       "      <td>ElectrodeGroup pynwb.ecephys.ElectrodeGroup at 0x140157625390992\\nFields:\\n  description: no description\\n  device: DeviceEcephys pynwb.device.Device at 0x140157627037792\\nFields:\\n  description: no description\\n\\n  location: unknown\\n</td>\n",
       "      <td>ElectrodeGroup</td>\n",
       "      <td>sig004</td>\n",
       "      <td>0.25</td>\n",
       "      <td>0.0</td>\n",
       "    </tr>\n",
       "  </tbody>\n",
       "</table><p>... and 28 more rows.</p></details></details></details></details></details></details></details></details></details><details><summary style=\"display: list-item; margin-left: 0px;\" class=\"container-fields field-key\" title=\".epoch_tags\"><b>epoch_tags</b></summary><span class=\"field-key\">set()</span></details><details><summary style=\"display: list-item; margin-left: 0px;\" class=\"container-fields field-key\" title=\".electrodes\"><b>electrodes</b></summary><div style=\"margin-left: 20px;\" class=\"container-fields\"><span class=\"field-key\" title=\".electrodes\">description: </span><span class=\"field-value\">metadata about extracellular electrodes</span></div><details><summary style=\"display: list-item; margin-left: 20px;\" class=\"container-fields field-key\" title=\".electrodes\"><b>table</b></summary><table border=\"1\" class=\"dataframe\">\n",
       "  <thead>\n",
       "    <tr style=\"text-align: right;\">\n",
       "      <th></th>\n",
       "      <th>location</th>\n",
       "      <th>group</th>\n",
       "      <th>group_name</th>\n",
       "      <th>channel_name</th>\n",
       "      <th>gain_to_uV</th>\n",
       "      <th>offset_to_uV</th>\n",
       "    </tr>\n",
       "    <tr>\n",
       "      <th>id</th>\n",
       "      <th></th>\n",
       "      <th></th>\n",
       "      <th></th>\n",
       "      <th></th>\n",
       "      <th></th>\n",
       "      <th></th>\n",
       "    </tr>\n",
       "  </thead>\n",
       "  <tbody>\n",
       "    <tr>\n",
       "      <th>0</th>\n",
       "      <td>unknown</td>\n",
       "      <td>ElectrodeGroup pynwb.ecephys.ElectrodeGroup at 0x140157625390992\\nFields:\\n  description: no description\\n  device: DeviceEcephys pynwb.device.Device at 0x140157627037792\\nFields:\\n  description: no description\\n\\n  location: unknown\\n</td>\n",
       "      <td>ElectrodeGroup</td>\n",
       "      <td>sig001</td>\n",
       "      <td>0.25</td>\n",
       "      <td>0.0</td>\n",
       "    </tr>\n",
       "    <tr>\n",
       "      <th>1</th>\n",
       "      <td>unknown</td>\n",
       "      <td>ElectrodeGroup pynwb.ecephys.ElectrodeGroup at 0x140157625390992\\nFields:\\n  description: no description\\n  device: DeviceEcephys pynwb.device.Device at 0x140157627037792\\nFields:\\n  description: no description\\n\\n  location: unknown\\n</td>\n",
       "      <td>ElectrodeGroup</td>\n",
       "      <td>sig002</td>\n",
       "      <td>0.25</td>\n",
       "      <td>0.0</td>\n",
       "    </tr>\n",
       "    <tr>\n",
       "      <th>2</th>\n",
       "      <td>unknown</td>\n",
       "      <td>ElectrodeGroup pynwb.ecephys.ElectrodeGroup at 0x140157625390992\\nFields:\\n  description: no description\\n  device: DeviceEcephys pynwb.device.Device at 0x140157627037792\\nFields:\\n  description: no description\\n\\n  location: unknown\\n</td>\n",
       "      <td>ElectrodeGroup</td>\n",
       "      <td>sig003</td>\n",
       "      <td>0.25</td>\n",
       "      <td>0.0</td>\n",
       "    </tr>\n",
       "    <tr>\n",
       "      <th>3</th>\n",
       "      <td>unknown</td>\n",
       "      <td>ElectrodeGroup pynwb.ecephys.ElectrodeGroup at 0x140157625390992\\nFields:\\n  description: no description\\n  device: DeviceEcephys pynwb.device.Device at 0x140157627037792\\nFields:\\n  description: no description\\n\\n  location: unknown\\n</td>\n",
       "      <td>ElectrodeGroup</td>\n",
       "      <td>sig004</td>\n",
       "      <td>0.25</td>\n",
       "      <td>0.0</td>\n",
       "    </tr>\n",
       "  </tbody>\n",
       "</table><p>... and 28 more rows.</p></details></details><details><summary style=\"display: list-item; margin-left: 0px;\" class=\"container-fields field-key\" title=\".electrode_groups\"><b>electrode_groups</b></summary><details><summary style=\"display: list-item; margin-left: 20px;\" class=\"container-fields field-key\" title=\".electrode_groups['ElectrodeGroup']\"><b>ElectrodeGroup</b></summary><div style=\"margin-left: 40px;\" class=\"container-fields\"><span class=\"field-key\" title=\".electrode_groups['ElectrodeGroup'].description\">description: </span><span class=\"field-value\">no description</span></div><div style=\"margin-left: 40px;\" class=\"container-fields\"><span class=\"field-key\" title=\".electrode_groups['ElectrodeGroup'].location\">location: </span><span class=\"field-value\">unknown</span></div><details><summary style=\"display: list-item; margin-left: 40px;\" class=\"container-fields field-key\" title=\".electrode_groups['ElectrodeGroup'].device\"><b>device</b></summary><div style=\"margin-left: 60px;\" class=\"container-fields\"><span class=\"field-key\" title=\".electrode_groups['ElectrodeGroup'].device.description\">description: </span><span class=\"field-value\">no description</span></div></details></details></details><details><summary style=\"display: list-item; margin-left: 0px;\" class=\"container-fields field-key\" title=\".devices\"><b>devices</b></summary><details><summary style=\"display: list-item; margin-left: 20px;\" class=\"container-fields field-key\" title=\".devices['DeviceEcephys']\"><b>DeviceEcephys</b></summary><div style=\"margin-left: 40px;\" class=\"container-fields\"><span class=\"field-key\" title=\".devices['DeviceEcephys'].description\">description: </span><span class=\"field-value\">no description</span></div></details></details><details><summary style=\"display: list-item; margin-left: 0px;\" class=\"container-fields field-key\" title=\".subject\"><b>subject</b></summary><div style=\"margin-left: 20px;\" class=\"container-fields\"><span class=\"field-key\" title=\".subject.age__reference\">age__reference: </span><span class=\"field-value\">birth</span></div><div style=\"margin-left: 20px;\" class=\"container-fields\"><span class=\"field-key\" title=\".subject.description\">description: </span><span class=\"field-value\">not defined</span></div><div style=\"margin-left: 20px;\" class=\"container-fields\"><span class=\"field-key\" title=\".subject.genotype\">genotype: </span><span class=\"field-value\">not defined</span></div><div style=\"margin-left: 20px;\" class=\"container-fields\"><span class=\"field-key\" title=\".subject.sex\">sex: </span><span class=\"field-value\">F</span></div><div style=\"margin-left: 20px;\" class=\"container-fields\"><span class=\"field-key\" title=\".subject.species\">species: </span><span class=\"field-value\">Mus musculus</span></div><div style=\"margin-left: 20px;\" class=\"container-fields\"><span class=\"field-key\" title=\".subject.subject_id\">subject_id: </span><span class=\"field-value\">subid012345</span></div><details><summary style=\"display: list-item; margin-left: 20px;\" class=\"container-fields field-key\" title=\".subject.date_of_birth\"><b>date_of_birth</b></summary><span class=\"field-key\">2023-03-17 00:00:00+01:00</span></details></details><details><summary style=\"display: list-item; margin-left: 0px;\" class=\"container-fields field-key\" title=\".units\"><b>units</b></summary><div style=\"margin-left: 20px;\" class=\"container-fields\"><span class=\"field-key\" title=\".units\">description: </span><span class=\"field-value\">Autogenerated by neuroconv.</span></div><div style=\"margin-left: 20px;\" class=\"container-fields\"><span class=\"field-key\" title=\".units\">waveform_unit: </span><span class=\"field-value\">volts</span></div><details><summary style=\"display: list-item; margin-left: 20px;\" class=\"container-fields field-key\" title=\".units\"><b>table</b></summary><table border=\"1\" class=\"dataframe\">\n",
       "  <thead>\n",
       "    <tr style=\"text-align: right;\">\n",
       "      <th></th>\n",
       "      <th>spike_times</th>\n",
       "      <th>unit_name</th>\n",
       "    </tr>\n",
       "    <tr>\n",
       "      <th>id</th>\n",
       "      <th></th>\n",
       "      <th></th>\n",
       "    </tr>\n",
       "  </thead>\n",
       "  <tbody>\n",
       "    <tr>\n",
       "      <th>0</th>\n",
       "      <td>[0.0053, 0.0195, 0.04073333333333334, 0.056933333333333336, 0.1102, 0.11636666666666666, 0.14233333333333334, 0.1518, 0.17526666666666665, 0.21313333333333334, 0.23126666666666668, 0.2512, 0.27473333333333333, 0.33863333333333334, 0.3499333333333333, 0.3697, 0.46936666666666665, 0.49856666666666666, 0.5173, 0.5217, 0.5417666666666666, 0.5493, 0.5839333333333333, 0.6137666666666667, 0.6217333333333334, 0.6585666666666666, 0.6794666666666667, 0.6964333333333333, 0.7, 0.7033666666666667, 0.7102333333333334, 0.7319333333333333, 0.7455333333333334, 0.7483666666666666, 0.7655666666666666, 0.7862333333333333, 0.7902, 0.8382333333333334, 0.8994666666666666, 0.9494666666666667, 0.9687666666666667, 0.9754333333333334, 0.9908, 0.9983333333333333, 1.0094333333333334, 1.0127666666666666, 1.0247333333333333, 1.0431, 1.059, 1.0703333333333334, 1.1356, 1.2324666666666666, 1.2474333333333334, 1.2510666666666668, 1.2606666666666666, 1.2659, 1.2908333333333333, 1.3137333333333334, 1.3960333333333332, 1.4061, 1.4527666666666668, 1.4914666666666667, 1.5240666666666667, 1.5839, 1.5983333333333334, 1.6263333333333334, 1.6376666666666666, 1.6460666666666666, 1.6542666666666668, 1.6649333333333334, 1.6783666666666666, 1.704, 1.7228, 1.7328, 1.7386666666666666, 1.7482333333333333, 1.7771333333333332, 1.7904666666666667, 1.7963333333333333, 1.8085333333333333, 1.8150333333333333, 1.8295333333333332, 1.8328, 1.8448, 1.8566, 1.8700666666666668, 1.8765, 1.9066, 1.9131333333333334, 1.9166666666666667, 1.9204666666666668, 1.9251, 1.9294333333333333, 1.9318, 1.9430333333333334, 1.9454, 1.9503333333333333, 1.9551, 1.9591, 1.9805, ...]</td>\n",
       "      <td>0</td>\n",
       "    </tr>\n",
       "    <tr>\n",
       "      <th>1</th>\n",
       "      <td>[0.045566666666666665, 0.05213333333333333, 0.14813333333333334, 0.16423333333333334, 0.20946666666666666, 0.24316666666666667, 0.2766, 0.28736666666666666, 0.30273333333333335, 0.3666, 0.43983333333333335, 0.46886666666666665, 0.47176666666666667, 0.5894666666666667, 0.6249, 0.6752, 0.6945, 0.7083333333333334, 0.8047333333333333, 0.9905333333333334, 1.0548333333333333, 1.0998, 1.2463, 1.4032666666666667, 1.4069333333333334, 1.4416, 1.6468666666666667, 1.6767333333333334, 1.7223666666666666, 1.7407, 1.75, 1.7574666666666667, 1.7762666666666667, 1.7877666666666667, 1.8010666666666666, 1.8058, 1.8089, 1.8110666666666666, 1.8305333333333333, 1.8490666666666666, 1.9195666666666666, 1.9391666666666667, 1.9453, 2.023233333333333, 2.0659, 2.0753333333333335, 2.2816666666666667, 2.3632666666666666, 2.399366666666667, 2.436, 2.492366666666667, 2.5262, 2.5547, 2.5888666666666666, 2.5928666666666667, 2.5967, 2.600966666666667, 2.6336666666666666, 2.6418, 2.6459, 2.650533333333333, 2.6533, 2.6601, 2.6744666666666665, 2.6768, 2.6825666666666668, 2.687133333333333, 2.6937, 2.699, 2.7058, 2.714733333333333, 2.727866666666667, 2.7331333333333334, 2.7495666666666665, 2.754766666666667, 2.7657, 2.771333333333333, 2.788, 2.7939, 2.7969, 2.804866666666667, 2.8205, 2.824, 2.8538, 2.8710666666666667, 2.8984, 2.9104666666666668, 2.9182, 2.9231666666666665, 2.9301666666666666, 2.9341666666666666, 2.9443, 2.9650333333333334, 2.971633333333333, 2.9773, 2.9872666666666667, 2.9973666666666667, 3.0003, 3.0190333333333332, 3.0258, ...]</td>\n",
       "      <td>1</td>\n",
       "    </tr>\n",
       "    <tr>\n",
       "      <th>2</th>\n",
       "      <td>[0.0199, 0.030566666666666666, 0.0491, 0.06463333333333333, 0.06763333333333334, 0.08336666666666667, 0.09173333333333333, 0.09533333333333334, 0.11473333333333334, 0.13743333333333332, 0.15206666666666666, 0.16523333333333334, 0.18783333333333332, 0.1903, 0.22856666666666667, 0.25826666666666664, 0.2669666666666667, 0.2718, 0.27926666666666666, 0.2817, 0.2910333333333333, 0.316, 0.3267333333333333, 0.3449, 0.3498, 0.3601666666666667, 0.37383333333333335, 0.3817, 0.3898, 0.4021666666666667, 0.41783333333333333, 0.4212, 0.42543333333333333, 0.4314, 0.4403666666666667, 0.45776666666666666, 0.4621, 0.49456666666666665, 0.5044, 0.5149333333333334, 0.5295, 0.5368666666666667, 0.5992, 0.6152333333333333, 0.6328, 0.6542333333333333, 0.6700666666666667, 0.6902, 0.7039666666666666, 0.7093, 0.7295333333333334, 0.8624333333333334, 0.8689666666666667, 0.9052, 0.9392666666666667, 0.9688666666666667, 0.9801, 0.9944333333333333, 1.0032666666666668, 1.0065666666666666, 1.0104333333333333, 1.0611333333333333, 1.0687666666666666, 1.0984333333333334, 1.1314333333333333, 1.1499333333333333, 1.1692666666666667, 1.2377, 1.2462666666666666, 1.2834333333333334, 1.3006333333333333, 1.3092666666666666, 1.3174666666666666, 1.3420333333333334, 1.3528333333333333, 1.3946, 1.4408, 1.4626333333333332, 1.5097666666666667, 1.53, 1.5589666666666666, 1.6190333333333333, 1.6253333333333333, 1.6363333333333334, 1.6567, 1.7517, 1.7701, 1.7781333333333333, 1.8032666666666666, 1.8097666666666667, 1.8175666666666668, 1.8269333333333333, 1.8314333333333332, 1.8390333333333333, 1.8449333333333333, 1.8779666666666666, 1.8824, 1.8937333333333333, 1.9157, 1.925, ...]</td>\n",
       "      <td>2</td>\n",
       "    </tr>\n",
       "    <tr>\n",
       "      <th>3</th>\n",
       "      <td>[0.017033333333333334, 0.021166666666666667, 0.025233333333333333, 0.030433333333333333, 0.034333333333333334, 0.03763333333333333, 0.08226666666666667, 0.0855, 0.08776666666666667, 0.10633333333333334, 0.11693333333333333, 0.1259, 0.22276666666666667, 0.23106666666666667, 0.2546, 0.28163333333333335, 0.3197, 0.3768, 0.3887, 0.4356, 0.45126666666666665, 0.481, 0.5714666666666667, 0.6762666666666667, 0.6879333333333333, 0.7130333333333333, 0.7201, 0.7540333333333333, 0.8387333333333333, 0.8685666666666667, 0.8727333333333334, 0.8972, 0.9211666666666667, 1.0681666666666667, 1.0875333333333332, 1.0971666666666666, 1.1118, 1.1196666666666666, 1.1346333333333334, 1.2444666666666666, 1.251, 1.3813, 1.4620333333333333, 1.5154666666666667, 1.5214, 1.6223333333333334, 1.7669, 1.8049333333333333, 1.8087666666666666, 1.8375333333333332, 1.8414666666666666, 1.8571666666666666, 1.8655333333333333, 1.8808, 1.9650666666666667, 1.9758, 1.9852, 1.9987666666666666, 2.0133666666666667, 2.0180333333333333, 2.0214333333333334, 2.0246, 2.0307666666666666, 2.0347, 2.0394666666666668, 2.0433, 2.0519333333333334, 2.0616333333333334, 2.0658333333333334, 2.0708333333333333, 2.0743666666666667, 2.0821, 2.0903, 2.0978, 2.1014666666666666, 2.1149333333333336, 2.1263666666666667, 2.1291333333333333, 2.1356, 2.1428333333333334, 2.1669666666666667, 2.17, 2.1761333333333335, 2.1789666666666667, 2.1937, 2.1988666666666665, 2.2054666666666667, 2.2114, 2.240666666666667, 2.317466666666667, 2.3321, 2.3463, 2.3722333333333334, 2.3806, 2.402633333333333, 2.4158, 2.4224, 2.4300333333333333, 2.444166666666667, 2.446066666666667, ...]</td>\n",
       "      <td>3</td>\n",
       "    </tr>\n",
       "  </tbody>\n",
       "</table><p>... and 24 more rows.</p></details></details><div style=\"margin-left: 0px;\" class=\"container-fields\"><span class=\"field-key\" title=\".lab\">lab: </span><span class=\"field-value\">Nelson Lab</span></div><div style=\"margin-left: 0px;\" class=\"container-fields\"><span class=\"field-key\" title=\".institution\">institution: </span><span class=\"field-value\">University of California San Francisco</span></div></div>"
      ],
      "text/plain": [
       "root pynwb.file.NWBFile at 0x140157630385520\n",
       "Fields:\n",
       "  acquisition: {\n",
       "    ElectricalSeries <class 'pynwb.ecephys.ElectricalSeries'>\n",
       "  }\n",
       "  devices: {\n",
       "    DeviceEcephys <class 'pynwb.device.Device'>\n",
       "  }\n",
       "  electrode_groups: {\n",
       "    ElectrodeGroup <class 'pynwb.ecephys.ElectrodeGroup'>\n",
       "  }\n",
       "  electrodes: electrodes <class 'hdmf.common.table.DynamicTable'>\n",
       "  experimenter: ['Last, First Middle']\n",
       "  file_create_date: [datetime.datetime(2024, 4, 15, 14, 19, 13, 563628, tzinfo=tzoffset(None, 7200))]\n",
       "  identifier: 3b7182f0-21fa-413e-b6f4-7cec100ff422\n",
       "  institution: University of California San Francisco\n",
       "  lab: Nelson Lab\n",
       "  processing: {\n",
       "    ecephys <class 'pynwb.base.ProcessingModule'>\n",
       "  }\n",
       "  session_description: Blackrock recording session\n",
       "  session_start_time: 2023-07-18 19:33:06+02:00\n",
       "  subject: subject pynwb.file.Subject at 0x140157626580336\n",
       "Fields:\n",
       "  age__reference: birth\n",
       "  date_of_birth: 2023-03-17 00:00:00+01:00\n",
       "  description: not defined\n",
       "  genotype: not defined\n",
       "  sex: F\n",
       "  species: Mus musculus\n",
       "  subject_id: subid012345\n",
       "\n",
       "  timestamps_reference_time: 2023-07-18 19:33:06+02:00\n",
       "  units: units <class 'pynwb.misc.Units'>"
      ]
     },
     "execution_count": 7,
     "metadata": {},
     "output_type": "execute_result"
    }
   ],
   "source": [
    "nwb"
   ]
  },
  {
   "cell_type": "code",
   "execution_count": null,
   "id": "ac80fa3c-25ea-40dd-9acf-13c3edf1d72e",
   "metadata": {},
   "outputs": [],
   "source": []
  },
  {
   "cell_type": "code",
   "execution_count": null,
   "id": "b19d711a-835b-4779-8420-30d0a4f211f0",
   "metadata": {},
   "outputs": [],
   "source": []
  },
  {
   "cell_type": "code",
   "execution_count": null,
   "id": "2d4e4952-11e7-4721-b612-224cd3dfcfd1",
   "metadata": {},
   "outputs": [],
   "source": []
  },
  {
   "cell_type": "code",
   "execution_count": null,
   "id": "6c91cd8a-a462-4d3a-8983-94ac3ec16c11",
   "metadata": {},
   "outputs": [],
   "source": []
  },
  {
   "cell_type": "code",
   "execution_count": null,
   "id": "c3eda246-4461-4c31-8bfe-0c2ae440f760",
   "metadata": {},
   "outputs": [],
   "source": []
  },
  {
   "cell_type": "code",
   "execution_count": null,
   "id": "6226c2e6-0709-4d9c-8935-2c49deb498e5",
   "metadata": {},
   "outputs": [],
   "source": []
  },
  {
   "cell_type": "markdown",
   "id": "34c73117-7239-45a5-a162-51523f239f80",
   "metadata": {},
   "source": [
    "# Data Interfaces"
   ]
  },
  {
   "cell_type": "code",
   "execution_count": null,
   "id": "6030e21b-fc21-40f1-80fe-bf1d82cc0e85",
   "metadata": {},
   "outputs": [],
   "source": [
    "file_path = \"/media/luiz/Seagate Basic/storage/catalystneuro/nelson_lab/Raw_BlackRock_withCognitiveEvents/BlackRock_raw_H0.2_071823001.ns6\"\n",
    "\n",
    "interface = BlackrockRecordingInterface(file_path=file_path, verbose=False)\n",
    "\n",
    "# Extract what metadata we can from the source files\n",
    "metadata = interface.get_metadata()\n",
    "\n",
    "# # For data provenance we add the time zone information to the conversion\n",
    "# session_start_time = metadata[\"NWBFile\"][\"session_start_time\"]\n",
    "# session_start_time = session_start_time.replace(tzinfo=tz.gettz(\"US/Pacific\")).isoformat()\n",
    "# metadata[\"NWBFile\"].update(session_start_time=session_start_time)\n",
    "\n",
    "# # Choose a path for saving the nwb file and run the conversion\n",
    "# nwbfile_path = f\"{path_to_save_nwbfile}\"\n",
    "# interface.run_conversion(nwbfile_path=nwbfile_path, metadata=metadata)"
   ]
  },
  {
   "cell_type": "code",
   "execution_count": null,
   "id": "42271c2f-be71-4f2f-89f3-fb4be57ba725",
   "metadata": {},
   "outputs": [],
   "source": [
    "rec = interface.recording_extractor\n",
    "nr = rec.neo_reader"
   ]
  },
  {
   "cell_type": "code",
   "execution_count": null,
   "id": "ac3b8395-8d4b-44ed-84e7-b23afa72e660",
   "metadata": {},
   "outputs": [],
   "source": [
    "rec"
   ]
  },
  {
   "cell_type": "code",
   "execution_count": null,
   "id": "9c77dae0-50c9-4fcb-b6aa-d263fb0881c9",
   "metadata": {},
   "outputs": [],
   "source": []
  },
  {
   "cell_type": "code",
   "execution_count": null,
   "id": "ed70179e-285f-408a-bb9f-94dc9a21783a",
   "metadata": {},
   "outputs": [],
   "source": [
    "interface.get_metadata()"
   ]
  },
  {
   "cell_type": "code",
   "execution_count": null,
   "id": "50161b0e-a25b-4d9d-a586-6a15bc2a53ca",
   "metadata": {},
   "outputs": [],
   "source": []
  },
  {
   "cell_type": "code",
   "execution_count": null,
   "id": "8df242af-523f-4c63-9d1f-a7d7bfafa630",
   "metadata": {},
   "outputs": [],
   "source": []
  },
  {
   "cell_type": "code",
   "execution_count": null,
   "id": "3d7dfd9d-1f63-404e-b5c8-b0e2affdad13",
   "metadata": {},
   "outputs": [],
   "source": [
    "file_path = \"/media/luiz/Seagate Basic/storage/catalystneuro/nelson_lab/Raw_BlackRock_withCognitiveEvents/BlackRock_raw_H0.2_071823001.nev\"\n",
    "\n",
    "sorting_interface = BlackrockSortingInterface(\n",
    "    file_path=file_path,\n",
    "    sampling_frequency=30000,\n",
    "    verbose=False\n",
    ")"
   ]
  },
  {
   "cell_type": "code",
   "execution_count": null,
   "id": "a44cfa40-629e-4d44-8e00-61c5d4ca6a00",
   "metadata": {},
   "outputs": [],
   "source": [
    "se = sorting_interface.sorting_extractor"
   ]
  },
  {
   "cell_type": "code",
   "execution_count": null,
   "id": "e8330287-894e-4b94-aecb-42759fd0d6bb",
   "metadata": {},
   "outputs": [],
   "source": [
    "se.to_spike_vector()"
   ]
  },
  {
   "cell_type": "code",
   "execution_count": null,
   "id": "cac7beb9-9570-4b9c-b89e-369000b3c1b1",
   "metadata": {},
   "outputs": [],
   "source": []
  },
  {
   "cell_type": "code",
   "execution_count": null,
   "id": "5f70b496-77f5-48c7-a41e-e9d2d5553ab7",
   "metadata": {},
   "outputs": [],
   "source": []
  },
  {
   "cell_type": "code",
   "execution_count": null,
   "id": "5037265f-6e35-403d-abe4-8945b64da74e",
   "metadata": {},
   "outputs": [],
   "source": [
    "from neuroconv.datainterfaces.ecephys.blackrock.header_tools import parse_nsx_basic_header"
   ]
  },
  {
   "cell_type": "code",
   "execution_count": null,
   "id": "20d3ff2c-0774-4a73-ac74-231ac46a9bd2",
   "metadata": {},
   "outputs": [],
   "source": [
    "h = parse_nsx_basic_header(\"/media/luiz/Seagate Basic/storage/catalystneuro/nelson_lab/Raw_BlackRock_withCognitiveEvents/BlackRock_raw_H0.2_071823001.ns6\")"
   ]
  },
  {
   "cell_type": "code",
   "execution_count": null,
   "id": "5bf3388e-537a-42d2-9987-9db0b2980205",
   "metadata": {},
   "outputs": [],
   "source": [
    "h"
   ]
  },
  {
   "cell_type": "markdown",
   "id": "c3a491c9-ee55-4149-b915-c32d25016289",
   "metadata": {},
   "source": [
    "# Random tests"
   ]
  },
  {
   "cell_type": "code",
   "execution_count": null,
   "id": "54e30fe1-70a9-46ff-b7a1-52e9c2cafd36",
   "metadata": {},
   "outputs": [],
   "source": [
    "from neuroconv.datainterfaces import BlackrockRecordingInterface\n",
    "from neuroconv import NWBConverter\n",
    "\n",
    "class BlackrockNWBConverter(NWBConverter):\n",
    "    data_interface_classes = dict(BlackrockRaw=BlackrockRecordingInterface)"
   ]
  },
  {
   "cell_type": "code",
   "execution_count": null,
   "id": "05ae795f-dde6-4159-8527-ee5560f6ffad",
   "metadata": {},
   "outputs": [],
   "source": [
    "source_data = dict(\n",
    "    BlackrockRaw=dict(\n",
    "        file_path=\"/media/luiz/Seagate Basic/storage/catalystneuro/nelson_lab/Raw_BlackRock_withCognitiveEvents/BlackRock_raw_H0.2_071823001.ns6\"\n",
    "    )\n",
    ")\n",
    "\n",
    "converter = BlackrockNWBConverter(source_data)\n",
    "\n",
    "source_data = dict(BlackrockRaw=dict(stub_test=True))\n",
    "\n",
    "converter.run_conversion(\n",
    "    metadata=metadata,\n",
    "    nwbfile_path=\"converted_blackrock.nwb\",\n",
    "    overwrite=True\n",
    ")"
   ]
  },
  {
   "cell_type": "code",
   "execution_count": null,
   "id": "721ab8df-2561-47d2-a4fd-1272702a983a",
   "metadata": {},
   "outputs": [],
   "source": []
  },
  {
   "cell_type": "code",
   "execution_count": null,
   "id": "ce43cfc8-899d-49d8-83b3-fdc847c338b3",
   "metadata": {},
   "outputs": [],
   "source": []
  }
 ],
 "metadata": {
  "kernelspec": {
   "display_name": "nelson_lab_to_nwb_env",
   "language": "python",
   "name": "nelson_lab_to_nwb_env"
  },
  "language_info": {
   "codemirror_mode": {
    "name": "ipython",
    "version": 3
   },
   "file_extension": ".py",
   "mimetype": "text/x-python",
   "name": "python",
   "nbconvert_exporter": "python",
   "pygments_lexer": "ipython3",
   "version": "3.12.1"
  }
 },
 "nbformat": 4,
 "nbformat_minor": 5
}
