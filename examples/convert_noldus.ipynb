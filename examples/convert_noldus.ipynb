{
 "cells": [
  {
   "cell_type": "code",
   "execution_count": 1,
   "id": "e3f23e06-762c-49ab-8fc3-e2ceb72fcfdc",
   "metadata": {},
   "outputs": [],
   "source": [
    "%load_ext autoreload\n",
    "%autoreload 2"
   ]
  },
  {
   "cell_type": "code",
   "execution_count": null,
   "id": "c2015008-6752-446d-8f53-cdd986bf33b7",
   "metadata": {},
   "outputs": [],
   "source": [
    "import pandas as pd\n",
    "\n",
    "# Path to your Excel file\n",
    "file_path = '/media/luiz/Seagate Basic/storage/catalystneuro/nelson_lab/Raw_TDT_photometry_withVideos/Behavior_rp230717g-230912.xlsx'\n",
    "\n",
    "# Function to find the header row index\n",
    "def find_header_row(file_path):\n",
    "    # Attempt to open the file as an Excel workbook\n",
    "    with pd.ExcelFile(file_path, engine='openpyxl') as xls:\n",
    "        # Loop through each row in the first sheet\n",
    "        for sheet_name in xls.sheet_names:\n",
    "            sheet = xls.parse(sheet_name=sheet_name, header=None)\n",
    "            for row_idx, row in sheet.iterrows():\n",
    "                # Check for a specific pattern or keywords in the row\n",
    "                if \"Trial time\" in row.values and \"Recording time\" in row.values:\n",
    "                    return row_idx\n",
    "    # Return None if no header is found\n",
    "    return None\n",
    "\n",
    "# Find the header row index\n",
    "header_row = find_header_row(file_path)\n",
    "if header_row is not None:\n",
    "    df = pd.read_excel(file_path, header=header_row, engine='openpyxl')\n",
    "    df = df.drop(index=0)\n",
    "else:\n",
    "    print(\"Header row not found.\")\n"
   ]
  },
  {
   "cell_type": "code",
   "execution_count": null,
   "id": "38dc9276-8dd9-4897-846f-ff112f751592",
   "metadata": {},
   "outputs": [],
   "source": [
    "df"
   ]
  },
  {
   "cell_type": "code",
   "execution_count": null,
   "id": "e3e3df0f-3710-4e73-9211-15a5efffd229",
   "metadata": {},
   "outputs": [],
   "source": []
  },
  {
   "cell_type": "code",
   "execution_count": null,
   "id": "b0546515-178c-401e-97de-9ebe26e4c52d",
   "metadata": {},
   "outputs": [],
   "source": [
    "def fill_missing_values(arr, step=0.05, missing_value=None):\n",
    "    filled_arr = []\n",
    "    n = len(arr)\n",
    "    i = 0\n",
    "    while i < n-1:\n",
    "        filled_arr.append(arr[i])\n",
    "        # Calculate the expected next value\n",
    "        next_value = arr[i] + step\n",
    "        # Check if the actual next value in the array matches the expected next value\n",
    "        if abs(arr[i+1] - next_value) > 1e-5:  # Using a tolerance to avoid floating-point arithmetic issues\n",
    "            # If not, a value is missing. Insert the missing value.\n",
    "            print(\"here\")\n",
    "            while abs(arr[i+1] - next_value) > 1e-5:\n",
    "                filled_arr.append(missing_value)\n",
    "                next_value += step\n",
    "        i += 1\n",
    "    filled_arr.append(arr[-1])  # Add the last item\n",
    "    return filled_arr"
   ]
  },
  {
   "cell_type": "code",
   "execution_count": null,
   "id": "9b25f76a-288e-41b7-a856-fd67f93f17d8",
   "metadata": {},
   "outputs": [],
   "source": [
    "initial_array = df[\"Trial time\"].values\n",
    "filled_array = fill_missing_values(initial_array)\n",
    "\n",
    "print(len(initial_array))\n",
    "print(len(filled_array))"
   ]
  },
  {
   "cell_type": "code",
   "execution_count": null,
   "id": "df30f6e8-efbf-4e89-a03f-2e8318bb164c",
   "metadata": {},
   "outputs": [],
   "source": []
  },
  {
   "cell_type": "code",
   "execution_count": null,
   "id": "b77a238f-3d73-4951-9e45-58313d02ce79",
   "metadata": {},
   "outputs": [],
   "source": [
    "df = pd.read_excel(io='/media/luiz/Seagate Basic/storage/catalystneuro/nelson_lab/Raw_TDT_photometry_withVideos/Processed_behavior_LID_v2.xlsx')"
   ]
  }
 ],
 "metadata": {
  "kernelspec": {
   "display_name": "nelson_lab_to_nwb_env",
   "language": "python",
   "name": "nelson_lab_to_nwb_env"
  },
  "language_info": {
   "codemirror_mode": {
    "name": "ipython",
    "version": 3
   },
   "file_extension": ".py",
   "mimetype": "text/x-python",
   "name": "python",
   "nbconvert_exporter": "python",
   "pygments_lexer": "ipython3",
   "version": "3.12.1"
  }
 },
 "nbformat": 4,
 "nbformat_minor": 5
}
