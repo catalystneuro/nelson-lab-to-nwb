{
 "cells": [
  {
   "cell_type": "code",
   "execution_count": 1,
   "id": "ba29ff9e-9f46-4848-acbd-7aecda7de74b",
   "metadata": {},
   "outputs": [],
   "source": [
    "%load_ext autoreload\n",
    "%autoreload 2"
   ]
  },
  {
   "cell_type": "code",
   "execution_count": 2,
   "id": "93347100-3df4-4fd9-8056-a58b649ec724",
   "metadata": {},
   "outputs": [],
   "source": [
    "from datetime import datetime\n",
    "from dateutil import tz\n",
    "from pathlib import Path\n",
    "from neuroconv.converters import MiniscopeConverter"
   ]
  },
  {
   "cell_type": "code",
   "execution_count": null,
   "id": "6030e21b-fc21-40f1-80fe-bf1d82cc0e85",
   "metadata": {},
   "outputs": [],
   "source": [
    "# The 'folder_path' is the path to the main Miniscope folder containing both the recording and behavioral data streams in separate subfolders.\n",
    "folder_path = str(OPHYS_DATA_PATH / \"imaging_datasets\" / \"Miniscope\" / \"C6-J588_Disc5\")\n",
    "converter = MiniscopeConverter(folder_path=folder_path, verbose=False)\n",
    "\n",
    "metadata = converter.get_metadata()\n",
    "# For data provenance we can add the time zone information to the conversion if missing\n",
    "session_start_time = metadata[\"NWBFile\"][\"session_start_time\"]\n",
    "tzinfo = tz.gettz(\"US/Pacific\")\n",
    "metadata[\"NWBFile\"].update(session_start_time=session_start_time.replace(tzinfo=tzinfo))\n",
    "\n",
    "# Choose a path for saving the nwb file and run the conversion\n",
    "nwbfile_path = f\"{path_to_save_nwbfile}\"\n",
    "converter.run_conversion(nwbfile_path=nwbfile_path, metadata=metadata)"
   ]
  }
 ],
 "metadata": {
  "kernelspec": {
   "display_name": "nelson_lab_to_nwb_env",
   "language": "python",
   "name": "nelson_lab_to_nwb_env"
  },
  "language_info": {
   "codemirror_mode": {
    "name": "ipython",
    "version": 3
   },
   "file_extension": ".py",
   "mimetype": "text/x-python",
   "name": "python",
   "nbconvert_exporter": "python",
   "pygments_lexer": "ipython3",
   "version": "3.12.1"
  }
 },
 "nbformat": 4,
 "nbformat_minor": 5
}
