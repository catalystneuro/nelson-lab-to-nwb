{
 "cells": [
  {
   "cell_type": "markdown",
   "id": "6a218f2e-b9f2-45a4-8677-a1855cde9f2c",
   "metadata": {},
   "source": [
    "# Converter"
   ]
  },
  {
   "cell_type": "code",
   "execution_count": 1,
   "id": "65515d41-b117-40a9-bc19-b9e1b075f53e",
   "metadata": {},
   "outputs": [],
   "source": [
    "%load_ext autoreload\n",
    "%autoreload 2"
   ]
  },
  {
   "cell_type": "code",
   "execution_count": 2,
   "id": "ce9598a0-99e6-4850-9bcc-16deee8032b2",
   "metadata": {},
   "outputs": [],
   "source": [
    "from nelson_lab_to_nwb.intan_sessions_converter import IntanSessionNWBConverter\n",
    "from neuroconv.utils.dict import load_dict_from_file, dict_deep_update\n",
    "from pynwb import NWBHDF5IO, NWBFile"
   ]
  },
  {
   "cell_type": "code",
   "execution_count": 3,
   "id": "30675f90-dc0c-4ee8-a350-370505217b20",
   "metadata": {},
   "outputs": [
    {
     "name": "stdout",
     "output_type": "stream",
     "text": [
      "Source data is valid!\n"
     ]
    }
   ],
   "source": [
    "# set the source data for the Converter\n",
    "source_data = dict(\n",
    "    IntanMultifilesRaw=dict(\n",
    "        folder_path=\"/media/luiz/Seagate Basic/storage/catalystneuro/nelson_lab/Raw_Intan_Ephys_withVideos/pm231213a_240205_240205_120954\"\n",
    "    ),\n",
    "    AIMScore=dict(\n",
    "        file_path=\"/media/luiz/Seagate Basic/storage/catalystneuro/nelson_lab/Raw_Intan_Ephys_withVideos/AIM_score.xlsx\",\n",
    "        timestamp_column_name=\"Time (minutes relative to injection)\",\n",
    "        aims_column_name=\"AIMS\",\n",
    "    )\n",
    ")\n",
    "\n",
    "# Instantiate the Converter\n",
    "converter = IntanSessionNWBConverter(source_data)\n",
    "\n",
    "# Automatically fetch metadata from files, then update it with user-defined metadata\n",
    "source_metadata = converter.get_metadata()\n",
    "user_metadata_file = \"/mnt/shared_storage/Github/nelson-lab-to-nwb/src/nelson_lab_to_nwb/intan_sessions_converter/metadata_example.yaml\"\n",
    "user_metadata = load_dict_from_file(file_path=user_metadata_file)\n",
    "metadata = dict_deep_update(source_metadata, user_metadata)"
   ]
  },
  {
   "cell_type": "code",
   "execution_count": 4,
   "id": "a86aa387-31e1-4010-b73e-d1b6318a3127",
   "metadata": {},
   "outputs": [
    {
     "name": "stdout",
     "output_type": "stream",
     "text": [
      "Metadata is valid!\n",
      "conversion_options is valid!\n"
     ]
    },
    {
     "name": "stderr",
     "output_type": "stream",
     "text": [
      "/home/luiz/anaconda3/envs/nelson_lab_to_nwb_env/lib/python3.12/site-packages/pynwb/file.py:146: UserWarning: Date is missing timezone information. Updating to local timezone.\n",
      "  args_to_set['date_of_birth'] = _add_missing_timezone(date_of_birth)\n",
      "/home/luiz/anaconda3/envs/nelson_lab_to_nwb_env/lib/python3.12/site-packages/hdmf/build/objectmapper.py:260: DtypeConversionWarning: Spec 'TimeSeries/timestamps': Value with data type int64 is being converted to data type float64 as specified.\n",
      "  warnings.warn(full_warning_msg, DtypeConversionWarning)\n"
     ]
    },
    {
     "name": "stdout",
     "output_type": "stream",
     "text": [
      "NWB file saved at converted_intan_session.nwb!\n"
     ]
    }
   ],
   "source": [
    "# Conversion options\n",
    "conversion_options = dict(\n",
    "    IntanMultifilesRaw=dict(\n",
    "        stub_test=True,\n",
    "    )\n",
    ")\n",
    "\n",
    "# Run conversion\n",
    "converter.run_conversion(\n",
    "    metadata=metadata,\n",
    "    nwbfile_path=\"converted_intan_session.nwb\",\n",
    "    overwrite=True,\n",
    "    conversion_options=conversion_options\n",
    ")"
   ]
  },
  {
   "cell_type": "code",
   "execution_count": 5,
   "id": "64858b7b-bf25-461c-897a-3e6e5fe22ae1",
   "metadata": {},
   "outputs": [
    {
     "data": {
      "text/html": [
       "\n",
       "        <style>\n",
       "            .container-fields {\n",
       "                font-family: \"Open Sans\", Arial, sans-serif;\n",
       "            }\n",
       "            .container-fields .field-value {\n",
       "                color: #00788E;\n",
       "            }\n",
       "            .container-fields details > summary {\n",
       "                cursor: pointer;\n",
       "                display: list-item;\n",
       "            }\n",
       "            .container-fields details > summary:hover {\n",
       "                color: #0A6EAA;\n",
       "            }\n",
       "        </style>\n",
       "        \n",
       "        <script>\n",
       "            function copyToClipboard(text) {\n",
       "                navigator.clipboard.writeText(text).then(function() {\n",
       "                    console.log('Copied to clipboard: ' + text);\n",
       "                }, function(err) {\n",
       "                    console.error('Could not copy text: ', err);\n",
       "                });\n",
       "            }\n",
       "\n",
       "            document.addEventListener('DOMContentLoaded', function() {\n",
       "                let fieldKeys = document.querySelectorAll('.container-fields .field-key');\n",
       "                fieldKeys.forEach(function(fieldKey) {\n",
       "                    fieldKey.addEventListener('click', function() {\n",
       "                        let accessCode = fieldKey.getAttribute('title').replace('Access code: ', '');\n",
       "                        copyToClipboard(accessCode);\n",
       "                    });\n",
       "                });\n",
       "            });\n",
       "        </script>\n",
       "        <div class='container-wrap'><div class='container-header'><div class='xr-obj-type'><h3>root (NWBFile)</h3></div></div><div style=\"margin-left: 0px;\" class=\"container-fields\"><span class=\"field-key\" title=\".session_description\">session_description: </span><span class=\"field-value\">Intan recording session</span></div><div style=\"margin-left: 0px;\" class=\"container-fields\"><span class=\"field-key\" title=\".identifier\">identifier: </span><span class=\"field-value\">4556cd0d-3bbc-40ab-8b25-983daefe5cbb</span></div><details><summary style=\"display: list-item; margin-left: 0px;\" class=\"container-fields field-key\" title=\".session_start_time\"><b>session_start_time</b></summary><span class=\"field-key\">2024-02-05 12:09:54-07:00</span></details><details><summary style=\"display: list-item; margin-left: 0px;\" class=\"container-fields field-key\" title=\".timestamps_reference_time\"><b>timestamps_reference_time</b></summary><span class=\"field-key\">2024-02-05 12:09:54-07:00</span></details><details><summary style=\"display: list-item; margin-left: 0px;\" class=\"container-fields field-key\" title=\".file_create_date\"><b>file_create_date</b></summary><details><summary style=\"display: list-item; margin-left: 20px;\" class=\"container-fields field-key\" title=\".file_create_date[0]\"><b>0</b></summary><span class=\"field-key\">2024-04-22 16:54:26.424925+02:00</span></details></details><details><summary style=\"display: list-item; margin-left: 0px;\" class=\"container-fields field-key\" title=\".experimenter\"><b>experimenter</b></summary><span class=\"field-key\">('Last, First Middle',)</span></details><details><summary style=\"display: list-item; margin-left: 0px;\" class=\"container-fields field-key\" title=\".acquisition\"><b>acquisition</b></summary><details><summary style=\"display: list-item; margin-left: 20px;\" class=\"container-fields field-key\" title=\".acquisition['ElectricalSeries']\"><b>ElectricalSeries</b></summary><div style=\"margin-left: 40px;\" class=\"container-fields\"><span class=\"field-key\" title=\".acquisition['ElectricalSeries'].starting_time\">starting_time: </span><span class=\"field-value\">0.0</span></div><div style=\"margin-left: 40px;\" class=\"container-fields\"><span class=\"field-key\" title=\".acquisition['ElectricalSeries'].rate\">rate: </span><span class=\"field-value\">30000.0</span></div><div style=\"margin-left: 40px;\" class=\"container-fields\"><span class=\"field-key\" title=\".acquisition['ElectricalSeries'].resolution\">resolution: </span><span class=\"field-value\">-1.0</span></div><div style=\"margin-left: 40px;\" class=\"container-fields\"><span class=\"field-key\" title=\".acquisition['ElectricalSeries'].comments\">comments: </span><span class=\"field-value\">no comments</span></div><div style=\"margin-left: 40px;\" class=\"container-fields\"><span class=\"field-key\" title=\".acquisition['ElectricalSeries'].description\">description: </span><span class=\"field-value\">Acquisition traces for the ElectricalSeries.</span></div><div style=\"margin-left: 40px;\" class=\"container-fields\"><span class=\"field-key\" title=\".acquisition['ElectricalSeries'].conversion\">conversion: </span><span class=\"field-value\">1.9499999999999999e-07</span></div><div style=\"margin-left: 40px;\" class=\"container-fields\"><span class=\"field-key\" title=\".acquisition['ElectricalSeries'].offset\">offset: </span><span class=\"field-value\">-0.0063897599999999995</span></div><div style=\"margin-left: 40px;\" class=\"container-fields\"><span class=\"field-key\" title=\".acquisition['ElectricalSeries'].unit\">unit: </span><span class=\"field-value\">volts</span></div><details><summary style=\"display: list-item; margin-left: 40px;\" class=\"container-fields field-key\" title=\".acquisition['ElectricalSeries'].data\"><b>data</b></summary></details><div style=\"margin-left: 40px;\" class=\"container-fields\"><span class=\"field-key\" title=\".acquisition['ElectricalSeries'].starting_time_unit\">starting_time_unit: </span><span class=\"field-value\">seconds</span></div><details><summary style=\"display: list-item; margin-left: 40px;\" class=\"container-fields field-key\" title=\".acquisition['ElectricalSeries'].electrodes\"><b>electrodes</b></summary><div style=\"margin-left: 60px;\" class=\"container-fields\"><span class=\"field-key\" title=\".acquisition['ElectricalSeries'].electrodes.description\">description: </span><span class=\"field-value\">electrode_table_region</span></div><details><summary style=\"display: list-item; margin-left: 60px;\" class=\"container-fields field-key\" title=\".acquisition['ElectricalSeries'].electrodes.table\"><b>table</b></summary><div style=\"margin-left: 80px;\" class=\"container-fields\"><span class=\"field-key\" title=\".acquisition['ElectricalSeries'].electrodes.table\">description: </span><span class=\"field-value\">metadata about extracellular electrodes</span></div><details><summary style=\"display: list-item; margin-left: 80px;\" class=\"container-fields field-key\" title=\".acquisition['ElectricalSeries'].electrodes.table\"><b>table</b></summary><table border=\"1\" class=\"dataframe\">\n",
       "  <thead>\n",
       "    <tr style=\"text-align: right;\">\n",
       "      <th></th>\n",
       "      <th>location</th>\n",
       "      <th>group</th>\n",
       "      <th>group_name</th>\n",
       "      <th>channel_name</th>\n",
       "    </tr>\n",
       "    <tr>\n",
       "      <th>id</th>\n",
       "      <th></th>\n",
       "      <th></th>\n",
       "      <th></th>\n",
       "      <th></th>\n",
       "    </tr>\n",
       "  </thead>\n",
       "  <tbody>\n",
       "    <tr>\n",
       "      <th>0</th>\n",
       "      <td>unknown</td>\n",
       "      <td>B pynwb.ecephys.ElectrodeGroup at 0x140549401784928\\nFields:\\n  description: Group B electrodes.\\n  device: Intan pynwb.device.Device at 0x140556517416576\\nFields:\\n  description: Intan recording\\n  manufacturer: Intan\\n\\n</td>\n",
       "      <td>B</td>\n",
       "      <td>B-000</td>\n",
       "    </tr>\n",
       "    <tr>\n",
       "      <th>1</th>\n",
       "      <td>unknown</td>\n",
       "      <td>B pynwb.ecephys.ElectrodeGroup at 0x140549401784928\\nFields:\\n  description: Group B electrodes.\\n  device: Intan pynwb.device.Device at 0x140556517416576\\nFields:\\n  description: Intan recording\\n  manufacturer: Intan\\n\\n</td>\n",
       "      <td>B</td>\n",
       "      <td>B-001</td>\n",
       "    </tr>\n",
       "    <tr>\n",
       "      <th>2</th>\n",
       "      <td>unknown</td>\n",
       "      <td>B pynwb.ecephys.ElectrodeGroup at 0x140549401784928\\nFields:\\n  description: Group B electrodes.\\n  device: Intan pynwb.device.Device at 0x140556517416576\\nFields:\\n  description: Intan recording\\n  manufacturer: Intan\\n\\n</td>\n",
       "      <td>B</td>\n",
       "      <td>B-002</td>\n",
       "    </tr>\n",
       "    <tr>\n",
       "      <th>3</th>\n",
       "      <td>unknown</td>\n",
       "      <td>B pynwb.ecephys.ElectrodeGroup at 0x140549401784928\\nFields:\\n  description: Group B electrodes.\\n  device: Intan pynwb.device.Device at 0x140556517416576\\nFields:\\n  description: Intan recording\\n  manufacturer: Intan\\n\\n</td>\n",
       "      <td>B</td>\n",
       "      <td>B-003</td>\n",
       "    </tr>\n",
       "  </tbody>\n",
       "</table><p>... and 28 more rows.</p></details></details></details></details></details><details><summary style=\"display: list-item; margin-left: 0px;\" class=\"container-fields field-key\" title=\".processing\"><b>processing</b></summary><details><summary style=\"display: list-item; margin-left: 20px;\" class=\"container-fields field-key\" title=\".processing['behavior']\"><b>behavior</b></summary><div style=\"margin-left: 40px;\" class=\"container-fields\"><span class=\"field-key\" title=\".processing['behavior'].description\">description: </span><span class=\"field-value\">Processed behavioral data</span></div><details><summary style=\"display: list-item; margin-left: 40px;\" class=\"container-fields field-key\" title=\".processing['behavior'].data_interfaces\"><b>data_interfaces</b></summary><details><summary style=\"display: list-item; margin-left: 60px;\" class=\"container-fields field-key\" title=\".processing['behavior'].data_interfaces['aims']\"><b>aims</b></summary><div style=\"margin-left: 80px;\" class=\"container-fields\"><span class=\"field-key\" title=\".processing['behavior'].data_interfaces['aims'].resolution\">resolution: </span><span class=\"field-value\">-1.0</span></div><div style=\"margin-left: 80px;\" class=\"container-fields\"><span class=\"field-key\" title=\".processing['behavior'].data_interfaces['aims'].comments\">comments: </span><span class=\"field-value\">no comments</span></div><div style=\"margin-left: 80px;\" class=\"container-fields\"><span class=\"field-key\" title=\".processing['behavior'].data_interfaces['aims'].description\">description: </span><span class=\"field-value\">no description</span></div><div style=\"margin-left: 80px;\" class=\"container-fields\"><span class=\"field-key\" title=\".processing['behavior'].data_interfaces['aims'].conversion\">conversion: </span><span class=\"field-value\">1.0</span></div><div style=\"margin-left: 80px;\" class=\"container-fields\"><span class=\"field-key\" title=\".processing['behavior'].data_interfaces['aims'].offset\">offset: </span><span class=\"field-value\">0.0</span></div><div style=\"margin-left: 80px;\" class=\"container-fields\"><span class=\"field-key\" title=\".processing['behavior'].data_interfaces['aims'].unit\">unit: </span><span class=\"field-value\">na</span></div><details><summary style=\"display: list-item; margin-left: 80px;\" class=\"container-fields field-key\" title=\".processing['behavior'].data_interfaces['aims'].data\"><b>data</b></summary></details><details><summary style=\"display: list-item; margin-left: 80px;\" class=\"container-fields field-key\" title=\".processing['behavior'].data_interfaces['aims'].timestamps\"><b>timestamps</b></summary></details><div style=\"margin-left: 80px;\" class=\"container-fields\"><span class=\"field-key\" title=\".processing['behavior'].data_interfaces['aims'].timestamps_unit\">timestamps_unit: </span><span class=\"field-value\">seconds</span></div><div style=\"margin-left: 80px;\" class=\"container-fields\"><span class=\"field-key\" title=\".processing['behavior'].data_interfaces['aims'].interval\">interval: </span><span class=\"field-value\">1</span></div></details></details></details></details><details><summary style=\"display: list-item; margin-left: 0px;\" class=\"container-fields field-key\" title=\".epoch_tags\"><b>epoch_tags</b></summary><span class=\"field-key\">set()</span></details><details><summary style=\"display: list-item; margin-left: 0px;\" class=\"container-fields field-key\" title=\".electrodes\"><b>electrodes</b></summary><div style=\"margin-left: 20px;\" class=\"container-fields\"><span class=\"field-key\" title=\".electrodes\">description: </span><span class=\"field-value\">metadata about extracellular electrodes</span></div><details><summary style=\"display: list-item; margin-left: 20px;\" class=\"container-fields field-key\" title=\".electrodes\"><b>table</b></summary><table border=\"1\" class=\"dataframe\">\n",
       "  <thead>\n",
       "    <tr style=\"text-align: right;\">\n",
       "      <th></th>\n",
       "      <th>location</th>\n",
       "      <th>group</th>\n",
       "      <th>group_name</th>\n",
       "      <th>channel_name</th>\n",
       "    </tr>\n",
       "    <tr>\n",
       "      <th>id</th>\n",
       "      <th></th>\n",
       "      <th></th>\n",
       "      <th></th>\n",
       "      <th></th>\n",
       "    </tr>\n",
       "  </thead>\n",
       "  <tbody>\n",
       "    <tr>\n",
       "      <th>0</th>\n",
       "      <td>unknown</td>\n",
       "      <td>B pynwb.ecephys.ElectrodeGroup at 0x140549401784928\\nFields:\\n  description: Group B electrodes.\\n  device: Intan pynwb.device.Device at 0x140556517416576\\nFields:\\n  description: Intan recording\\n  manufacturer: Intan\\n\\n</td>\n",
       "      <td>B</td>\n",
       "      <td>B-000</td>\n",
       "    </tr>\n",
       "    <tr>\n",
       "      <th>1</th>\n",
       "      <td>unknown</td>\n",
       "      <td>B pynwb.ecephys.ElectrodeGroup at 0x140549401784928\\nFields:\\n  description: Group B electrodes.\\n  device: Intan pynwb.device.Device at 0x140556517416576\\nFields:\\n  description: Intan recording\\n  manufacturer: Intan\\n\\n</td>\n",
       "      <td>B</td>\n",
       "      <td>B-001</td>\n",
       "    </tr>\n",
       "    <tr>\n",
       "      <th>2</th>\n",
       "      <td>unknown</td>\n",
       "      <td>B pynwb.ecephys.ElectrodeGroup at 0x140549401784928\\nFields:\\n  description: Group B electrodes.\\n  device: Intan pynwb.device.Device at 0x140556517416576\\nFields:\\n  description: Intan recording\\n  manufacturer: Intan\\n\\n</td>\n",
       "      <td>B</td>\n",
       "      <td>B-002</td>\n",
       "    </tr>\n",
       "    <tr>\n",
       "      <th>3</th>\n",
       "      <td>unknown</td>\n",
       "      <td>B pynwb.ecephys.ElectrodeGroup at 0x140549401784928\\nFields:\\n  description: Group B electrodes.\\n  device: Intan pynwb.device.Device at 0x140556517416576\\nFields:\\n  description: Intan recording\\n  manufacturer: Intan\\n\\n</td>\n",
       "      <td>B</td>\n",
       "      <td>B-003</td>\n",
       "    </tr>\n",
       "  </tbody>\n",
       "</table><p>... and 28 more rows.</p></details></details><details><summary style=\"display: list-item; margin-left: 0px;\" class=\"container-fields field-key\" title=\".electrode_groups\"><b>electrode_groups</b></summary><details><summary style=\"display: list-item; margin-left: 20px;\" class=\"container-fields field-key\" title=\".electrode_groups['B']\"><b>B</b></summary><div style=\"margin-left: 40px;\" class=\"container-fields\"><span class=\"field-key\" title=\".electrode_groups['B'].description\">description: </span><span class=\"field-value\">Group B electrodes.</span></div><div style=\"margin-left: 40px;\" class=\"container-fields\"><span class=\"field-key\" title=\".electrode_groups['B'].location\">location: </span><span class=\"field-value\"></span></div><details><summary style=\"display: list-item; margin-left: 40px;\" class=\"container-fields field-key\" title=\".electrode_groups['B'].device\"><b>device</b></summary><div style=\"margin-left: 60px;\" class=\"container-fields\"><span class=\"field-key\" title=\".electrode_groups['B'].device.description\">description: </span><span class=\"field-value\">Intan recording</span></div><div style=\"margin-left: 60px;\" class=\"container-fields\"><span class=\"field-key\" title=\".electrode_groups['B'].device.manufacturer\">manufacturer: </span><span class=\"field-value\">Intan</span></div></details></details></details><details><summary style=\"display: list-item; margin-left: 0px;\" class=\"container-fields field-key\" title=\".devices\"><b>devices</b></summary><details><summary style=\"display: list-item; margin-left: 20px;\" class=\"container-fields field-key\" title=\".devices['Intan']\"><b>Intan</b></summary><div style=\"margin-left: 40px;\" class=\"container-fields\"><span class=\"field-key\" title=\".devices['Intan'].description\">description: </span><span class=\"field-value\">Intan recording</span></div><div style=\"margin-left: 40px;\" class=\"container-fields\"><span class=\"field-key\" title=\".devices['Intan'].manufacturer\">manufacturer: </span><span class=\"field-value\">Intan</span></div></details></details><details><summary style=\"display: list-item; margin-left: 0px;\" class=\"container-fields field-key\" title=\".subject\"><b>subject</b></summary><div style=\"margin-left: 20px;\" class=\"container-fields\"><span class=\"field-key\" title=\".subject.age__reference\">age__reference: </span><span class=\"field-value\">birth</span></div><div style=\"margin-left: 20px;\" class=\"container-fields\"><span class=\"field-key\" title=\".subject.description\">description: </span><span class=\"field-value\">not defined</span></div><div style=\"margin-left: 20px;\" class=\"container-fields\"><span class=\"field-key\" title=\".subject.genotype\">genotype: </span><span class=\"field-value\">not defined</span></div><div style=\"margin-left: 20px;\" class=\"container-fields\"><span class=\"field-key\" title=\".subject.sex\">sex: </span><span class=\"field-value\">F</span></div><div style=\"margin-left: 20px;\" class=\"container-fields\"><span class=\"field-key\" title=\".subject.species\">species: </span><span class=\"field-value\">Mus musculus</span></div><div style=\"margin-left: 20px;\" class=\"container-fields\"><span class=\"field-key\" title=\".subject.subject_id\">subject_id: </span><span class=\"field-value\">subid012345</span></div><details><summary style=\"display: list-item; margin-left: 20px;\" class=\"container-fields field-key\" title=\".subject.date_of_birth\"><b>date_of_birth</b></summary><span class=\"field-key\">2023-03-17 00:00:00+01:00</span></details></details><div style=\"margin-left: 0px;\" class=\"container-fields\"><span class=\"field-key\" title=\".lab\">lab: </span><span class=\"field-value\">Nelson Lab</span></div><div style=\"margin-left: 0px;\" class=\"container-fields\"><span class=\"field-key\" title=\".institution\">institution: </span><span class=\"field-value\">University of California San Francisco</span></div></div>"
      ],
      "text/plain": [
       "root pynwb.file.NWBFile at 0x140549403303456\n",
       "Fields:\n",
       "  acquisition: {\n",
       "    ElectricalSeries <class 'pynwb.ecephys.ElectricalSeries'>\n",
       "  }\n",
       "  devices: {\n",
       "    Intan <class 'pynwb.device.Device'>\n",
       "  }\n",
       "  electrode_groups: {\n",
       "    B <class 'pynwb.ecephys.ElectrodeGroup'>\n",
       "  }\n",
       "  electrodes: electrodes <class 'hdmf.common.table.DynamicTable'>\n",
       "  experimenter: ['Last, First Middle']\n",
       "  file_create_date: [datetime.datetime(2024, 4, 22, 16, 54, 26, 424925, tzinfo=tzoffset(None, 7200))]\n",
       "  identifier: 4556cd0d-3bbc-40ab-8b25-983daefe5cbb\n",
       "  institution: University of California San Francisco\n",
       "  lab: Nelson Lab\n",
       "  processing: {\n",
       "    behavior <class 'pynwb.base.ProcessingModule'>\n",
       "  }\n",
       "  session_description: Intan recording session\n",
       "  session_start_time: 2024-02-05 12:09:54-07:00\n",
       "  subject: subject pynwb.file.Subject at 0x140575059994400\n",
       "Fields:\n",
       "  age__reference: birth\n",
       "  date_of_birth: 2023-03-17 00:00:00+01:00\n",
       "  description: not defined\n",
       "  genotype: not defined\n",
       "  sex: F\n",
       "  species: Mus musculus\n",
       "  subject_id: subid012345\n",
       "\n",
       "  timestamps_reference_time: 2024-02-05 12:09:54-07:00"
      ]
     },
     "execution_count": 5,
     "metadata": {},
     "output_type": "execute_result"
    }
   ],
   "source": [
    "io = NWBHDF5IO(\"converted_intan_session.nwb\", 'r', load_namespaces=True)\n",
    "nwbfile = io.read()\n",
    "nwbfile"
   ]
  },
  {
   "cell_type": "code",
   "execution_count": null,
   "id": "ed9b294b-a943-4890-96b4-8a984417fca3",
   "metadata": {},
   "outputs": [],
   "source": []
  },
  {
   "cell_type": "code",
   "execution_count": null,
   "id": "c0aef466-672b-4b66-8b2a-dd4e5cbe79cd",
   "metadata": {},
   "outputs": [],
   "source": []
  },
  {
   "cell_type": "markdown",
   "id": "d99f01df-d16b-44ba-8936-2f74a7c29749",
   "metadata": {},
   "source": [
    "# Multiple Intan files\n",
    "\n",
    "ref: https://github.com/SpikeInterface/spikeinterface/issues/2620"
   ]
  },
  {
   "cell_type": "code",
   "execution_count": null,
   "id": "209867d7-f6f8-45f2-bdd1-21f5b9502342",
   "metadata": {},
   "outputs": [],
   "source": [
    "%load_ext autoreload\n",
    "%autoreload 2"
   ]
  },
  {
   "cell_type": "code",
   "execution_count": null,
   "id": "ce2af9d4-301c-45f4-94a0-09bb67c1fc8f",
   "metadata": {},
   "outputs": [],
   "source": [
    "from nelson_lab_to_nwb.interfaces.intan_multi_interface import IntanMultifilesRecordingInterface\n",
    "from datetime import datetime\n",
    "from dateutil import tz\n",
    "from pynwb import NWBHDF5IO, NWBFile"
   ]
  },
  {
   "cell_type": "code",
   "execution_count": null,
   "id": "83de01d4-ec5a-4a76-80ee-2ea16be8bb07",
   "metadata": {},
   "outputs": [],
   "source": [
    "folder_path = \"/media/luiz/Seagate Basic/storage/catalystneuro/nelson_lab/Raw_Intan_Ephys_withVideos/pm231213a_240205_240205_120954\"\n",
    "interface = IntanMultifilesRecordingInterface(folder_path=folder_path, verbose=False)\n",
    "\n",
    "# Extract what metadata we can from the source files\n",
    "metadata = interface.get_metadata()\n",
    "# session_start_time is required for conversion. If it cannot be inferred\n",
    "# automatically from the source files you must supply one.\n",
    "session_start_time = datetime(2020, 1, 1, 12, 30, 0, tzinfo=tz.gettz(\"US/Pacific\"))\n",
    "metadata[\"NWBFile\"].update(session_start_time=session_start_time)"
   ]
  },
  {
   "cell_type": "code",
   "execution_count": null,
   "id": "ab9dfd07-8cec-4b04-84bd-ff10f736b577",
   "metadata": {},
   "outputs": [],
   "source": [
    "nwbfile_path = \"intan_data.nwb\"\n",
    "interface.run_conversion(\n",
    "    nwbfile_path=nwbfile_path,\n",
    "    metadata=metadata,\n",
    "    overwrite=True\n",
    ")"
   ]
  },
  {
   "cell_type": "code",
   "execution_count": null,
   "id": "d6b697de-4a0b-4679-ab29-278844592604",
   "metadata": {
    "scrolled": true
   },
   "outputs": [],
   "source": [
    "io = NWBHDF5IO(\"intan_data.nwb\", 'r', load_namespaces=True)\n",
    "nwbfile = io.read()\n",
    "nwbfile"
   ]
  },
  {
   "cell_type": "code",
   "execution_count": null,
   "id": "ac352e96-b741-401a-914b-6756a73d3340",
   "metadata": {},
   "outputs": [],
   "source": []
  },
  {
   "cell_type": "markdown",
   "id": "ffc5ad14-035c-4bb6-9562-89c795c9e31a",
   "metadata": {},
   "source": [
    "# AIM Score"
   ]
  },
  {
   "cell_type": "code",
   "execution_count": null,
   "id": "45b46f54-758f-494a-b378-c797adf5dc9f",
   "metadata": {},
   "outputs": [],
   "source": [
    "from nelson_lab_to_nwb.interfaces import AIMScoreInterface"
   ]
  },
  {
   "cell_type": "code",
   "execution_count": null,
   "id": "fab009dd-8c94-4cc1-92f8-321a114ccc63",
   "metadata": {},
   "outputs": [],
   "source": [
    "file_path = \"/media/luiz/Seagate Basic/storage/catalystneuro/nelson_lab/Raw_Intan_Ephys_withVideos/AIM_score.xlsx\"\n",
    "interface = AIMScoreInterface(\n",
    "    file_path=file_path,\n",
    "    timestamp_column_name=\"Time (minutes relative to injection)\",\n",
    "    aims_column_name=\"AIMS\",\n",
    "    verbose=True\n",
    ")"
   ]
  },
  {
   "cell_type": "code",
   "execution_count": null,
   "id": "7579d9cb-84f7-4e2b-ab7a-d71b880259e9",
   "metadata": {
    "scrolled": true
   },
   "outputs": [],
   "source": [
    "interface.df"
   ]
  },
  {
   "cell_type": "code",
   "execution_count": null,
   "id": "b3f7c35d-02c2-4f01-ac42-6b0251a9fcfc",
   "metadata": {},
   "outputs": [],
   "source": []
  }
 ],
 "metadata": {
  "kernelspec": {
   "display_name": "nelson_lab_to_nwb_env",
   "language": "python",
   "name": "nelson_lab_to_nwb_env"
  },
  "language_info": {
   "codemirror_mode": {
    "name": "ipython",
    "version": 3
   },
   "file_extension": ".py",
   "mimetype": "text/x-python",
   "name": "python",
   "nbconvert_exporter": "python",
   "pygments_lexer": "ipython3",
   "version": "3.12.1"
  }
 },
 "nbformat": 4,
 "nbformat_minor": 5
}
