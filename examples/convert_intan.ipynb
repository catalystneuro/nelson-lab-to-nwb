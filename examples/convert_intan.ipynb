{
 "cells": [
  {
   "cell_type": "code",
   "execution_count": null,
   "id": "65515d41-b117-40a9-bc19-b9e1b075f53e",
   "metadata": {},
   "outputs": [],
   "source": [
    "%load_ext autoreload\n",
    "%autoreload 2"
   ]
  },
  {
   "cell_type": "markdown",
   "id": "6a218f2e-b9f2-45a4-8677-a1855cde9f2c",
   "metadata": {},
   "source": [
    "# Run conversion script for Raw_Intan_Ephys_withVideos"
   ]
  },
  {
   "cell_type": "code",
   "execution_count": null,
   "id": "654b4378-954a-4530-b0be-22c53e496e09",
   "metadata": {},
   "outputs": [],
   "source": [
    "from nelson_lab_to_nwb.intan_sessions_converter import session_to_nwb\n",
    "\n",
    "\n",
    "session_to_nwb(\n",
    "    output_folder_path=\"output_intan\",\n",
    "    intan_folder_path=\"/media/luiz/Seagate Basic/storage/catalystneuro/nelson_lab/Raw_Intan_Ephys_withVideos/pm231213a_240205_240205_120954\",\n",
    "    aim_score_file_path=\"/media/luiz/Seagate Basic/storage/catalystneuro/nelson_lab/Raw_Intan_Ephys_withVideos/AIM_score.xlsx\",\n",
    "    top_behavioral_video_file_path=\"/media/luiz/Seagate Basic/storage/catalystneuro/nelson_lab/Raw_Intan_Ephys_withVideos/pm231213a_240205Top.mp4\",\n",
    "    side_behavioral_video_file_path=\"/media/luiz/Seagate Basic/storage/catalystneuro/nelson_lab/Raw_Intan_Ephys_withVideos/pm231213a_240205Side.mp4\",\n",
    "    user_metadata_file_path=\"/mnt/shared_storage/Github/nelson-lab-to-nwb/src/nelson_lab_to_nwb/intan_sessions_converter/metadata_example.yaml\",\n",
    "    injection_time_in_seconds=0.0,\n",
    "    stub_test=True,\n",
    "    overwrite=True,\n",
    "    verbose=True,\n",
    ")"
   ]
  },
  {
   "cell_type": "code",
   "execution_count": null,
   "id": "ccac8909-d18c-4724-bf53-40c5f6173b65",
   "metadata": {},
   "outputs": [],
   "source": []
  },
  {
   "cell_type": "code",
   "execution_count": null,
   "id": "009caac6-7464-4eaf-b729-1b3de28bc873",
   "metadata": {},
   "outputs": [],
   "source": [
    "from pynwb import NWBHDF5IO, NWBFile\n",
    "from pathlib import Path\n",
    "\n",
    "\n",
    "file_path = str(Path(\"ouput_intan/subid012345_20240205T120954.nwb\").resolve())\n",
    "io = NWBHDF5IO(file_path, 'r', load_namespaces=True)\n",
    "nwbfile = io.read()\n",
    "nwbfile"
   ]
  },
  {
   "cell_type": "code",
   "execution_count": null,
   "id": "864764ed-4f70-4229-b536-cf1c8e2ee568",
   "metadata": {},
   "outputs": [],
   "source": []
  },
  {
   "cell_type": "code",
   "execution_count": null,
   "id": "644204f4-7262-4840-a16f-fd352d168588",
   "metadata": {},
   "outputs": [],
   "source": []
  },
  {
   "cell_type": "code",
   "execution_count": null,
   "id": "1b9177a0-bef7-4041-86c6-d36c492128c1",
   "metadata": {},
   "outputs": [],
   "source": []
  },
  {
   "cell_type": "code",
   "execution_count": null,
   "id": "ce9598a0-99e6-4850-9bcc-16deee8032b2",
   "metadata": {},
   "outputs": [],
   "source": [
    "from nelson_lab_to_nwb.intan_sessions_converter import IntanSessionNWBConverter\n",
    "from neuroconv.utils.dict import load_dict_from_file, dict_deep_update\n",
    "from pynwb import NWBHDF5IO, NWBFile"
   ]
  },
  {
   "cell_type": "code",
   "execution_count": null,
   "id": "30675f90-dc0c-4ee8-a350-370505217b20",
   "metadata": {},
   "outputs": [],
   "source": [
    "# set the source data for the Converter\n",
    "source_data = dict(\n",
    "    IntanMultifilesRaw=dict(\n",
    "        folder_path=\"/media/luiz/Seagate Basic/storage/catalystneuro/nelson_lab/Raw_Intan_Ephys_withVideos/pm231213a_240205_240205_120954\"\n",
    "    ),\n",
    "    AIMScore=dict(\n",
    "        file_path=\"/media/luiz/Seagate Basic/storage/catalystneuro/nelson_lab/Raw_Intan_Ephys_withVideos/AIM_score.xlsx\",\n",
    "    ),\n",
    "    BehavioralVideoTop=dict(\n",
    "        file_paths=[\"/media/luiz/Seagate Basic/storage/catalystneuro/nelson_lab/Raw_Intan_Ephys_withVideos/pm231213a_240205Top.mp4\"],\n",
    "    ),\n",
    "    BehavioralVideoSide=dict(\n",
    "        file_paths=[\"/media/luiz/Seagate Basic/storage/catalystneuro/nelson_lab/Raw_Intan_Ephys_withVideos/pm231213a_240205Side.mp4\"],\n",
    "    ),\n",
    ")\n",
    "\n",
    "# Instantiate the Converter\n",
    "converter = IntanSessionNWBConverter(source_data)\n",
    "\n",
    "# Automatically fetch metadata from files, then update it with user-defined metadata\n",
    "source_metadata = converter.get_metadata()\n",
    "user_metadata_file = \"/mnt/shared_storage/Github/nelson-lab-to-nwb/src/nelson_lab_to_nwb/intan_sessions_converter/metadata_example.yaml\"\n",
    "user_metadata = load_dict_from_file(file_path=user_metadata_file)\n",
    "metadata = dict_deep_update(source_metadata, user_metadata)"
   ]
  },
  {
   "cell_type": "code",
   "execution_count": null,
   "id": "113c3712-6aef-4451-a5bc-6f551e089c46",
   "metadata": {},
   "outputs": [],
   "source": [
    "metadata"
   ]
  },
  {
   "cell_type": "code",
   "execution_count": null,
   "id": "0e961ff2-fab0-45ba-944b-85489f8281c9",
   "metadata": {},
   "outputs": [],
   "source": []
  },
  {
   "cell_type": "code",
   "execution_count": null,
   "id": "ff848038-1e4e-47bb-bd24-79c6f881f673",
   "metadata": {},
   "outputs": [],
   "source": []
  },
  {
   "cell_type": "code",
   "execution_count": null,
   "id": "a86aa387-31e1-4010-b73e-d1b6318a3127",
   "metadata": {},
   "outputs": [],
   "source": [
    "# Conversion options\n",
    "conversion_options = dict(\n",
    "    IntanMultifilesRaw=dict(\n",
    "        stub_test=True,\n",
    "    )\n",
    "    AIMScore=dict(\n",
    "        timestamp_column_name=\"Time (minutes relative to injection)\",\n",
    "        aims_column_name=\"AIMS\",\n",
    "    )\n",
    ")\n",
    "\n",
    "# Run conversion\n",
    "converter.run_conversion(\n",
    "    metadata=metadata,\n",
    "    nwbfile_path=\"converted_intan_session.nwb\",\n",
    "    overwrite=True,\n",
    "    conversion_options=conversion_options\n",
    ")"
   ]
  },
  {
   "cell_type": "code",
   "execution_count": null,
   "id": "64858b7b-bf25-461c-897a-3e6e5fe22ae1",
   "metadata": {},
   "outputs": [],
   "source": [
    "io = NWBHDF5IO(\"converted_intan_session.nwb\", 'r', load_namespaces=True)\n",
    "nwbfile = io.read()\n",
    "nwbfile"
   ]
  },
  {
   "cell_type": "code",
   "execution_count": null,
   "id": "ed9b294b-a943-4890-96b4-8a984417fca3",
   "metadata": {},
   "outputs": [],
   "source": []
  },
  {
   "cell_type": "code",
   "execution_count": null,
   "id": "c0aef466-672b-4b66-8b2a-dd4e5cbe79cd",
   "metadata": {},
   "outputs": [],
   "source": []
  },
  {
   "cell_type": "markdown",
   "id": "d99f01df-d16b-44ba-8936-2f74a7c29749",
   "metadata": {},
   "source": [
    "# Multiple Intan files\n",
    "\n",
    "ref: https://github.com/SpikeInterface/spikeinterface/issues/2620"
   ]
  },
  {
   "cell_type": "code",
   "execution_count": null,
   "id": "209867d7-f6f8-45f2-bdd1-21f5b9502342",
   "metadata": {},
   "outputs": [],
   "source": [
    "%load_ext autoreload\n",
    "%autoreload 2"
   ]
  },
  {
   "cell_type": "code",
   "execution_count": null,
   "id": "ce2af9d4-301c-45f4-94a0-09bb67c1fc8f",
   "metadata": {},
   "outputs": [],
   "source": [
    "from nelson_lab_to_nwb.interfaces.intan_multi_interface import IntanMultifilesRecordingInterface\n",
    "from datetime import datetime\n",
    "from dateutil import tz\n",
    "from pynwb import NWBHDF5IO, NWBFile\n",
    "import numpy as np"
   ]
  },
  {
   "cell_type": "code",
   "execution_count": null,
   "id": "83de01d4-ec5a-4a76-80ee-2ea16be8bb07",
   "metadata": {},
   "outputs": [],
   "source": [
    "folder_path = \"/media/luiz/Seagate Basic/storage/catalystneuro/nelson_lab/Raw_Intan_Ephys_withVideos/pm231213a_240205_240205_120954\"\n",
    "interface = IntanMultifilesRecordingInterface(folder_path=folder_path, verbose=False)\n",
    "\n",
    "# Extract what metadata we can from the source files\n",
    "metadata = interface.get_metadata()\n",
    "# session_start_time is required for conversion. If it cannot be inferred\n",
    "# automatically from the source files you must supply one.\n",
    "session_start_time = datetime(2020, 1, 1, 12, 30, 0, tzinfo=tz.gettz(\"US/Pacific\"))\n",
    "metadata[\"NWBFile\"].update(session_start_time=session_start_time)"
   ]
  },
  {
   "cell_type": "code",
   "execution_count": null,
   "id": "ab9dfd07-8cec-4b04-84bd-ff10f736b577",
   "metadata": {},
   "outputs": [],
   "source": [
    "nwbfile_path = \"intan_data.nwb\"\n",
    "interface.run_conversion(\n",
    "    nwbfile_path=nwbfile_path,\n",
    "    metadata=metadata,\n",
    "    overwrite=True\n",
    ")"
   ]
  },
  {
   "cell_type": "code",
   "execution_count": null,
   "id": "d6b697de-4a0b-4679-ab29-278844592604",
   "metadata": {
    "scrolled": true
   },
   "outputs": [],
   "source": [
    "io = NWBHDF5IO(\"intan_data.nwb\", 'r', load_namespaces=True)\n",
    "nwbfile = io.read()\n",
    "nwbfile"
   ]
  },
  {
   "cell_type": "code",
   "execution_count": null,
   "id": "f39588cd-fb28-4c1f-818e-0d789806cd58",
   "metadata": {},
   "outputs": [],
   "source": []
  },
  {
   "cell_type": "code",
   "execution_count": null,
   "id": "c7547802-c7ff-4c9d-a70f-a1542e23566c",
   "metadata": {},
   "outputs": [],
   "source": [
    "ext = interface.recording_extractor\n",
    "ext"
   ]
  },
  {
   "cell_type": "code",
   "execution_count": null,
   "id": "3091d66e-6e48-4ab2-95e1-d2d2a10de908",
   "metadata": {},
   "outputs": [],
   "source": [
    "ext."
   ]
  },
  {
   "cell_type": "code",
   "execution_count": null,
   "id": "da37e54d-2b31-4a71-9a62-ef1e8f856cef",
   "metadata": {},
   "outputs": [],
   "source": []
  },
  {
   "cell_type": "code",
   "execution_count": null,
   "id": "6b2ea96c-0902-44ae-b0ac-b778ef8671c4",
   "metadata": {},
   "outputs": [],
   "source": []
  },
  {
   "cell_type": "code",
   "execution_count": null,
   "id": "af816e7c-cc92-48f9-923c-33c986012b66",
   "metadata": {},
   "outputs": [],
   "source": [
    "from neuroconv.datainterfaces import IntanRecordingInterface\n",
    "\n",
    "file_path = \"/media/luiz/Seagate Basic/storage/catalystneuro/nelson_lab/Raw_Intan_Ephys_withVideos/pm231213a_240205_240205_120954/pm231213a_240205_240205_120954.rhd\"\n",
    "file_path = \"/media/luiz/Seagate Basic/storage/catalystneuro/nelson_lab/Raw_Intan_Ephys_withVideos/pm231213a_240205_240205_120954/pm231213a_240205_240205_141354.rhd\"\n",
    "interface_0 = IntanRecordingInterface(file_path=file_path, verbose=False)\n",
    "\n",
    "interface_0.get_metadata()"
   ]
  },
  {
   "cell_type": "code",
   "execution_count": null,
   "id": "ac352e96-b741-401a-914b-6756a73d3340",
   "metadata": {},
   "outputs": [],
   "source": [
    "ext_0 = interface_0.recording_extractor\n",
    "ext_0"
   ]
  },
  {
   "cell_type": "code",
   "execution_count": null,
   "id": "c0b796c6-e5eb-4318-9920-6b4ea900df17",
   "metadata": {},
   "outputs": [],
   "source": [
    "ne = ext_0.neo_reader\n",
    "ne"
   ]
  },
  {
   "cell_type": "code",
   "execution_count": null,
   "id": "2ca00fbd-11dc-41bc-a97b-eab3e66e0744",
   "metadata": {},
   "outputs": [],
   "source": [
    "s0 = ne.get_analogsignal_chunk(\n",
    "    block_index=0,\n",
    "    seg_index=0,\n",
    "    stream_index=0\n",
    ")\n",
    "s0.shape"
   ]
  },
  {
   "cell_type": "code",
   "execution_count": null,
   "id": "1f87135d-180b-4ea3-b9d1-75f7b25538ea",
   "metadata": {},
   "outputs": [],
   "source": []
  },
  {
   "cell_type": "code",
   "execution_count": null,
   "id": "313427be-27cb-4681-8c15-309437189f37",
   "metadata": {},
   "outputs": [],
   "source": [
    "s1 = ne.get_analogsignal_chunk(\n",
    "    block_index=0,\n",
    "    seg_index=0,\n",
    "    stream_index=1\n",
    ")\n",
    "s1.shape"
   ]
  },
  {
   "cell_type": "code",
   "execution_count": null,
   "id": "abfa4993-69b1-4ca9-bf92-b9ef09355d5f",
   "metadata": {},
   "outputs": [],
   "source": [
    "s1"
   ]
  },
  {
   "cell_type": "code",
   "execution_count": null,
   "id": "ace22acc-61de-451e-9df9-811ad913ebe6",
   "metadata": {},
   "outputs": [],
   "source": [
    "s2 = ne.get_analogsignal_chunk(\n",
    "    block_index=0,\n",
    "    seg_index=0,\n",
    "    stream_index=2\n",
    ")\n",
    "s2.shape"
   ]
  },
  {
   "cell_type": "code",
   "execution_count": null,
   "id": "429f764c-56d1-4ad4-9f57-519f8c305ba5",
   "metadata": {},
   "outputs": [],
   "source": [
    "np.unique(np.squeeze(s2))"
   ]
  },
  {
   "cell_type": "code",
   "execution_count": null,
   "id": "e786eb21-1401-41b1-a234-ad78c7d7a701",
   "metadata": {},
   "outputs": [],
   "source": [
    "s3 = ne.get_analogsignal_chunk(\n",
    "    block_index=0,\n",
    "    seg_index=0,\n",
    "    stream_index=3\n",
    ")\n",
    "s3.shape"
   ]
  },
  {
   "cell_type": "code",
   "execution_count": null,
   "id": "381a0f11-d581-4331-8d16-eed90b1603d2",
   "metadata": {},
   "outputs": [],
   "source": [
    "import cv2\n",
    "\n",
    "def get_frame_count(video_path):\n",
    "    video = cv2.VideoCapture(video_path)\n",
    "    if not video.isOpened():\n",
    "        print(\"Error: Could not open video.\")\n",
    "        return None\n",
    "    frame_count = int(video.get(cv2.CAP_PROP_FRAME_COUNT))\n",
    "    video.release()\n",
    "    return frame_count\n",
    "\n",
    "\n",
    "video_path = \"/media/luiz/Seagate Basic/storage/catalystneuro/nelson_lab/Raw_Intan_Ephys_withVideos/pm231213a_240205Top.mp4\"\n",
    "frame_count = get_frame_count(video_path)\n",
    "print(f\"Number of frames in the video: {frame_count}\")"
   ]
  },
  {
   "cell_type": "code",
   "execution_count": null,
   "id": "0a87bd8b-8fd5-4fcb-a54c-bb6fd45c33cc",
   "metadata": {},
   "outputs": [],
   "source": []
  },
  {
   "cell_type": "code",
   "execution_count": null,
   "id": "4bc94b42-a4e9-436c-9fc8-a7f187da525d",
   "metadata": {},
   "outputs": [],
   "source": []
  },
  {
   "cell_type": "code",
   "execution_count": null,
   "id": "93684de7-9dd0-4401-a722-b6fa2d0015b7",
   "metadata": {},
   "outputs": [],
   "source": []
  },
  {
   "cell_type": "code",
   "execution_count": null,
   "id": "67d37c1c-ecfd-4031-9287-c591a72a59c8",
   "metadata": {},
   "outputs": [],
   "source": []
  },
  {
   "cell_type": "code",
   "execution_count": null,
   "id": "51ec9496-6a7e-4689-958f-686128ca9ef5",
   "metadata": {},
   "outputs": [],
   "source": []
  },
  {
   "cell_type": "markdown",
   "id": "ffc5ad14-035c-4bb6-9562-89c795c9e31a",
   "metadata": {},
   "source": [
    "# AIM Score"
   ]
  },
  {
   "cell_type": "code",
   "execution_count": null,
   "id": "03968081-2f11-4437-96bf-f9e8c525b264",
   "metadata": {},
   "outputs": [],
   "source": [
    "%load_ext autoreload\n",
    "%autoreload 2"
   ]
  },
  {
   "cell_type": "code",
   "execution_count": null,
   "id": "45b46f54-758f-494a-b378-c797adf5dc9f",
   "metadata": {},
   "outputs": [],
   "source": [
    "from nelson_lab_to_nwb.interfaces import AIMScoreInterface"
   ]
  },
  {
   "cell_type": "code",
   "execution_count": null,
   "id": "fab009dd-8c94-4cc1-92f8-321a114ccc63",
   "metadata": {},
   "outputs": [],
   "source": [
    "file_path = \"/media/luiz/Seagate Basic/storage/catalystneuro/nelson_lab/Raw_Intan_Ephys_withVideos/AIM_score.xlsx\"\n",
    "interface = AIMScoreInterface(\n",
    "    file_path=file_path,\n",
    "    # timestamp_column_name=\"Time (minutes relative to injection)\",\n",
    "    # aims_column_name=\"AIMS\",\n",
    "    verbose=True\n",
    ")"
   ]
  },
  {
   "cell_type": "code",
   "execution_count": null,
   "id": "6e292024-03b8-40e3-8111-79c22484a41a",
   "metadata": {},
   "outputs": [],
   "source": [
    "from datetime import datetime\n",
    "from zoneinfo import ZoneInfo\n",
    "\n",
    "metadata = interface.get_metadata()\n",
    "session_start_time = datetime(2020, 1, 1, 12, 30, 0, tzinfo=ZoneInfo(\"US/Pacific\"))\n",
    "metadata[\"NWBFile\"].update(session_start_time=session_start_time)"
   ]
  },
  {
   "cell_type": "code",
   "execution_count": null,
   "id": "ccdeed20-27d1-44d2-b025-80b6b7e01fef",
   "metadata": {},
   "outputs": [],
   "source": [
    "metadata"
   ]
  },
  {
   "cell_type": "markdown",
   "id": "bdca422c-2711-4a9b-b307-0401a8cbd9b2",
   "metadata": {},
   "source": []
  },
  {
   "cell_type": "code",
   "execution_count": null,
   "id": "b3f7c35d-02c2-4f01-ac42-6b0251a9fcfc",
   "metadata": {},
   "outputs": [],
   "source": [
    "interface.create_nwbfile(\n",
    "    metadata=metadata,\n",
    "    timestamp_offset=1000.\n",
    ")"
   ]
  },
  {
   "cell_type": "code",
   "execution_count": null,
   "id": "fd59c6f6-8dff-4a3a-8c88-6a0f17e83aff",
   "metadata": {},
   "outputs": [],
   "source": []
  },
  {
   "cell_type": "code",
   "execution_count": null,
   "id": "235e7bda-5db3-4d57-a7fd-8bc9b21bd370",
   "metadata": {},
   "outputs": [],
   "source": []
  },
  {
   "cell_type": "code",
   "execution_count": null,
   "id": "89be3831-192d-40da-9154-6f82576b6531",
   "metadata": {},
   "outputs": [],
   "source": []
  },
  {
   "cell_type": "code",
   "execution_count": null,
   "id": "a11814b8-09fc-4e7c-8476-9b458d294e44",
   "metadata": {},
   "outputs": [],
   "source": []
  },
  {
   "cell_type": "code",
   "execution_count": null,
   "id": "ce8c0e06-d1f7-4c10-b914-8dad830cce85",
   "metadata": {},
   "outputs": [],
   "source": []
  },
  {
   "cell_type": "markdown",
   "id": "777d4070-d3d1-401f-9147-c1ee8b695f81",
   "metadata": {},
   "source": [
    "# Multi videos"
   ]
  },
  {
   "cell_type": "code",
   "execution_count": null,
   "id": "03ad792a-7bb3-4977-a03c-c462ae2860fc",
   "metadata": {},
   "outputs": [],
   "source": [
    "from neuroconv import NWBConverter\n",
    "from datetime import datetime\n",
    "from zoneinfo import ZoneInfo\n",
    "from neuroconv.datainterfaces import VideoInterface\n",
    "\n",
    "\n",
    "class MultiVideoConverter(NWBConverter):\n",
    "    data_interface_classes = dict(\n",
    "        BehavioralVideoTop=VideoInterface,\n",
    "        BehavioralVideoSide=VideoInterface,\n",
    "    )\n",
    "\n",
    "source_data = dict(\n",
    "    BehavioralVideoTop=dict(\n",
    "        file_paths=[\"/media/luiz/Seagate Basic/storage/catalystneuro/nelson_lab/Raw_Intan_Ephys_withVideos/pm231213a_240205Top.mp4\"],\n",
    "        metadata_key_name=\"VideoTop\"\n",
    "    ),\n",
    "    BehavioralVideoSide=dict(\n",
    "        file_paths=[\"/media/luiz/Seagate Basic/storage/catalystneuro/nelson_lab/Raw_Intan_Ephys_withVideos/pm231213a_240205Side.mp4\"],\n",
    "        metadata_key_name=\"VideoSide\"\n",
    "    ),\n",
    ")\n",
    "\n",
    "converter = MultiVideoConverter(source_data)\n",
    "\n",
    "metadata = converter.get_metadata()\n",
    "session_start_time = datetime(2020, 1, 1, 12, 30, 0, tzinfo=ZoneInfo(\"US/Pacific\"))\n",
    "metadata[\"NWBFile\"].update(session_start_time=session_start_time)\n",
    "\n",
    "print(metadata[\"Behavior\"])\n",
    "print(converter.get_metadata_schema()[\"properties\"][\"Behavior\"][\"properties\"].keys())\n",
    "\n",
    "converter.run_conversion(\n",
    "    metadata=metadata,\n",
    "    nwbfile_path=\"converted_multi_videos_session.nwb\",\n",
    "    overwrite=True\n",
    ")"
   ]
  },
  {
   "cell_type": "code",
   "execution_count": null,
   "id": "b6dd3bfe-02be-4da8-b63e-9297199b0417",
   "metadata": {},
   "outputs": [],
   "source": [
    "io = NWBHDF5IO(\"converted_multi_videos_session.nwb\", 'r', load_namespaces=True)\n",
    "nwbfile = io.read()\n",
    "nwbfile"
   ]
  },
  {
   "cell_type": "code",
   "execution_count": null,
   "id": "843882de-efed-4b74-9ba7-6b0c0b6bd750",
   "metadata": {},
   "outputs": [],
   "source": []
  }
 ],
 "metadata": {
  "kernelspec": {
   "display_name": "nelson_lab_to_nwb_env",
   "language": "python",
   "name": "nelson_lab_to_nwb_env"
  },
  "language_info": {
   "codemirror_mode": {
    "name": "ipython",
    "version": 3
   },
   "file_extension": ".py",
   "mimetype": "text/x-python",
   "name": "python",
   "nbconvert_exporter": "python",
   "pygments_lexer": "ipython3",
   "version": "3.12.1"
  }
 },
 "nbformat": 4,
 "nbformat_minor": 5
}
