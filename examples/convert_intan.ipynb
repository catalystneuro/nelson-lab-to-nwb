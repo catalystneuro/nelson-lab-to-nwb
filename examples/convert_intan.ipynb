{
 "cells": [
  {
   "cell_type": "code",
   "execution_count": null,
   "id": "65515d41-b117-40a9-bc19-b9e1b075f53e",
   "metadata": {},
   "outputs": [],
   "source": [
    "%load_ext autoreload\n",
    "%autoreload 2"
   ]
  },
  {
   "cell_type": "markdown",
   "id": "6a218f2e-b9f2-45a4-8677-a1855cde9f2c",
   "metadata": {},
   "source": [
    "# Run conversion script for Raw_Intan_Ephys_withVideos"
   ]
  },
  {
   "cell_type": "code",
   "execution_count": null,
   "id": "ce9598a0-99e6-4850-9bcc-16deee8032b2",
   "metadata": {},
   "outputs": [],
   "source": [
    "from nelson_lab_to_nwb.intan_sessions_converter import IntanSessionNWBConverter\n",
    "from neuroconv.utils.dict import load_dict_from_file, dict_deep_update\n",
    "from pynwb import NWBHDF5IO, NWBFile"
   ]
  },
  {
   "cell_type": "code",
   "execution_count": null,
   "id": "30675f90-dc0c-4ee8-a350-370505217b20",
   "metadata": {},
   "outputs": [],
   "source": [
    "# set the source data for the Converter\n",
    "source_data = dict(\n",
    "    IntanMultifilesRaw=dict(\n",
    "        folder_path=\"/media/luiz/Seagate Basic/storage/catalystneuro/nelson_lab/Raw_Intan_Ephys_withVideos/pm231213a_240205_240205_120954\"\n",
    "    ),\n",
    "    AIMScore=dict(\n",
    "        file_path=\"/media/luiz/Seagate Basic/storage/catalystneuro/nelson_lab/Raw_Intan_Ephys_withVideos/AIM_score.xlsx\",\n",
    "    )\n",
    ")\n",
    "\n",
    "# Instantiate the Converter\n",
    "converter = IntanSessionNWBConverter(source_data)\n",
    "\n",
    "# Automatically fetch metadata from files, then update it with user-defined metadata\n",
    "source_metadata = converter.get_metadata()\n",
    "user_metadata_file = \"/mnt/shared_storage/Github/nelson-lab-to-nwb/src/nelson_lab_to_nwb/intan_sessions_converter/metadata_example.yaml\"\n",
    "user_metadata = load_dict_from_file(file_path=user_metadata_file)\n",
    "metadata = dict_deep_update(source_metadata, user_metadata)"
   ]
  },
  {
   "cell_type": "code",
   "execution_count": null,
   "id": "a86aa387-31e1-4010-b73e-d1b6318a3127",
   "metadata": {},
   "outputs": [],
   "source": [
    "# Conversion options\n",
    "conversion_options = dict(\n",
    "    IntanMultifilesRaw=dict(\n",
    "        stub_test=True,\n",
    "    )\n",
    "    AIMScore=dict(\n",
    "        timestamp_column_name=\"Time (minutes relative to injection)\",\n",
    "        aims_column_name=\"AIMS\",\n",
    "    )\n",
    ")\n",
    "\n",
    "# Run conversion\n",
    "converter.run_conversion(\n",
    "    metadata=metadata,\n",
    "    nwbfile_path=\"converted_intan_session.nwb\",\n",
    "    overwrite=True,\n",
    "    conversion_options=conversion_options\n",
    ")"
   ]
  },
  {
   "cell_type": "code",
   "execution_count": null,
   "id": "64858b7b-bf25-461c-897a-3e6e5fe22ae1",
   "metadata": {},
   "outputs": [],
   "source": [
    "io = NWBHDF5IO(\"converted_intan_session.nwb\", 'r', load_namespaces=True)\n",
    "nwbfile = io.read()\n",
    "nwbfile"
   ]
  },
  {
   "cell_type": "code",
   "execution_count": null,
   "id": "ed9b294b-a943-4890-96b4-8a984417fca3",
   "metadata": {},
   "outputs": [],
   "source": []
  },
  {
   "cell_type": "code",
   "execution_count": null,
   "id": "c0aef466-672b-4b66-8b2a-dd4e5cbe79cd",
   "metadata": {},
   "outputs": [],
   "source": []
  },
  {
   "cell_type": "markdown",
   "id": "d99f01df-d16b-44ba-8936-2f74a7c29749",
   "metadata": {},
   "source": [
    "# Multiple Intan files\n",
    "\n",
    "ref: https://github.com/SpikeInterface/spikeinterface/issues/2620"
   ]
  },
  {
   "cell_type": "code",
   "execution_count": null,
   "id": "209867d7-f6f8-45f2-bdd1-21f5b9502342",
   "metadata": {},
   "outputs": [],
   "source": [
    "%load_ext autoreload\n",
    "%autoreload 2"
   ]
  },
  {
   "cell_type": "code",
   "execution_count": null,
   "id": "ce2af9d4-301c-45f4-94a0-09bb67c1fc8f",
   "metadata": {},
   "outputs": [],
   "source": [
    "from nelson_lab_to_nwb.interfaces.intan_multi_interface import IntanMultifilesRecordingInterface\n",
    "from datetime import datetime\n",
    "from dateutil import tz\n",
    "from pynwb import NWBHDF5IO, NWBFile"
   ]
  },
  {
   "cell_type": "code",
   "execution_count": null,
   "id": "83de01d4-ec5a-4a76-80ee-2ea16be8bb07",
   "metadata": {},
   "outputs": [],
   "source": [
    "folder_path = \"/media/luiz/Seagate Basic/storage/catalystneuro/nelson_lab/Raw_Intan_Ephys_withVideos/pm231213a_240205_240205_120954\"\n",
    "interface = IntanMultifilesRecordingInterface(folder_path=folder_path, verbose=False)\n",
    "\n",
    "# Extract what metadata we can from the source files\n",
    "metadata = interface.get_metadata()\n",
    "# session_start_time is required for conversion. If it cannot be inferred\n",
    "# automatically from the source files you must supply one.\n",
    "session_start_time = datetime(2020, 1, 1, 12, 30, 0, tzinfo=tz.gettz(\"US/Pacific\"))\n",
    "metadata[\"NWBFile\"].update(session_start_time=session_start_time)"
   ]
  },
  {
   "cell_type": "code",
   "execution_count": null,
   "id": "ab9dfd07-8cec-4b04-84bd-ff10f736b577",
   "metadata": {},
   "outputs": [],
   "source": [
    "nwbfile_path = \"intan_data.nwb\"\n",
    "interface.run_conversion(\n",
    "    nwbfile_path=nwbfile_path,\n",
    "    metadata=metadata,\n",
    "    overwrite=True\n",
    ")"
   ]
  },
  {
   "cell_type": "code",
   "execution_count": null,
   "id": "d6b697de-4a0b-4679-ab29-278844592604",
   "metadata": {
    "scrolled": true
   },
   "outputs": [],
   "source": [
    "io = NWBHDF5IO(\"intan_data.nwb\", 'r', load_namespaces=True)\n",
    "nwbfile = io.read()\n",
    "nwbfile"
   ]
  },
  {
   "cell_type": "code",
   "execution_count": null,
   "id": "ac352e96-b741-401a-914b-6756a73d3340",
   "metadata": {},
   "outputs": [],
   "source": []
  },
  {
   "cell_type": "markdown",
   "id": "ffc5ad14-035c-4bb6-9562-89c795c9e31a",
   "metadata": {},
   "source": [
    "# AIM Score"
   ]
  },
  {
   "cell_type": "code",
   "execution_count": null,
   "id": "45b46f54-758f-494a-b378-c797adf5dc9f",
   "metadata": {},
   "outputs": [],
   "source": [
    "from nelson_lab_to_nwb.interfaces import AIMScoreInterface"
   ]
  },
  {
   "cell_type": "code",
   "execution_count": null,
   "id": "fab009dd-8c94-4cc1-92f8-321a114ccc63",
   "metadata": {},
   "outputs": [],
   "source": [
    "file_path = \"/media/luiz/Seagate Basic/storage/catalystneuro/nelson_lab/Raw_Intan_Ephys_withVideos/AIM_score.xlsx\"\n",
    "interface = AIMScoreInterface(\n",
    "    file_path=file_path,\n",
    "    # timestamp_column_name=\"Time (minutes relative to injection)\",\n",
    "    # aims_column_name=\"AIMS\",\n",
    "    verbose=True\n",
    ")"
   ]
  },
  {
   "cell_type": "code",
   "execution_count": null,
   "id": "b3f7c35d-02c2-4f01-ac42-6b0251a9fcfc",
   "metadata": {},
   "outputs": [],
   "source": []
  }
 ],
 "metadata": {
  "kernelspec": {
   "display_name": "nelson_lab_to_nwb_env",
   "language": "python",
   "name": "nelson_lab_to_nwb_env"
  },
  "language_info": {
   "codemirror_mode": {
    "name": "ipython",
    "version": 3
   },
   "file_extension": ".py",
   "mimetype": "text/x-python",
   "name": "python",
   "nbconvert_exporter": "python",
   "pygments_lexer": "ipython3",
   "version": "3.12.1"
  }
 },
 "nbformat": 4,
 "nbformat_minor": 5
}
