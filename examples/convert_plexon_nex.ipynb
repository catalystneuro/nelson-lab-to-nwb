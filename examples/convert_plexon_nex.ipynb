{
 "cells": [
  {
   "cell_type": "code",
   "execution_count": null,
   "id": "d5319295-8a55-4453-910b-e1e90bf30754",
   "metadata": {},
   "outputs": [],
   "source": []
  },
  {
   "cell_type": "code",
   "execution_count": null,
   "id": "778a1255-ae36-4f66-a5f1-9a65ea763436",
   "metadata": {},
   "outputs": [],
   "source": []
  },
  {
   "cell_type": "code",
   "execution_count": null,
   "id": "3d342191-fcfa-42d0-b0bd-c79c0f5fd948",
   "metadata": {},
   "outputs": [],
   "source": []
  },
  {
   "cell_type": "code",
   "execution_count": null,
   "id": "3e39be3e-625f-4779-a54d-de1be227c753",
   "metadata": {},
   "outputs": [],
   "source": []
  },
  {
   "cell_type": "code",
   "execution_count": null,
   "id": "409cbddc-957f-4d9b-a9ac-c10a1ac9c199",
   "metadata": {},
   "outputs": [],
   "source": []
  },
  {
   "cell_type": "markdown",
   "id": "62758d02-1c44-43c1-9d79-d4098635a71c",
   "metadata": {},
   "source": [
    "# Plexon / NeuroExplorer\n",
    "\n",
    "- https://github.com/NeuroExplorer/nex-Python-package\n",
    "- https://www.neuroexplorer.com/docs/python_packages/nex5file_package.html\n",
    "- https://github.com/NeuralEnsemble/python-neo/blob/master/neo/rawio/neuroexplorerrawio.py"
   ]
  },
  {
   "cell_type": "code",
   "execution_count": 1,
   "id": "ba29ff9e-9f46-4848-acbd-7aecda7de74b",
   "metadata": {},
   "outputs": [],
   "source": [
    "%load_ext autoreload\n",
    "%autoreload 2"
   ]
  },
  {
   "cell_type": "code",
   "execution_count": 2,
   "id": "3354951c-f2b1-4564-81fe-ef2581f4a718",
   "metadata": {},
   "outputs": [],
   "source": [
    "from nelson_lab_to_nwb.interfaces import NeuroExplorerRecordingInterface\n",
    "from pynwb import NWBHDF5IO, NWBFile"
   ]
  },
  {
   "cell_type": "code",
   "execution_count": 7,
   "id": "68a04141-4b41-4928-bdf8-042579ad144a",
   "metadata": {},
   "outputs": [
    {
     "name": "stdout",
     "output_type": "stream",
     "text": [
      "DeepDict: {'NWBFile': {'session_description': 'Description of this session', 'identifier': 'c10e159f-569d-46c6-a886-ec174f57e7b6', 'session_start_time': datetime.datetime(2000, 7, 23, 0, 0, tzinfo=datetime.timezone(datetime.timedelta(days=-1, seconds=61200))), 'institution': 'University of California San Francisco', 'lab': 'Nelson Lab', 'experimenter': ['Creed, Rose', 'Last, First Middle']}, 'Ecephys': {'Device': [{'name': 'DeviceEcephys', 'description': 'no description'}], 'ElectrodeGroup': [{'name': 'ElectrodeGroup', 'description': 'no description', 'location': 'unknown', 'device': 'DeviceEcephys'}], 'ElectricalSeries': {'name': 'ElectricalSeries', 'description': 'Acquisition traces for the ElectricalSeries.'}}, 'Subject': {'subject_id': 'subid012345', 'genotype': 'not defined', 'description': 'not defined', 'species': 'Mus musculus', 'date_of_birth': datetime.datetime(2023, 3, 17, 0, 0), 'sex': 'F'}}\n"
     ]
    }
   ],
   "source": [
    "file_path = \"/media/luiz/Seagate Basic/storage/catalystneuro/nelson_lab/Raw_Plexon_ephys_LIDpaper/mr150417a3_fromRawPlex.nex\"\n",
    "# file_path = \"/media/luiz/Seagate Basic/storage/catalystneuro/nelson_lab/Raw_Plexon_ephys_LIDpaper/mr150417a3.nex5\"\n",
    "metadata_path = \"/mnt/shared_storage/Github/nelson-lab-to-nwb/src/nelson_lab_to_nwb/creed_2024_converter/metadata_example.yaml\"\n",
    "\n",
    "interface = NeuroExplorerRecordingInterface(\n",
    "    file_path=file_path,\n",
    "    metadata_path=metadata_path,\n",
    "    verbose=False\n",
    ")\n",
    "\n",
    "metadata = interface.get_metadata()\n",
    "print(metadata)"
   ]
  },
  {
   "cell_type": "code",
   "execution_count": 8,
   "id": "03c0be26-15d0-43ed-88c4-70dd7ffc72a2",
   "metadata": {},
   "outputs": [],
   "source": [
    "ex = interface.recording_extractor"
   ]
  },
  {
   "cell_type": "code",
   "execution_count": 9,
   "id": "418292de-3ad2-49cf-b881-eb36f8afaeba",
   "metadata": {},
   "outputs": [
    {
     "data": {
      "text/plain": [
       "array([ 0,  1,  2,  3,  4,  5,  6,  7,  8,  9, 10, 11, 12, 13, 14, 15, 16,\n",
       "       17, 18, 19, 20, 21, 22, 23, 24, 25, 26, 27, 28, 29, 30, 31, 32, 33])"
      ]
     },
     "execution_count": 9,
     "metadata": {},
     "output_type": "execute_result"
    }
   ],
   "source": [
    "ex.get_channel_ids()"
   ]
  },
  {
   "cell_type": "code",
   "execution_count": null,
   "id": "6230ed3d-ddaa-4510-957d-72bd4e197e86",
   "metadata": {},
   "outputs": [],
   "source": []
  },
  {
   "cell_type": "code",
   "execution_count": null,
   "id": "8dc192e3-79f2-4c3a-b8cf-c00609f2069d",
   "metadata": {},
   "outputs": [],
   "source": []
  },
  {
   "cell_type": "code",
   "execution_count": null,
   "id": "c32a5c2c-480e-491b-8689-ee060e3759b8",
   "metadata": {},
   "outputs": [],
   "source": [
    "interface.run_conversion(\n",
    "    nwbfile_path=\"test2.nwb\",\n",
    "    metadata=metadata,\n",
    "    write_as=\"lfp\",\n",
    "    overwrite=True\n",
    ")"
   ]
  },
  {
   "cell_type": "code",
   "execution_count": null,
   "id": "01191082-910f-43e0-9f5d-33c7aa832b25",
   "metadata": {},
   "outputs": [],
   "source": [
    "io = NWBHDF5IO(\"test2.nwb\", 'r', load_namespaces=True)\n",
    "nwbfile = io.read()\n",
    "nwbfile"
   ]
  },
  {
   "cell_type": "code",
   "execution_count": null,
   "id": "c7b26a91-63c3-4922-9b53-c8f8df1c7723",
   "metadata": {},
   "outputs": [],
   "source": [
    "nwbfile.electrodes[:]"
   ]
  },
  {
   "cell_type": "code",
   "execution_count": null,
   "id": "2b63b91c-2d93-4143-8c27-bc1d539bde3f",
   "metadata": {},
   "outputs": [],
   "source": [
    "io.close()"
   ]
  },
  {
   "cell_type": "code",
   "execution_count": null,
   "id": "613412fc-ec59-4c04-9db2-88cb159fcf11",
   "metadata": {},
   "outputs": [],
   "source": []
  },
  {
   "cell_type": "code",
   "execution_count": null,
   "id": "3edcf4fa-59e9-4463-a8c1-42c0e4720697",
   "metadata": {},
   "outputs": [],
   "source": []
  },
  {
   "cell_type": "code",
   "execution_count": null,
   "id": "93347100-3df4-4fd9-8056-a58b649ec724",
   "metadata": {},
   "outputs": [],
   "source": [
    "from datetime import datetime\n",
    "from dateutil import tz\n",
    "from pathlib import Path\n",
    "from neuroconv.datainterfaces import PlexonRecordingInterface, PlexonSortingInterface\n",
    "from neuroconv import NWBConverter\n",
    "\n",
    "\n",
    "class NelsonPlexonNWBConverter(NWBConverter):\n",
    "    data_interface_classes = dict(\n",
    "        PlexonRecording=PlexonRecordingInterface,\n",
    "        PlexonSorting=PlexonSortingInterface\n",
    "    )"
   ]
  },
  {
   "cell_type": "code",
   "execution_count": null,
   "id": "01cfbc06-fca1-4132-a16c-4d22faef3abd",
   "metadata": {},
   "outputs": [],
   "source": [
    "# Change the file_path to the location in your system\n",
    "file_path = \"/media/luiz/Seagate Basic/storage/catalystneuro/nelson_lab/Raw_Plexon_ephys_LIDpaper/mr150417a3-01.plx\"\n",
    "\n",
    "# Instantiate the data interface\n",
    "interface_recording = PlexonRecordingInterface(file_path=file_path, verbose=False)\n",
    "\n",
    "# Extract what metadata we can from the source files\n",
    "metadata = interface_recording.get_metadata()\n",
    "\n",
    "# Update relevant metadata info\n",
    "session_start_time = datetime(2020, 1, 1, 12, 30, 0, tzinfo=tz.gettz(\"US/Pacific\"))\n",
    "metadata[\"NWBFile\"].update(session_start_time=session_start_time)\n",
    "\n",
    "# Choose a path for saving the nwb file and run the conversion\n",
    "# nwbfile_path = f\"{path_to_save_nwbfile}\"\n",
    "# interface.run_conversion(nwbfile_path=nwbfile_path, metadata=metadata)"
   ]
  },
  {
   "cell_type": "code",
   "execution_count": null,
   "id": "518b14c2-780c-4862-8ac2-1e5a42bc5bfa",
   "metadata": {},
   "outputs": [],
   "source": [
    "e = interface_recording.recording_extractor"
   ]
  },
  {
   "cell_type": "code",
   "execution_count": null,
   "id": "3313e2ab-4696-4aeb-ae26-3af2f5db41ce",
   "metadata": {},
   "outputs": [],
   "source": [
    "e"
   ]
  },
  {
   "cell_type": "code",
   "execution_count": 12,
   "id": "3b6ec5dd-0433-4c3b-97fe-982ca187a25c",
   "metadata": {},
   "outputs": [],
   "source": [
    "from spikeinterface.extractors import PlexonRecordingExtractor\n",
    "from spikeinterface.extractors.neoextractors.neuroexplorer import NeuroExplorerRecordingExtractor"
   ]
  },
  {
   "cell_type": "code",
   "execution_count": null,
   "id": "d98842c1-2fcb-4b56-b659-e94108fec80c",
   "metadata": {
    "scrolled": true
   },
   "outputs": [],
   "source": [
    "PlexonRecordingExtractor.get_streams(file_path=\"/media/luiz/Seagate Basic/storage/catalystneuro/nelson_lab/Raw_Plexon_ephys_LIDpaper/mr150417a3.plx\")"
   ]
  },
  {
   "cell_type": "code",
   "execution_count": null,
   "id": "54ca1891-fe93-47eb-a16c-8675100a28c5",
   "metadata": {
    "scrolled": true
   },
   "outputs": [],
   "source": [
    "# Very slow\n",
    "rec_plexon = PlexonRecordingExtractor(\n",
    "    file_path=\"/media/luiz/Seagate Basic/storage/catalystneuro/nelson_lab/Raw_Plexon_ephys_LIDpaper/mr150417a3.plx\",\n",
    "    stream_name='Signals 0'\n",
    ")\n",
    "rec_plexon"
   ]
  },
  {
   "cell_type": "code",
   "execution_count": null,
   "id": "1d3f29a3-5a12-4dff-826f-0d11d861a78d",
   "metadata": {},
   "outputs": [],
   "source": [
    "rec_plexon"
   ]
  },
  {
   "cell_type": "code",
   "execution_count": null,
   "id": "ecbfb116-439c-4bf8-bb87-4611635260f8",
   "metadata": {},
   "outputs": [],
   "source": [
    "rec_plexon.get_channel_ids()"
   ]
  },
  {
   "cell_type": "code",
   "execution_count": null,
   "id": "d8a84b0f-b2f2-4076-b445-28b124c65211",
   "metadata": {},
   "outputs": [],
   "source": []
  },
  {
   "cell_type": "code",
   "execution_count": null,
   "id": "596322c9-69d8-42e5-b99d-accf07b8b626",
   "metadata": {},
   "outputs": [],
   "source": [
    "streams = NeuroExplorerRecordingExtractor.get_streams(file_path=\"/media/luiz/Seagate Basic/storage/catalystneuro/nelson_lab/Raw_Plexon_ephys_LIDpaper/mr150417a3_fromRawPlex.nex\")\n",
    "print(streams)"
   ]
  },
  {
   "cell_type": "code",
   "execution_count": 13,
   "id": "01cc0bb7-7741-4891-a97d-dd18e9f90449",
   "metadata": {},
   "outputs": [
    {
     "data": {
      "text/plain": [
       "NeuroExplorerRecordingExtractor: 1 channels - 1.0kHz - 1 segments - 11,810,088 samples \n",
       "                                 11,810.09s (3.28 hours) - int16 dtype - 22.53 MiB\n",
       "  file_path: /media/luiz/Seagate Basic/storage/catalystneuro/nelson_lab/Raw_Plexon_ephys_LIDpaper/mr150417a3_fromRawPlex.nex"
      ]
     },
     "execution_count": 13,
     "metadata": {},
     "output_type": "execute_result"
    }
   ],
   "source": [
    "# Fast\n",
    "file_path = \"/media/luiz/Seagate Basic/storage/catalystneuro/nelson_lab/Raw_Plexon_ephys_LIDpaper/mr150417a3_fromRawPlex.nex\"\n",
    "recording = NeuroExplorerRecordingExtractor(\n",
    "    file_path=file_path, \n",
    "    stream_name=\"AD02\",\n",
    "    all_annotations=True\n",
    ")\n",
    "recording"
   ]
  },
  {
   "cell_type": "code",
   "execution_count": 14,
   "id": "f4b15c83-bb54-4b96-bc3f-8c5aac521795",
   "metadata": {},
   "outputs": [
    {
     "data": {
      "text/plain": [
       "{'sampling_frequency': 1000.0, 't_start': 0.011275, 'time_vector': None}"
      ]
     },
     "execution_count": 14,
     "metadata": {},
     "output_type": "execute_result"
    }
   ],
   "source": [
    "r = recording.neo_reader\n",
    "recording.get_time_info()"
   ]
  },
  {
   "cell_type": "code",
   "execution_count": 22,
   "id": "5569806b-e961-4df4-adf7-30cc8075affc",
   "metadata": {},
   "outputs": [
    {
     "data": {
      "text/plain": [
       "{'nb_block': 1,\n",
       " 'nb_segment': [1],\n",
       " 'signal_streams': array([('AD01', '0'), ('AD02', '1'), ('AD03', '2'), ('AD04', '3'),\n",
       "        ('AD05', '4'), ('AD06', '5'), ('AD07', '6'), ('AD08', '7'),\n",
       "        ('AD09', '8'), ('AD10', '9'), ('AD11', '10'), ('AD12', '11'),\n",
       "        ('AD13', '12'), ('AD14', '13'), ('AD15', '14'), ('AD16', '15'),\n",
       "        ('AD17', '16'), ('AD18', '17'), ('AD19', '18'), ('AD20', '19'),\n",
       "        ('AD21', '20'), ('AD22', '21'), ('AD23', '22'), ('AD24', '23'),\n",
       "        ('AD25', '24'), ('AD26', '25'), ('AD27', '26'), ('AD28', '27'),\n",
       "        ('AD29', '28'), ('AD30', '29'), ('AD31', '30'), ('AD32', '31'),\n",
       "        ('Laser', '32'), ('AD50', '33')],\n",
       "       dtype=[('name', '<U64'), ('id', '<U64')]),\n",
       " 'signal_channels': array([('AD01', '110', 1000., 'int16', 'mV', 0.00048828, 0., '0'),\n",
       "        ('AD02', '111', 1000., 'int16', 'mV', 0.00048828, 0., '1'),\n",
       "        ('AD03', '112', 1000., 'int16', 'mV', 0.00048828, 0., '2'),\n",
       "        ('AD04', '113', 1000., 'int16', 'mV', 0.00048828, 0., '3'),\n",
       "        ('AD05', '114', 1000., 'int16', 'mV', 0.00048828, 0., '4'),\n",
       "        ('AD06', '115', 1000., 'int16', 'mV', 0.00048828, 0., '5'),\n",
       "        ('AD07', '116', 1000., 'int16', 'mV', 0.00048828, 0., '6'),\n",
       "        ('AD08', '117', 1000., 'int16', 'mV', 0.00048828, 0., '7'),\n",
       "        ('AD09', '118', 1000., 'int16', 'mV', 0.00048828, 0., '8'),\n",
       "        ('AD10', '119', 1000., 'int16', 'mV', 0.00048828, 0., '9'),\n",
       "        ('AD11', '120', 1000., 'int16', 'mV', 0.00048828, 0., '10'),\n",
       "        ('AD12', '121', 1000., 'int16', 'mV', 0.00048828, 0., '11'),\n",
       "        ('AD13', '122', 1000., 'int16', 'mV', 0.00048828, 0., '12'),\n",
       "        ('AD14', '123', 1000., 'int16', 'mV', 0.00048828, 0., '13'),\n",
       "        ('AD15', '124', 1000., 'int16', 'mV', 0.00048828, 0., '14'),\n",
       "        ('AD16', '125', 1000., 'int16', 'mV', 0.00048828, 0., '15'),\n",
       "        ('AD17', '126', 1000., 'int16', 'mV', 0.00048828, 0., '16'),\n",
       "        ('AD18', '127', 1000., 'int16', 'mV', 0.00048828, 0., '17'),\n",
       "        ('AD19', '128', 1000., 'int16', 'mV', 0.00048828, 0., '18'),\n",
       "        ('AD20', '129', 1000., 'int16', 'mV', 0.00048828, 0., '19'),\n",
       "        ('AD21', '130', 1000., 'int16', 'mV', 0.00048828, 0., '20'),\n",
       "        ('AD22', '131', 1000., 'int16', 'mV', 0.00048828, 0., '21'),\n",
       "        ('AD23', '132', 1000., 'int16', 'mV', 0.00048828, 0., '22'),\n",
       "        ('AD24', '133', 1000., 'int16', 'mV', 0.00048828, 0., '23'),\n",
       "        ('AD25', '134', 1000., 'int16', 'mV', 0.00048828, 0., '24'),\n",
       "        ('AD26', '135', 1000., 'int16', 'mV', 0.00048828, 0., '25'),\n",
       "        ('AD27', '136', 1000., 'int16', 'mV', 0.00048828, 0., '26'),\n",
       "        ('AD28', '137', 1000., 'int16', 'mV', 0.00048828, 0., '27'),\n",
       "        ('AD29', '138', 1000., 'int16', 'mV', 0.00048828, 0., '28'),\n",
       "        ('AD30', '139', 1000., 'int16', 'mV', 0.00048828, 0., '29'),\n",
       "        ('AD31', '140', 1000., 'int16', 'mV', 0.00048828, 0., '30'),\n",
       "        ('AD32', '141', 1000., 'int16', 'mV', 0.00048828, 0., '31'),\n",
       "        ('Laser', '142', 1000., 'int16', 'mV', 0.00048828, 0., '32'),\n",
       "        ('AD50', '143', 1000., 'int16', 'mV', 0.00048828, 0., '33')],\n",
       "       dtype=[('name', '<U64'), ('id', '<U64'), ('sampling_rate', '<f8'), ('dtype', '<U16'), ('units', '<U64'), ('gain', '<f8'), ('offset', '<f8'), ('stream_id', '<U64')]),\n",
       " 'spike_channels': array([('sig001U', '6', '', 0.00000000e+00, 0., 0,     0.),\n",
       "        ('sig001a', '7', '', 0.00000000e+00, 0., 0,     0.),\n",
       "        ('sig002U', '8', '', 0.00000000e+00, 0., 0,     0.),\n",
       "        ('sig003U', '9', '', 0.00000000e+00, 0., 0,     0.),\n",
       "        ('sig003a', '10', '', 0.00000000e+00, 0., 0,     0.),\n",
       "        ('sig003b', '11', '', 0.00000000e+00, 0., 0,     0.),\n",
       "        ('sig004U', '12', '', 0.00000000e+00, 0., 0,     0.),\n",
       "        ('sig004a', '13', '', 0.00000000e+00, 0., 0,     0.),\n",
       "        ('sig005U', '14', '', 0.00000000e+00, 0., 0,     0.),\n",
       "        ('sig005a', '15', '', 0.00000000e+00, 0., 0,     0.),\n",
       "        ('sig006U', '16', '', 0.00000000e+00, 0., 0,     0.),\n",
       "        ('sig006a', '17', '', 0.00000000e+00, 0., 0,     0.),\n",
       "        ('sig007U', '18', '', 0.00000000e+00, 0., 0,     0.),\n",
       "        ('sig007a', '19', '', 0.00000000e+00, 0., 0,     0.),\n",
       "        ('sig008U', '20', '', 0.00000000e+00, 0., 0,     0.),\n",
       "        ('sig008a', '21', '', 0.00000000e+00, 0., 0,     0.),\n",
       "        ('sig009U', '22', '', 0.00000000e+00, 0., 0,     0.),\n",
       "        ('sig010U', '23', '', 0.00000000e+00, 0., 0,     0.),\n",
       "        ('sig011U', '24', '', 0.00000000e+00, 0., 0,     0.),\n",
       "        ('sig011a', '25', '', 0.00000000e+00, 0., 0,     0.),\n",
       "        ('sig012U', '26', '', 0.00000000e+00, 0., 0,     0.),\n",
       "        ('sig013U', '27', '', 0.00000000e+00, 0., 0,     0.),\n",
       "        ('sig013a', '28', '', 0.00000000e+00, 0., 0,     0.),\n",
       "        ('sig014U', '29', '', 0.00000000e+00, 0., 0,     0.),\n",
       "        ('sig014a', '30', '', 0.00000000e+00, 0., 0,     0.),\n",
       "        ('sig015U', '31', '', 0.00000000e+00, 0., 0,     0.),\n",
       "        ('sig016U', '32', '', 0.00000000e+00, 0., 0,     0.),\n",
       "        ('sig017U', '33', '', 0.00000000e+00, 0., 0,     0.),\n",
       "        ('sig018U', '34', '', 0.00000000e+00, 0., 0,     0.),\n",
       "        ('sig018a', '35', '', 0.00000000e+00, 0., 0,     0.),\n",
       "        ('sig019U', '36', '', 0.00000000e+00, 0., 0,     0.),\n",
       "        ('sig019a', '37', '', 0.00000000e+00, 0., 0,     0.),\n",
       "        ('sig020U', '38', '', 0.00000000e+00, 0., 0,     0.),\n",
       "        ('sig020a', '39', '', 0.00000000e+00, 0., 0,     0.),\n",
       "        ('sig021U', '40', '', 0.00000000e+00, 0., 0,     0.),\n",
       "        ('sig021a', '41', '', 0.00000000e+00, 0., 0,     0.),\n",
       "        ('sig022U', '42', '', 0.00000000e+00, 0., 0,     0.),\n",
       "        ('sig022a', '43', '', 0.00000000e+00, 0., 0,     0.),\n",
       "        ('sig023U', '44', '', 0.00000000e+00, 0., 0,     0.),\n",
       "        ('sig024U', '45', '', 0.00000000e+00, 0., 0,     0.),\n",
       "        ('sig024a', '46', '', 0.00000000e+00, 0., 0,     0.),\n",
       "        ('sig025U', '47', '', 0.00000000e+00, 0., 0,     0.),\n",
       "        ('sig026U', '48', '', 0.00000000e+00, 0., 0,     0.),\n",
       "        ('sig026a', '49', '', 0.00000000e+00, 0., 0,     0.),\n",
       "        ('sig027U', '50', '', 0.00000000e+00, 0., 0,     0.),\n",
       "        ('sig027a', '51', '', 0.00000000e+00, 0., 0,     0.),\n",
       "        ('sig028U', '52', '', 0.00000000e+00, 0., 0,     0.),\n",
       "        ('sig029U', '53', '', 0.00000000e+00, 0., 0,     0.),\n",
       "        ('sig029a', '54', '', 0.00000000e+00, 0., 0,     0.),\n",
       "        ('sig030U', '55', '', 0.00000000e+00, 0., 0,     0.),\n",
       "        ('sig031U', '56', '', 0.00000000e+00, 0., 0,     0.),\n",
       "        ('sig032U', '57', '', 0.00000000e+00, 0., 0,     0.),\n",
       "        ('sig001U_wf', '58', 'mV', 9.15527344e-05, 0., 0, 40000.),\n",
       "        ('sig001a_wf', '59', 'mV', 9.15527344e-05, 0., 0, 40000.),\n",
       "        ('sig002U_wf', '60', 'mV', 8.13802083e-05, 0., 0, 40000.),\n",
       "        ('sig003U_wf', '61', 'mV', 8.13802083e-05, 0., 0, 40000.),\n",
       "        ('sig003a_wf', '62', 'mV', 8.13802083e-05, 0., 0, 40000.),\n",
       "        ('sig003b_wf', '63', 'mV', 8.13802083e-05, 0., 0, 40000.),\n",
       "        ('sig004U_wf', '64', 'mV', 9.15527344e-05, 0., 0, 40000.),\n",
       "        ('sig004a_wf', '65', 'mV', 9.15527344e-05, 0., 0, 40000.),\n",
       "        ('sig005U_wf', '66', 'mV', 8.13802083e-05, 0., 0, 40000.),\n",
       "        ('sig005a_wf', '67', 'mV', 8.13802083e-05, 0., 0, 40000.),\n",
       "        ('sig006U_wf', '68', 'mV', 8.13802083e-05, 0., 0, 40000.),\n",
       "        ('sig006a_wf', '69', 'mV', 8.13802083e-05, 0., 0, 40000.),\n",
       "        ('sig007U_wf', '70', 'mV', 9.15527344e-05, 0., 0, 40000.),\n",
       "        ('sig007a_wf', '71', 'mV', 9.15527344e-05, 0., 0, 40000.),\n",
       "        ('sig008U_wf', '72', 'mV', 9.15527344e-05, 0., 0, 40000.),\n",
       "        ('sig008a_wf', '73', 'mV', 9.15527344e-05, 0., 0, 40000.),\n",
       "        ('sig009U_wf', '74', 'mV', 8.61672794e-05, 0., 0, 40000.),\n",
       "        ('sig010U_wf', '75', 'mV', 8.13802083e-05, 0., 0, 40000.),\n",
       "        ('sig011U_wf', '76', 'mV', 9.76562500e-05, 0., 0, 40000.),\n",
       "        ('sig011a_wf', '77', 'mV', 9.76562500e-05, 0., 0, 40000.),\n",
       "        ('sig012U_wf', '78', 'mV', 8.13802083e-05, 0., 0, 40000.),\n",
       "        ('sig013U_wf', '79', 'mV', 1.33167614e-04, 0., 0, 40000.),\n",
       "        ('sig013a_wf', '80', 'mV', 1.33167614e-04, 0., 0, 40000.),\n",
       "        ('sig014U_wf', '81', 'mV', 1.12680288e-04, 0., 0, 40000.),\n",
       "        ('sig014a_wf', '82', 'mV', 1.12680288e-04, 0., 0, 40000.),\n",
       "        ('sig015U_wf', '83', 'mV', 7.32421875e-05, 0., 0, 40000.),\n",
       "        ('sig016U_wf', '84', 'mV', 7.32421875e-05, 0., 0, 40000.),\n",
       "        ('sig017U_wf', '85', 'mV', 7.70970395e-05, 0., 0, 40000.),\n",
       "        ('sig018U_wf', '86', 'mV', 9.76562500e-05, 0., 0, 40000.),\n",
       "        ('sig018a_wf', '87', 'mV', 9.76562500e-05, 0., 0, 40000.),\n",
       "        ('sig019U_wf', '88', 'mV', 9.15527344e-05, 0., 0, 40000.),\n",
       "        ('sig019a_wf', '89', 'mV', 9.15527344e-05, 0., 0, 40000.),\n",
       "        ('sig020U_wf', '90', 'mV', 9.15527344e-05, 0., 0, 40000.),\n",
       "        ('sig020a_wf', '91', 'mV', 9.15527344e-05, 0., 0, 40000.),\n",
       "        ('sig021U_wf', '92', 'mV', 9.15527344e-05, 0., 0, 40000.),\n",
       "        ('sig021a_wf', '93', 'mV', 9.15527344e-05, 0., 0, 40000.),\n",
       "        ('sig022U_wf', '94', 'mV', 8.13802083e-05, 0., 0, 40000.),\n",
       "        ('sig022a_wf', '95', 'mV', 8.13802083e-05, 0., 0, 40000.),\n",
       "        ('sig023U_wf', '96', 'mV', 9.76562500e-05, 0., 0, 40000.),\n",
       "        ('sig024U_wf', '97', 'mV', 1.22070312e-04, 0., 0, 40000.),\n",
       "        ('sig024a_wf', '98', 'mV', 1.22070312e-04, 0., 0, 40000.),\n",
       "        ('sig025U_wf', '99', 'mV', 8.61672794e-05, 0., 0, 40000.),\n",
       "        ('sig026U_wf', '100', 'mV', 8.61672794e-05, 0., 0, 40000.),\n",
       "        ('sig026a_wf', '101', 'mV', 8.61672794e-05, 0., 0, 40000.),\n",
       "        ('sig027U_wf', '102', 'mV', 9.15527344e-05, 0., 0, 40000.),\n",
       "        ('sig027a_wf', '103', 'mV', 9.15527344e-05, 0., 0, 40000.),\n",
       "        ('sig028U_wf', '104', 'mV', 8.61672794e-05, 0., 0, 40000.),\n",
       "        ('sig029U_wf', '105', 'mV', 1.04631696e-04, 0., 0, 40000.),\n",
       "        ('sig029a_wf', '106', 'mV', 1.04631696e-04, 0., 0, 40000.),\n",
       "        ('sig030U_wf', '107', 'mV', 7.70970395e-05, 0., 0, 40000.),\n",
       "        ('sig031U_wf', '108', 'mV', 9.76562500e-05, 0., 0, 40000.),\n",
       "        ('sig032U_wf', '109', 'mV', 7.32421875e-05, 0., 0, 40000.),\n",
       "        ('sig001U_template', '144', 'mV', 9.15527344e-05, 0., 0, 40000.),\n",
       "        ('sig001a_template', '145', 'mV', 9.15527344e-05, 0., 0, 40000.),\n",
       "        ('sig002U_template', '146', 'mV', 8.13802083e-05, 0., 0, 40000.),\n",
       "        ('sig003U_template', '147', 'mV', 8.13802083e-05, 0., 0, 40000.),\n",
       "        ('sig003a_template', '148', 'mV', 8.13802083e-05, 0., 0, 40000.),\n",
       "        ('sig003b_template', '149', 'mV', 8.13802083e-05, 0., 0, 40000.),\n",
       "        ('sig004U_template', '150', 'mV', 9.15527344e-05, 0., 0, 40000.),\n",
       "        ('sig004a_template', '151', 'mV', 9.15527344e-05, 0., 0, 40000.),\n",
       "        ('sig005U_template', '152', 'mV', 8.13802083e-05, 0., 0, 40000.),\n",
       "        ('sig005a_template', '153', 'mV', 8.13802083e-05, 0., 0, 40000.),\n",
       "        ('sig006U_template', '154', 'mV', 8.13802083e-05, 0., 0, 40000.),\n",
       "        ('sig006a_template', '155', 'mV', 8.13802083e-05, 0., 0, 40000.),\n",
       "        ('sig007U_template', '156', 'mV', 9.15527344e-05, 0., 0, 40000.),\n",
       "        ('sig007a_template', '157', 'mV', 9.15527344e-05, 0., 0, 40000.),\n",
       "        ('sig008U_template', '158', 'mV', 9.15527344e-05, 0., 0, 40000.),\n",
       "        ('sig008a_template', '159', 'mV', 9.15527344e-05, 0., 0, 40000.),\n",
       "        ('sig009U_template', '160', 'mV', 8.61672794e-05, 0., 0, 40000.),\n",
       "        ('sig010U_template', '161', 'mV', 8.13802083e-05, 0., 0, 40000.),\n",
       "        ('sig011U_template', '162', 'mV', 9.76562500e-05, 0., 0, 40000.),\n",
       "        ('sig011a_template', '163', 'mV', 9.76562500e-05, 0., 0, 40000.),\n",
       "        ('sig012U_template', '164', 'mV', 8.13802083e-05, 0., 0, 40000.),\n",
       "        ('sig013U_template', '165', 'mV', 1.33167614e-04, 0., 0, 40000.),\n",
       "        ('sig013a_template', '166', 'mV', 1.33167614e-04, 0., 0, 40000.),\n",
       "        ('sig014U_template', '167', 'mV', 1.12680288e-04, 0., 0, 40000.),\n",
       "        ('sig014a_template', '168', 'mV', 1.12680288e-04, 0., 0, 40000.),\n",
       "        ('sig015U_template', '169', 'mV', 7.32421875e-05, 0., 0, 40000.),\n",
       "        ('sig016U_template', '170', 'mV', 7.32421875e-05, 0., 0, 40000.),\n",
       "        ('sig017U_template', '171', 'mV', 7.70970395e-05, 0., 0, 40000.),\n",
       "        ('sig018U_template', '172', 'mV', 9.76562500e-05, 0., 0, 40000.),\n",
       "        ('sig018a_template', '173', 'mV', 9.76562500e-05, 0., 0, 40000.),\n",
       "        ('sig019U_template', '174', 'mV', 9.15527344e-05, 0., 0, 40000.),\n",
       "        ('sig019a_template', '175', 'mV', 9.15527344e-05, 0., 0, 40000.),\n",
       "        ('sig020U_template', '176', 'mV', 9.15527344e-05, 0., 0, 40000.),\n",
       "        ('sig020a_template', '177', 'mV', 9.15527344e-05, 0., 0, 40000.),\n",
       "        ('sig021U_template', '178', 'mV', 9.15527344e-05, 0., 0, 40000.),\n",
       "        ('sig021a_template', '179', 'mV', 9.15527344e-05, 0., 0, 40000.),\n",
       "        ('sig022U_template', '180', 'mV', 8.13802083e-05, 0., 0, 40000.),\n",
       "        ('sig022a_template', '181', 'mV', 8.13802083e-05, 0., 0, 40000.),\n",
       "        ('sig023U_template', '182', 'mV', 9.76562500e-05, 0., 0, 40000.),\n",
       "        ('sig024U_template', '183', 'mV', 1.22070312e-04, 0., 0, 40000.),\n",
       "        ('sig024a_template', '184', 'mV', 1.22070312e-04, 0., 0, 40000.),\n",
       "        ('sig025U_template', '185', 'mV', 8.61672794e-05, 0., 0, 40000.),\n",
       "        ('sig026U_template', '186', 'mV', 8.61672794e-05, 0., 0, 40000.),\n",
       "        ('sig026a_template', '187', 'mV', 8.61672794e-05, 0., 0, 40000.),\n",
       "        ('sig027U_template', '188', 'mV', 9.15527344e-05, 0., 0, 40000.),\n",
       "        ('sig027a_template', '189', 'mV', 9.15527344e-05, 0., 0, 40000.),\n",
       "        ('sig028U_template', '190', 'mV', 8.61672794e-05, 0., 0, 40000.),\n",
       "        ('sig029U_template', '191', 'mV', 1.04631696e-04, 0., 0, 40000.),\n",
       "        ('sig029a_template', '192', 'mV', 1.04631696e-04, 0., 0, 40000.),\n",
       "        ('sig030U_template', '193', 'mV', 7.70970395e-05, 0., 0, 40000.),\n",
       "        ('sig031U_template', '194', 'mV', 9.76562500e-05, 0., 0, 40000.),\n",
       "        ('sig032U_template', '195', 'mV', 7.32421875e-05, 0., 0, 40000.)],\n",
       "       dtype=[('name', '<U64'), ('id', '<U64'), ('wf_units', '<U64'), ('wf_gain', '<f8'), ('wf_offset', '<f8'), ('wf_left_sweep', '<i8'), ('wf_sampling_rate', '<f8')]),\n",
       " 'event_channels': array([('Event001', '0', b'event'), ('Laser', '1', b'event'),\n",
       "        ('Noldus Start', '2', b'event'), ('Keyboard1', '3', b'event'),\n",
       "        ('Start', '4', b'event'), ('Stop', '5', b'event')],\n",
       "       dtype=[('name', '<U64'), ('id', '<U64'), ('type', 'S5')])}"
      ]
     },
     "execution_count": 22,
     "metadata": {},
     "output_type": "execute_result"
    }
   ],
   "source": [
    "r.header"
   ]
  },
  {
   "cell_type": "code",
   "execution_count": 26,
   "id": "97741121-c749-4e2c-97de-44f48e87e013",
   "metadata": {},
   "outputs": [
    {
     "data": {
      "text/plain": [
       "(memmap([1550384], dtype=int32), None, array([''], dtype='<U1'))"
      ]
     },
     "execution_count": 26,
     "metadata": {},
     "output_type": "execute_result"
    }
   ],
   "source": [
    "r.get_event_timestamps(event_channel_index=2)"
   ]
  },
  {
   "cell_type": "code",
   "execution_count": 29,
   "id": "e98d7cf1-f01c-4631-9883-0d760aa10622",
   "metadata": {},
   "outputs": [
    {
     "data": {
      "text/plain": [
       "OrderedDict([('signature', 'NEX1'),\n",
       "             ('version', 101),\n",
       "             ('comment',\n",
       "              'D1-Cre, 6OHDA in left MFB, 32Ch +DIO-ChR1 in left DLS.\\r\\nDOB: 2/19/15. L-dopa (5mg/kg) at 30 mins.\\r\\n4000 light pulses 0.5,1,2,4m'),\n",
       "             ('freq', 40000.0),\n",
       "             ('tbeg', 0),\n",
       "             ('tend', 472403868),\n",
       "             ('nvar', 196)])"
      ]
     },
     "execution_count": 29,
     "metadata": {},
     "output_type": "execute_result"
    }
   ],
   "source": [
    "r.global_header"
   ]
  },
  {
   "cell_type": "code",
   "execution_count": 45,
   "id": "de9fc7d1-1599-46a6-893f-1706613f682e",
   "metadata": {},
   "outputs": [
    {
     "data": {
      "text/plain": [
       "memmap([38.7596])"
      ]
     },
     "execution_count": 45,
     "metadata": {},
     "output_type": "execute_result"
    }
   ],
   "source": [
    "r.rescale_event_timestamp(event_timestamps=r.get_event_timestamps(event_channel_index=2)[0])"
   ]
  },
  {
   "cell_type": "code",
   "execution_count": 44,
   "id": "5a394627-b3a2-408f-b01d-01180bfb7a5e",
   "metadata": {},
   "outputs": [
    {
     "data": {
      "text/plain": [
       "3.2805555555555554"
      ]
     },
     "execution_count": 44,
     "metadata": {},
     "output_type": "execute_result"
    }
   ],
   "source": [
    "11810/(60*60)"
   ]
  },
  {
   "cell_type": "code",
   "execution_count": 28,
   "id": "1bca2b16-01a1-404c-bea0-c5e3f960cde4",
   "metadata": {},
   "outputs": [
    {
     "data": {
      "text/plain": [
       "memmap([      478,       666,      2823, ..., 472403094, 472403352,\n",
       "        472403438], dtype=int32)"
      ]
     },
     "execution_count": 28,
     "metadata": {},
     "output_type": "execute_result"
    }
   ],
   "source": [
    "r.get_spike_timestamps()"
   ]
  },
  {
   "cell_type": "code",
   "execution_count": 47,
   "id": "ec60370e-ef6d-4975-b994-93b3b7e5fa90",
   "metadata": {},
   "outputs": [
    {
     "data": {
      "text/plain": [
       "38.7596"
      ]
     },
     "execution_count": 47,
     "metadata": {},
     "output_type": "execute_result"
    }
   ],
   "source": [
    "1550384 / 40000"
   ]
  },
  {
   "cell_type": "code",
   "execution_count": null,
   "id": "2e6e4bd5-0738-4724-b22c-b25c739962fe",
   "metadata": {},
   "outputs": [],
   "source": []
  },
  {
   "cell_type": "code",
   "execution_count": null,
   "id": "ac47cc23-a3b7-46fc-9e38-2b1dc7312e7c",
   "metadata": {},
   "outputs": [],
   "source": []
  },
  {
   "cell_type": "code",
   "execution_count": null,
   "id": "3c80fc15-8b98-45d0-b8f6-585dbf4851ea",
   "metadata": {},
   "outputs": [],
   "source": []
  },
  {
   "cell_type": "code",
   "execution_count": null,
   "id": "20ca8df2-f005-42e3-927c-bc83446e8b50",
   "metadata": {},
   "outputs": [],
   "source": [
    "from spikeinterface.extractors.neoextractors.neuroexplorer import NeuroExplorerRecordingExtractor\n",
    "from spikeinterface.core import aggregate_channels"
   ]
  },
  {
   "cell_type": "code",
   "execution_count": null,
   "id": "76ab1a6a-d4e7-4ede-93a6-6cac88dc84e2",
   "metadata": {
    "scrolled": true
   },
   "outputs": [],
   "source": [
    "file_path = f\"/media/luiz/Seagate Basic/storage/catalystneuro/nelson_lab/Raw_Plexon_ephys_LIDpaper/mr150417a3-01.nex\"\n",
    "\n",
    "streams = NeuroExplorerRecordingExtractor.get_streams(file_path=file_path)\n",
    "stream_names = streams[0]\n",
    "stream_names\n",
    "# your_signal_stream_name = \"AD\"\n",
    "\n",
    "# recording_list = [NeuroExplorerRecordingExtractor(file_path=file_path, stream_name=stream_name) for stream_name in stream_names]\n",
    "# recording = aggregate_channels(recording_list)"
   ]
  },
  {
   "cell_type": "code",
   "execution_count": null,
   "id": "6094d977-5ca7-46bb-9507-c110a887ca16",
   "metadata": {},
   "outputs": [],
   "source": [
    "recording = NeuroExplorerRecordingExtractor(\n",
    "    file_path=\"/media/luiz/Seagate Basic/storage/catalystneuro/nelson_lab/Raw_Plexon_ephys_LIDpaper/mr150417a3-01.plx\", \n",
    "    stream_name=\"AD01\",\n",
    ")"
   ]
  },
  {
   "cell_type": "code",
   "execution_count": null,
   "id": "fbc1762c-3ec7-42b5-b6ac-f3cdd66d5d7d",
   "metadata": {},
   "outputs": [],
   "source": [
    "recording"
   ]
  },
  {
   "cell_type": "code",
   "execution_count": null,
   "id": "09a9f9e4-17aa-4617-bfde-8ac9e5b97113",
   "metadata": {},
   "outputs": [],
   "source": []
  },
  {
   "cell_type": "code",
   "execution_count": null,
   "id": "86f3164d-549e-4a82-90c4-218774a071d8",
   "metadata": {},
   "outputs": [],
   "source": [
    "# interface_sorting = PlexonSortingInterface(file_path=file_path, verbose=False)"
   ]
  },
  {
   "cell_type": "code",
   "execution_count": null,
   "id": "5d7e8ab9-daa3-47ac-966f-6382a9f59d2a",
   "metadata": {},
   "outputs": [],
   "source": [
    "from spikeinterface.extractors import read_neuroexplorer"
   ]
  },
  {
   "cell_type": "code",
   "execution_count": null,
   "id": "776603cd-9a97-4aec-8b0f-e0af899a7604",
   "metadata": {},
   "outputs": [],
   "source": [
    "ner = read_neuroexplorer(file_path=file_path, stream_name=\"AD01\",)"
   ]
  },
  {
   "cell_type": "code",
   "execution_count": null,
   "id": "63bb1485-bd3c-4312-a8a6-f91e0ec2e5c0",
   "metadata": {},
   "outputs": [],
   "source": []
  },
  {
   "cell_type": "markdown",
   "id": "37264019-4cd0-4360-97a8-fd3852033a16",
   "metadata": {},
   "source": [
    "# Nex"
   ]
  },
  {
   "cell_type": "code",
   "execution_count": null,
   "id": "643bb3c4-2038-4ffd-965a-46411fc57bc3",
   "metadata": {},
   "outputs": [],
   "source": [
    "import nex.nexfile\n",
    "import numpy as np\n",
    "import matplotlib.pyplot as plt"
   ]
  },
  {
   "cell_type": "code",
   "execution_count": null,
   "id": "ae178f9d-bb93-4685-a80c-14e38bbe6e66",
   "metadata": {},
   "outputs": [],
   "source": [
    "file_path = \"/media/luiz/Seagate Basic/storage/catalystneuro/nelson_lab/Raw_Plexon_ephys_LIDpaper/mr150417a3_fromRawPlex.nex\"\n",
    "\n",
    "reader = nex.nexfile.Reader()\n",
    "data = reader.ReadNexFile(file_path)\n",
    "data['FileHeader']"
   ]
  },
  {
   "cell_type": "code",
   "execution_count": null,
   "id": "cfb40fba-d869-4bcb-943e-82138912ad53",
   "metadata": {},
   "outputs": [],
   "source": [
    "# file_path = \"/media/luiz/Seagate Basic/storage/catalystneuro/nelson_lab/Raw_Plexon_ephys_LIDpaper/mr150417a3_fromRawPlex.nex\"\n",
    "file_path = \"/media/luiz/Seagate Basic/storage/catalystneuro/nelson_lab/Raw_Plexon_ephys_LIDpaper/mr150417a3.nex5\"\n",
    "\n",
    "reader = nex.nexfile.Reader()\n",
    "data = reader.ReadNexFile(file_path)\n",
    "data['FileHeader']"
   ]
  },
  {
   "cell_type": "code",
   "execution_count": null,
   "id": "e5771150-9a84-48e1-8309-16b67c591264",
   "metadata": {},
   "outputs": [],
   "source": [
    "print(len(data['Variables']))\n",
    "data['Variables'][170]\n",
    "\n",
    "# for i in range(0, 197):\n",
    "#     print(data['Variables'][i]['Header']['SamplingRate'])"
   ]
  },
  {
   "cell_type": "code",
   "execution_count": null,
   "id": "6be1409c-5391-40b1-bd35-f20db8fd2c1f",
   "metadata": {},
   "outputs": [],
   "source": [
    "plt.plot(data['Variables'][90]['WaveformValues'][0:40].T)"
   ]
  },
  {
   "cell_type": "code",
   "execution_count": null,
   "id": "1f3f2254-81ab-4c83-83b8-5a9a32ddfdba",
   "metadata": {},
   "outputs": [],
   "source": [
    "for i in range(31):\n",
    "    print(data['Variables'][i]['Header']['Name'])"
   ]
  },
  {
   "cell_type": "code",
   "execution_count": null,
   "id": "cf2e4bbc-3714-4fb7-a2da-ae2356e57063",
   "metadata": {},
   "outputs": [],
   "source": [
    "data['Variables'][7]"
   ]
  },
  {
   "cell_type": "code",
   "execution_count": null,
   "id": "5d966191-7d15-40de-be43-b9e3676f6d03",
   "metadata": {},
   "outputs": [],
   "source": [
    "np.diff(data['Variables'][11]['Timestamps'])"
   ]
  },
  {
   "cell_type": "code",
   "execution_count": null,
   "id": "48ba742f-8a59-4347-bf6d-6b181a480cd7",
   "metadata": {},
   "outputs": [],
   "source": [
    "data"
   ]
  },
  {
   "cell_type": "code",
   "execution_count": null,
   "id": "774e7013-137b-4b84-88b3-9779e2e5c1e9",
   "metadata": {},
   "outputs": [],
   "source": []
  },
  {
   "cell_type": "code",
   "execution_count": null,
   "id": "f6e8287c-eac0-45cb-94bb-5037887b3de9",
   "metadata": {},
   "outputs": [],
   "source": []
  },
  {
   "cell_type": "code",
   "execution_count": null,
   "id": "c0d0fe3c-6056-4bae-ac44-9665a8145d93",
   "metadata": {},
   "outputs": [],
   "source": []
  },
  {
   "cell_type": "code",
   "execution_count": null,
   "id": "dd9d55b3-477a-4c25-8ea8-6eefc101dce9",
   "metadata": {},
   "outputs": [],
   "source": []
  },
  {
   "cell_type": "code",
   "execution_count": null,
   "id": "0aa165d1-0d76-404f-ac9c-14485237fc30",
   "metadata": {},
   "outputs": [],
   "source": []
  },
  {
   "cell_type": "code",
   "execution_count": null,
   "id": "cac1437f-efd0-4cc7-a70c-9aff68e151ec",
   "metadata": {},
   "outputs": [],
   "source": [
    "data = reader.ReadNexFile(\"/media/luiz/Seagate Basic/storage/catalystneuro/nelson_lab/Raw_Plexon_ephys_LIDpaper/mr150417a3-02.nex\")\n",
    "data['FileHeader']"
   ]
  },
  {
   "cell_type": "code",
   "execution_count": null,
   "id": "508114bf-1f30-4188-a634-1335a1d4c789",
   "metadata": {},
   "outputs": [],
   "source": [
    "for i in range(65):\n",
    "    print(data['Variables'][i]['Header']['Name'])"
   ]
  },
  {
   "cell_type": "code",
   "execution_count": null,
   "id": "7ea3a5b6-c5a8-4dcc-b7ef-0db412633aed",
   "metadata": {
    "scrolled": true
   },
   "outputs": [],
   "source": []
  },
  {
   "cell_type": "code",
   "execution_count": null,
   "id": "8c93d251-96e6-4767-8cb3-032ca7e728cd",
   "metadata": {},
   "outputs": [],
   "source": []
  }
 ],
 "metadata": {
  "kernelspec": {
   "display_name": "nelson_lab_to_nwb_env",
   "language": "python",
   "name": "nelson_lab_to_nwb_env"
  },
  "language_info": {
   "codemirror_mode": {
    "name": "ipython",
    "version": 3
   },
   "file_extension": ".py",
   "mimetype": "text/x-python",
   "name": "python",
   "nbconvert_exporter": "python",
   "pygments_lexer": "ipython3",
   "version": "3.12.1"
  }
 },
 "nbformat": 4,
 "nbformat_minor": 5
}
