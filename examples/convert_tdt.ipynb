{
 "cells": [
  {
   "cell_type": "markdown",
   "id": "411aa8d7-5654-4aa9-9185-1a0fd0bf166c",
   "metadata": {},
   "source": [
    "Refs:\n",
    "- https://www.tdt.com/docs/sdk/offline-data-analysis/offline-data-python/\n",
    "- https://www.tdt.com/docs/sdk/offline-data-analysis/tdt-data-storage/"
   ]
  },
  {
   "cell_type": "code",
   "execution_count": null,
   "id": "14deedf2-a691-45cb-a39f-8104d304454a",
   "metadata": {},
   "outputs": [],
   "source": [
    "%load_ext autoreload\n",
    "%autoreload 2"
   ]
  },
  {
   "cell_type": "code",
   "execution_count": null,
   "id": "5b5ba522-afdc-442f-aa14-17e0af06bb50",
   "metadata": {},
   "outputs": [],
   "source": [
    "import matplotlib.pyplot as plt\n",
    "from datetime import datetime, timezone\n",
    "import tdt"
   ]
  },
  {
   "cell_type": "code",
   "execution_count": null,
   "id": "c41d520b-4afa-4594-b8ac-10f66bfb603f",
   "metadata": {},
   "outputs": [],
   "source": [
    "data_path = \"/media/luiz/Seagate Basic/storage/catalystneuro/nelson_lab/Raw_TDT_photometry_withVideos/\"\n",
    "data = tdt.read_block(block_path=data_path)\n",
    "data.info"
   ]
  },
  {
   "cell_type": "code",
   "execution_count": null,
   "id": "d61035df-3af0-4f46-9602-0cdedfadf1b3",
   "metadata": {},
   "outputs": [],
   "source": [
    "b = data.info.start_date.replace(tzinfo=timezone.utc)\n",
    "b"
   ]
  },
  {
   "cell_type": "code",
   "execution_count": null,
   "id": "f23de244-dcdf-420e-83b0-5681eee4af39",
   "metadata": {},
   "outputs": [],
   "source": []
  },
  {
   "cell_type": "code",
   "execution_count": null,
   "id": "49ff3f8a-4da4-406d-aa85-ba96a8d4a786",
   "metadata": {},
   "outputs": [],
   "source": []
  },
  {
   "cell_type": "code",
   "execution_count": null,
   "id": "ce1bb5a5-c9d4-48e5-8b2b-ab41bd8c8d52",
   "metadata": {},
   "outputs": [],
   "source": []
  },
  {
   "cell_type": "markdown",
   "id": "910ca175-93d2-487a-8c6d-6e1f3c838183",
   "metadata": {},
   "source": [
    "# Streams"
   ]
  },
  {
   "cell_type": "code",
   "execution_count": null,
   "id": "dbb85ed5-5df9-4be2-8519-343020ea5940",
   "metadata": {},
   "outputs": [],
   "source": [
    "data['streams'].keys()"
   ]
  },
  {
   "cell_type": "code",
   "execution_count": null,
   "id": "ac89df31-77b3-471b-9780-0c43894af203",
   "metadata": {},
   "outputs": [],
   "source": [
    "data['streams']['_405A']"
   ]
  },
  {
   "cell_type": "code",
   "execution_count": null,
   "id": "e336c4c5-4e9c-4196-8b56-bf6a88b88dc9",
   "metadata": {},
   "outputs": [],
   "source": [
    "data['streams']['_405A'].data.size / (data['streams']['_405A'].fs * 3600)"
   ]
  },
  {
   "cell_type": "code",
   "execution_count": null,
   "id": "0b496e2d-710f-425f-878c-dd6a12253857",
   "metadata": {},
   "outputs": [],
   "source": [
    "data['streams']['_465A']"
   ]
  },
  {
   "cell_type": "code",
   "execution_count": null,
   "id": "10a318bc-f57c-4d49-9d88-16223cc8ee22",
   "metadata": {},
   "outputs": [],
   "source": []
  },
  {
   "cell_type": "code",
   "execution_count": null,
   "id": "08ec1fa6-3c46-4216-a111-8736468185d1",
   "metadata": {},
   "outputs": [],
   "source": [
    "# This is also important to convert\n",
    "data['streams']['Fi1r']"
   ]
  },
  {
   "cell_type": "code",
   "execution_count": null,
   "id": "010b5e03-8a75-4fb7-8bfa-5aa3916da554",
   "metadata": {},
   "outputs": [],
   "source": [
    "plt.figure()\n",
    "plt.plot(data['streams']['Fi1r'].data[0][9000:10500])\n",
    "# plt.plot(data['streams']['Fi1r'].data[1][10000:10500])\n",
    "plt.plot(data['streams']['Fi1r'].data[2][10000:10500])"
   ]
  },
  {
   "cell_type": "markdown",
   "id": "9964bde1-37d9-442a-bbf9-da0afa1d3a6c",
   "metadata": {},
   "source": [
    "# Epocs"
   ]
  },
  {
   "cell_type": "code",
   "execution_count": null,
   "id": "af69b930-0842-4251-aba0-b26aa2b5c346",
   "metadata": {},
   "outputs": [],
   "source": [
    "data.epocs"
   ]
  },
  {
   "cell_type": "code",
   "execution_count": null,
   "id": "25cc80d9-bcc0-4d7f-b9b5-91b13f3efa65",
   "metadata": {},
   "outputs": [],
   "source": [
    "data.epocs.TTL1"
   ]
  },
  {
   "cell_type": "code",
   "execution_count": null,
   "id": "e19682c1-702f-48e3-980f-dd91764a7a79",
   "metadata": {},
   "outputs": [],
   "source": [
    "data.epocs.Cam1"
   ]
  },
  {
   "cell_type": "code",
   "execution_count": null,
   "id": "b90a8c9d-8d83-4a87-9fba-a1fede026e4b",
   "metadata": {},
   "outputs": [],
   "source": [
    "data.epocs[\"Cam2\"]"
   ]
  },
  {
   "cell_type": "code",
   "execution_count": null,
   "id": "c41e8327-7d75-48d0-834e-222ddaaa9859",
   "metadata": {},
   "outputs": [],
   "source": [
    "data.epocs.Cam2.onset[0:25]"
   ]
  },
  {
   "cell_type": "code",
   "execution_count": null,
   "id": "55630508-6b4d-4bfd-97ed-1b60ed5c0990",
   "metadata": {},
   "outputs": [],
   "source": [
    "len(data.epocs.Cam2.onset)"
   ]
  },
  {
   "cell_type": "code",
   "execution_count": null,
   "id": "e88c3ad6-1d4e-45ce-934c-5f0f661fd32b",
   "metadata": {},
   "outputs": [],
   "source": []
  },
  {
   "cell_type": "code",
   "execution_count": null,
   "id": "6b414571-02f2-49fe-8156-a6cf550afca9",
   "metadata": {},
   "outputs": [],
   "source": []
  },
  {
   "cell_type": "markdown",
   "id": "ea3d4bf0-8d06-4e9b-97b0-6ae87672edc2",
   "metadata": {},
   "source": [
    "# Scalars"
   ]
  },
  {
   "cell_type": "code",
   "execution_count": null,
   "id": "4fa5621f-ff91-4dc6-8615-30d9fbd65738",
   "metadata": {},
   "outputs": [],
   "source": [
    "data.scalars['Fi1i']"
   ]
  },
  {
   "cell_type": "code",
   "execution_count": null,
   "id": "3237079e-57c6-433a-affc-dea0c5468e06",
   "metadata": {},
   "outputs": [],
   "source": [
    "2100 / 60"
   ]
  },
  {
   "cell_type": "code",
   "execution_count": null,
   "id": "bda141f9-ee0b-49dc-bbd7-8d00f850a60c",
   "metadata": {},
   "outputs": [],
   "source": []
  },
  {
   "cell_type": "markdown",
   "id": "dd202e44-c97f-4de2-947c-41973914ea4a",
   "metadata": {},
   "source": [
    "# Data Interface for conversion"
   ]
  },
  {
   "cell_type": "code",
   "execution_count": null,
   "id": "f5064117-f848-4429-bab9-836041082438",
   "metadata": {},
   "outputs": [],
   "source": [
    "from nelson_lab_to_nwb.interfaces import TdtFiberPhotometryInterface\n",
    "from pynwb import NWBHDF5IO, NWBFile"
   ]
  },
  {
   "cell_type": "code",
   "execution_count": null,
   "id": "33e52528-f2c3-42a2-90ad-59d0af19ce45",
   "metadata": {},
   "outputs": [],
   "source": [
    "folder_path = \"/media/luiz/Seagate Basic/storage/catalystneuro/nelson_lab/Raw_TDT_photometry_withVideos\"\n",
    "metadata_path = \"/mnt/shared_storage/Github/nelson-lab-to-nwb/src/nelson_lab_to_nwb/paz_2024/metadata_example.yaml\"\n",
    "data_interface = TdtFiberPhotometryInterface(\n",
    "    folder_path=folder_path,\n",
    "    metadata_path=metadata_path\n",
    ")"
   ]
  },
  {
   "cell_type": "code",
   "execution_count": null,
   "id": "50329df2-3333-48e5-aa0f-d6ffbc059ab8",
   "metadata": {
    "scrolled": true
   },
   "outputs": [],
   "source": [
    "metadata = data_interface.get_metadata()\n",
    "dict(metadata)"
   ]
  },
  {
   "cell_type": "code",
   "execution_count": null,
   "id": "f9ffa34e-bd01-4ad3-8de3-dcf2283b5496",
   "metadata": {},
   "outputs": [],
   "source": [
    "data_interface.run_conversion(\n",
    "    nwbfile_path=\"test_tdt.nwb\",\n",
    "    overwrite=True\n",
    ")"
   ]
  },
  {
   "cell_type": "code",
   "execution_count": null,
   "id": "3b77500f-6020-4003-a963-762681751c11",
   "metadata": {},
   "outputs": [],
   "source": [
    "io = NWBHDF5IO(\"test_tdt.nwb\", 'r', load_namespaces=True)\n",
    "nwbfile = io.read()\n",
    "nwbfile"
   ]
  },
  {
   "cell_type": "code",
   "execution_count": null,
   "id": "09632751-cecd-460a-85ef-f8b2e4a0d86d",
   "metadata": {},
   "outputs": [],
   "source": []
  },
  {
   "cell_type": "code",
   "execution_count": null,
   "id": "8beb5ce3-947f-4f17-bc10-7cf4a98a651a",
   "metadata": {},
   "outputs": [],
   "source": []
  },
  {
   "cell_type": "code",
   "execution_count": null,
   "id": "8dfd58ff-11f0-4f7e-836c-0ae017244df0",
   "metadata": {},
   "outputs": [],
   "source": []
  },
  {
   "cell_type": "markdown",
   "id": "83357fdf-aef6-49b4-881e-43cc8d394e0a",
   "metadata": {},
   "source": [
    "# Fiber photometry nwb"
   ]
  },
  {
   "cell_type": "code",
   "execution_count": null,
   "id": "748c38ba-36f8-405a-88c4-e1e1a061e2ad",
   "metadata": {},
   "outputs": [],
   "source": [
    "import datetime\n",
    "import numpy as np\n",
    "\n",
    "from pynwb import NWBHDF5IO, NWBFile\n",
    "from pynwb.core import DynamicTableRegion\n",
    "from pynwb.ophys import RoiResponseSeries\n",
    "from ndx_photometry import (\n",
    "    FibersTable,\n",
    "    PhotodetectorsTable,\n",
    "    ExcitationSourcesTable,\n",
    "    FluorophoresTable,\n",
    "    FiberPhotometryResponseSeries,\n",
    "    FiberPhotometry\n",
    ")"
   ]
  },
  {
   "cell_type": "code",
   "execution_count": null,
   "id": "8f96d89f-9e2c-42c7-a49e-f17bfab56f23",
   "metadata": {},
   "outputs": [],
   "source": [
    "nwbfile = NWBFile(\n",
    "    session_description=\"session_description\",\n",
    "    identifier=\"identifier\",\n",
    "    session_start_time=datetime.datetime.now(datetime.timezone.utc),\n",
    ")\n",
    "\n",
    "# Create a Fibers table, and add one (or many) fiber\n",
    "fibers_table = FibersTable(description=\"fibers table\")\n",
    "fibers_table.add_row(    \n",
    "    location=\"my location\",\n",
    "    notes=\"notes\"\n",
    ")\n",
    "\n",
    "# Create an Excitation Sources table, and a one (or many) excitation source\n",
    "excitationsources_table = ExcitationSourcesTable(description=\"excitation sources table\")\n",
    "excitationsources_table.add_row(\n",
    "    peak_wavelength=700.0,\n",
    "    source_type=\"laser\",\n",
    ")\n",
    "excitationsources_table.add_row(\n",
    "    peak_wavelength=800.0,\n",
    "    source_type=\"laser\",\n",
    ")\n",
    "\n",
    "# Create a Photodetectors table, and add one (or many) photodetector\n",
    "photodetectors_table = PhotodetectorsTable(description=\"photodetectors table\")\n",
    "photodetectors_table.add_row(\n",
    "    peak_wavelength=500.0, \n",
    "    type=\"PMT\", \n",
    "    gain=100.0\n",
    ")\n",
    "\n",
    "# Create a Fluorophores table, and add one (or many) fluorophore\n",
    "fluorophores_table = FluorophoresTable(description=\"fluorophores\")\n",
    "fluorophores_table.add_row(\n",
    "    label=\"dlight\",\n",
    "    location=\"VTA\",\n",
    "    coordinates=(3.0,2.0,1.0)\n",
    ")\n",
    "\n",
    "# Here we add the metadata tables to the metadata section\n",
    "nwbfile.add_lab_meta_data(\n",
    "    FiberPhotometry(\n",
    "        fibers=fibers_table,\n",
    "        excitation_sources=excitationsources_table,\n",
    "        photodetectors=photodetectors_table,\n",
    "        fluorophores=fluorophores_table\n",
    "    )\n",
    ")\n",
    "\n",
    "# Create a raw FiberPhotometryResponseSeries, this is your main acquisition\n",
    "# We should create DynamicTableRegion referencing the correct rows for each table\n",
    "fiber_ref = fibers_table.create_fiber_region(region=[0], description='source fiber')\n",
    "excitation_ref = excitationsources_table.create_excitation_source_region(region=[0], description='excitation sources')\n",
    "photodetector_ref = photodetectors_table.create_photodetector_region(region=[0], description='photodetector')\n",
    "fluorophore_ref = fluorophores_table.create_fluorophore_region(region=[0], description='fluorophore')\n",
    "fp_response_series = FiberPhotometryResponseSeries(\n",
    "    name=\"MyFPRecording\",\n",
    "    data=np.random.randn(100, 1),\n",
    "    unit='F',\n",
    "    rate=30.0,\n",
    "    fibers=fiber_ref,\n",
    "    excitation_sources=excitation_ref,\n",
    "    photodetectors=photodetector_ref,\n",
    "    fluorophores=fluorophore_ref,\n",
    ")\n",
    "\n",
    "nwbfile.add_acquisition(fp_response_series)\n",
    "\n",
    "# write nwb file\n",
    "filename = 'test.nwb'\n",
    "with NWBHDF5IO(filename, 'w') as io:\n",
    "    io.write(nwbfile)\n",
    "\n",
    "# read nwb file and check its contents\n",
    "with NWBHDF5IO(filename, 'r', load_namespaces=True) as io:\n",
    "    nwbfile = io.read()\n",
    "    # Access and print information about the acquisition\n",
    "    print(nwbfile.acquisition[\"MyFPRecording\"])\n",
    "    # Access and print all of the metadata\n",
    "    print(nwbfile.lab_meta_data)"
   ]
  },
  {
   "cell_type": "code",
   "execution_count": null,
   "id": "18331462-2c9a-4979-8184-c82f4794dd45",
   "metadata": {},
   "outputs": [],
   "source": [
    "io = NWBHDF5IO(filename, 'r', load_namespaces=True)\n",
    "nwbfile = io.read()"
   ]
  },
  {
   "cell_type": "code",
   "execution_count": null,
   "id": "3bf5cf16-edd0-4a78-9c33-2e43dde38dc7",
   "metadata": {},
   "outputs": [],
   "source": [
    "nwbfile.acquisition[\"MyFPRecording\"]"
   ]
  },
  {
   "cell_type": "code",
   "execution_count": null,
   "id": "d79c5735-fe71-4334-8fb5-eda37e011b94",
   "metadata": {},
   "outputs": [],
   "source": []
  },
  {
   "cell_type": "code",
   "execution_count": null,
   "id": "70278c70-0569-4278-a989-34401305cef9",
   "metadata": {},
   "outputs": [],
   "source": []
  },
  {
   "cell_type": "code",
   "execution_count": null,
   "id": "3f1438b8-c797-40df-88a5-91f9d6bee857",
   "metadata": {},
   "outputs": [],
   "source": []
  }
 ],
 "metadata": {
  "kernelspec": {
   "display_name": "nelson_lab_to_nwb_env",
   "language": "python",
   "name": "nelson_lab_to_nwb_env"
  },
  "language_info": {
   "codemirror_mode": {
    "name": "ipython",
    "version": 3
   },
   "file_extension": ".py",
   "mimetype": "text/x-python",
   "name": "python",
   "nbconvert_exporter": "python",
   "pygments_lexer": "ipython3",
   "version": "3.12.1"
  }
 },
 "nbformat": 4,
 "nbformat_minor": 5
}
