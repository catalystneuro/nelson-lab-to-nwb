{
 "cells": [
  {
   "cell_type": "markdown",
   "id": "62758d02-1c44-43c1-9d79-d4098635a71c",
   "metadata": {},
   "source": [
    "- https://github.com/NeuroExplorer/nex-Python-package\n",
    "- https://www.neuroexplorer.com/docs/python_packages/nex5file_package.html\n",
    "- https://github.com/NeuralEnsemble/python-neo/blob/master/neo/rawio/neuroexplorerrawio.py"
   ]
  },
  {
   "cell_type": "code",
   "execution_count": null,
   "id": "ba29ff9e-9f46-4848-acbd-7aecda7de74b",
   "metadata": {},
   "outputs": [],
   "source": [
    "%load_ext autoreload\n",
    "%autoreload 2"
   ]
  },
  {
   "cell_type": "code",
   "execution_count": null,
   "id": "3354951c-f2b1-4564-81fe-ef2581f4a718",
   "metadata": {},
   "outputs": [],
   "source": [
    "from nelson_lab_to_nwb.interfaces.nex_interface import NeuroExplorerRecordingInterface\n",
    "from pynwb import NWBHDF5IO, NWBFile"
   ]
  },
  {
   "cell_type": "code",
   "execution_count": null,
   "id": "68a04141-4b41-4928-bdf8-042579ad144a",
   "metadata": {},
   "outputs": [],
   "source": [
    "file_path = \"/media/luiz/Seagate Basic/storage/catalystneuro/nelson_lab/Raw_Plexon_ephys_LIDpaper/mr150417a3_fromRawPlex.nex\"\n",
    "metadata_path = \"/mnt/shared_storage/Github/nelson-lab-to-nwb/src/nelson_lab_to_nwb/creed_2024/metadata_example.yaml\"\n",
    "\n",
    "interface_recording = NeuroExplorerRecordingInterface(\n",
    "    file_path=file_path,\n",
    "    metadata_path=metadata_path,\n",
    "    verbose=False\n",
    ")\n",
    "\n",
    "metadata = interface_recording.get_metadata()"
   ]
  },
  {
   "cell_type": "code",
   "execution_count": null,
   "id": "03c0be26-15d0-43ed-88c4-70dd7ffc72a2",
   "metadata": {},
   "outputs": [],
   "source": [
    "print(metadata)"
   ]
  },
  {
   "cell_type": "code",
   "execution_count": null,
   "id": "c32a5c2c-480e-491b-8689-ee060e3759b8",
   "metadata": {},
   "outputs": [],
   "source": [
    "interface_recording.run_conversion(\n",
    "    nwbfile_path=\"test2.nwb\",\n",
    "    metadata=metadata,\n",
    "    write_as=\"lfp\",\n",
    "    overwrite=True\n",
    ")"
   ]
  },
  {
   "cell_type": "code",
   "execution_count": null,
   "id": "01191082-910f-43e0-9f5d-33c7aa832b25",
   "metadata": {},
   "outputs": [],
   "source": [
    "io = NWBHDF5IO(\"test2.nwb\", 'r', load_namespaces=True)\n",
    "nwbfile = io.read()\n",
    "nwbfile"
   ]
  },
  {
   "cell_type": "code",
   "execution_count": null,
   "id": "c7b26a91-63c3-4922-9b53-c8f8df1c7723",
   "metadata": {},
   "outputs": [],
   "source": [
    "nwbfile.electrodes[:]"
   ]
  },
  {
   "cell_type": "code",
   "execution_count": null,
   "id": "2b63b91c-2d93-4143-8c27-bc1d539bde3f",
   "metadata": {},
   "outputs": [],
   "source": [
    "io.close()"
   ]
  },
  {
   "cell_type": "code",
   "execution_count": null,
   "id": "613412fc-ec59-4c04-9db2-88cb159fcf11",
   "metadata": {},
   "outputs": [],
   "source": []
  },
  {
   "cell_type": "code",
   "execution_count": null,
   "id": "3edcf4fa-59e9-4463-a8c1-42c0e4720697",
   "metadata": {},
   "outputs": [],
   "source": []
  },
  {
   "cell_type": "code",
   "execution_count": null,
   "id": "93347100-3df4-4fd9-8056-a58b649ec724",
   "metadata": {},
   "outputs": [],
   "source": [
    "from datetime import datetime\n",
    "from dateutil import tz\n",
    "from pathlib import Path\n",
    "from neuroconv.datainterfaces import PlexonRecordingInterface, PlexonSortingInterface\n",
    "from neuroconv import NWBConverter\n",
    "\n",
    "\n",
    "class NelsonPlexonNWBConverter(NWBConverter):\n",
    "    data_interface_classes = dict(\n",
    "        PlexonRecording=PlexonRecordingInterface,\n",
    "        PlexonSorting=PlexonSortingInterface\n",
    "    )"
   ]
  },
  {
   "cell_type": "code",
   "execution_count": null,
   "id": "01cfbc06-fca1-4132-a16c-4d22faef3abd",
   "metadata": {},
   "outputs": [],
   "source": [
    "# Change the file_path to the location in your system\n",
    "file_path = \"/media/luiz/Seagate Basic/storage/catalystneuro/nelson_lab/Raw_Plexon_ephys_LIDpaper/mr150417a3-01.plx\"\n",
    "\n",
    "# Instantiate the data interface\n",
    "interface_recording = PlexonRecordingInterface(file_path=file_path, verbose=False)\n",
    "\n",
    "# Extract what metadata we can from the source files\n",
    "metadata = interface_recording.get_metadata()\n",
    "\n",
    "# Update relevant metadata info\n",
    "session_start_time = datetime(2020, 1, 1, 12, 30, 0, tzinfo=tz.gettz(\"US/Pacific\"))\n",
    "metadata[\"NWBFile\"].update(session_start_time=session_start_time)\n",
    "\n",
    "# Choose a path for saving the nwb file and run the conversion\n",
    "# nwbfile_path = f\"{path_to_save_nwbfile}\"\n",
    "# interface.run_conversion(nwbfile_path=nwbfile_path, metadata=metadata)"
   ]
  },
  {
   "cell_type": "code",
   "execution_count": null,
   "id": "518b14c2-780c-4862-8ac2-1e5a42bc5bfa",
   "metadata": {},
   "outputs": [],
   "source": [
    "e = interface_recording.recording_extractor"
   ]
  },
  {
   "cell_type": "code",
   "execution_count": null,
   "id": "3313e2ab-4696-4aeb-ae26-3af2f5db41ce",
   "metadata": {},
   "outputs": [],
   "source": [
    "e"
   ]
  },
  {
   "cell_type": "code",
   "execution_count": null,
   "id": "3b6ec5dd-0433-4c3b-97fe-982ca187a25c",
   "metadata": {},
   "outputs": [],
   "source": [
    "from spikeinterface.extractors import PlexonRecordingExtractor\n",
    "from spikeinterface.extractors.neoextractors.neuroexplorer import NeuroExplorerRecordingExtractor"
   ]
  },
  {
   "cell_type": "code",
   "execution_count": null,
   "id": "d98842c1-2fcb-4b56-b659-e94108fec80c",
   "metadata": {
    "scrolled": true
   },
   "outputs": [],
   "source": [
    "PlexonRecordingExtractor.get_streams(file_path=\"/media/luiz/Seagate Basic/storage/catalystneuro/nelson_lab/Raw_Plexon_ephys_LIDpaper/mr150417a3.plx\")"
   ]
  },
  {
   "cell_type": "code",
   "execution_count": null,
   "id": "54ca1891-fe93-47eb-a16c-8675100a28c5",
   "metadata": {
    "scrolled": true
   },
   "outputs": [],
   "source": [
    "# Very slow\n",
    "rec_plexon = PlexonRecordingExtractor(\n",
    "    file_path=\"/media/luiz/Seagate Basic/storage/catalystneuro/nelson_lab/Raw_Plexon_ephys_LIDpaper/mr150417a3.plx\",\n",
    "    stream_name='Signals 0'\n",
    ")\n",
    "rec_plexon"
   ]
  },
  {
   "cell_type": "code",
   "execution_count": null,
   "id": "1d3f29a3-5a12-4dff-826f-0d11d861a78d",
   "metadata": {},
   "outputs": [],
   "source": [
    "rec_plexon"
   ]
  },
  {
   "cell_type": "code",
   "execution_count": null,
   "id": "ecbfb116-439c-4bf8-bb87-4611635260f8",
   "metadata": {},
   "outputs": [],
   "source": [
    "rec_plexon.get_channel_ids()"
   ]
  },
  {
   "cell_type": "code",
   "execution_count": null,
   "id": "d8a84b0f-b2f2-4076-b445-28b124c65211",
   "metadata": {},
   "outputs": [],
   "source": []
  },
  {
   "cell_type": "code",
   "execution_count": null,
   "id": "596322c9-69d8-42e5-b99d-accf07b8b626",
   "metadata": {},
   "outputs": [],
   "source": [
    "streams = NeuroExplorerRecordingExtractor.get_streams(file_path=\"/media/luiz/Seagate Basic/storage/catalystneuro/nelson_lab/Raw_Plexon_ephys_LIDpaper/mr150417a3_fromRawPlex.nex\")\n",
    "print(streams)"
   ]
  },
  {
   "cell_type": "code",
   "execution_count": null,
   "id": "01cc0bb7-7741-4891-a97d-dd18e9f90449",
   "metadata": {},
   "outputs": [],
   "source": [
    "# Fast\n",
    "file_path = \"/media/luiz/Seagate Basic/storage/catalystneuro/nelson_lab/Raw_Plexon_ephys_LIDpaper/mr150417a3_fromRawPlex.nex\"\n",
    "recording = NeuroExplorerRecordingExtractor(\n",
    "    file_path=file_path, \n",
    "    stream_name=\"AD02\",\n",
    "    all_annotations=True\n",
    ")\n",
    "recording"
   ]
  },
  {
   "cell_type": "code",
   "execution_count": null,
   "id": "f4b15c83-bb54-4b96-bc3f-8c5aac521795",
   "metadata": {},
   "outputs": [],
   "source": [
    "r = recording.neo_reader\n",
    "recording.get_time_info()"
   ]
  },
  {
   "cell_type": "code",
   "execution_count": null,
   "id": "5569806b-e961-4df4-adf7-30cc8075affc",
   "metadata": {},
   "outputs": [],
   "source": [
    "recording.get_annotation_keys()"
   ]
  },
  {
   "cell_type": "code",
   "execution_count": null,
   "id": "97741121-c749-4e2c-97de-44f48e87e013",
   "metadata": {},
   "outputs": [],
   "source": []
  },
  {
   "cell_type": "code",
   "execution_count": null,
   "id": "5a394627-b3a2-408f-b01d-01180bfb7a5e",
   "metadata": {},
   "outputs": [],
   "source": []
  },
  {
   "cell_type": "code",
   "execution_count": null,
   "id": "20ca8df2-f005-42e3-927c-bc83446e8b50",
   "metadata": {},
   "outputs": [],
   "source": [
    "from spikeinterface.extractors.neoextractors.neuroexplorer import NeuroExplorerRecordingExtractor\n",
    "from spikeinterface.core import aggregate_channels"
   ]
  },
  {
   "cell_type": "code",
   "execution_count": null,
   "id": "76ab1a6a-d4e7-4ede-93a6-6cac88dc84e2",
   "metadata": {
    "scrolled": true
   },
   "outputs": [],
   "source": [
    "file_path = f\"/media/luiz/Seagate Basic/storage/catalystneuro/nelson_lab/Raw_Plexon_ephys_LIDpaper/mr150417a3-01.nex\"\n",
    "\n",
    "streams = NeuroExplorerRecordingExtractor.get_streams(file_path=file_path)\n",
    "stream_names = streams[0]\n",
    "stream_names\n",
    "# your_signal_stream_name = \"AD\"\n",
    "\n",
    "# recording_list = [NeuroExplorerRecordingExtractor(file_path=file_path, stream_name=stream_name) for stream_name in stream_names]\n",
    "# recording = aggregate_channels(recording_list)"
   ]
  },
  {
   "cell_type": "code",
   "execution_count": null,
   "id": "6094d977-5ca7-46bb-9507-c110a887ca16",
   "metadata": {},
   "outputs": [],
   "source": [
    "recording = NeuroExplorerRecordingExtractor(\n",
    "    file_path=\"/media/luiz/Seagate Basic/storage/catalystneuro/nelson_lab/Raw_Plexon_ephys_LIDpaper/mr150417a3-01.plx\", \n",
    "    stream_name=\"AD01\",\n",
    ")"
   ]
  },
  {
   "cell_type": "code",
   "execution_count": null,
   "id": "fbc1762c-3ec7-42b5-b6ac-f3cdd66d5d7d",
   "metadata": {},
   "outputs": [],
   "source": [
    "recording"
   ]
  },
  {
   "cell_type": "code",
   "execution_count": null,
   "id": "09a9f9e4-17aa-4617-bfde-8ac9e5b97113",
   "metadata": {},
   "outputs": [],
   "source": []
  },
  {
   "cell_type": "code",
   "execution_count": null,
   "id": "86f3164d-549e-4a82-90c4-218774a071d8",
   "metadata": {},
   "outputs": [],
   "source": [
    "# interface_sorting = PlexonSortingInterface(file_path=file_path, verbose=False)"
   ]
  },
  {
   "cell_type": "code",
   "execution_count": null,
   "id": "5d7e8ab9-daa3-47ac-966f-6382a9f59d2a",
   "metadata": {},
   "outputs": [],
   "source": [
    "from spikeinterface.extractors import read_neuroexplorer"
   ]
  },
  {
   "cell_type": "code",
   "execution_count": null,
   "id": "776603cd-9a97-4aec-8b0f-e0af899a7604",
   "metadata": {},
   "outputs": [],
   "source": [
    "ner = read_neuroexplorer(file_path=file_path, stream_name=\"AD01\",)"
   ]
  },
  {
   "cell_type": "code",
   "execution_count": null,
   "id": "63bb1485-bd3c-4312-a8a6-f91e0ec2e5c0",
   "metadata": {},
   "outputs": [],
   "source": []
  },
  {
   "cell_type": "markdown",
   "id": "37264019-4cd0-4360-97a8-fd3852033a16",
   "metadata": {},
   "source": [
    "# Nex"
   ]
  },
  {
   "cell_type": "code",
   "execution_count": null,
   "id": "643bb3c4-2038-4ffd-965a-46411fc57bc3",
   "metadata": {},
   "outputs": [],
   "source": [
    "import nex.nexfile\n",
    "import numpy as np"
   ]
  },
  {
   "cell_type": "code",
   "execution_count": null,
   "id": "cfb40fba-d869-4bcb-943e-82138912ad53",
   "metadata": {},
   "outputs": [],
   "source": [
    "reader = nex.nexfile.Reader()\n",
    "data = reader.ReadNexFile(\"/media/luiz/Seagate Basic/storage/catalystneuro/nelson_lab/Raw_Plexon_ephys_LIDpaper/mr150417a3-01.nex\")\n",
    "data['FileHeader']"
   ]
  },
  {
   "cell_type": "code",
   "execution_count": null,
   "id": "e5771150-9a84-48e1-8309-16b67c591264",
   "metadata": {},
   "outputs": [],
   "source": [
    "print(len(data['Variables']))\n",
    "data['Variables'][0]"
   ]
  },
  {
   "cell_type": "code",
   "execution_count": null,
   "id": "6be1409c-5391-40b1-bd35-f20db8fd2c1f",
   "metadata": {},
   "outputs": [],
   "source": [
    "data['Variables'][1]"
   ]
  },
  {
   "cell_type": "code",
   "execution_count": null,
   "id": "1f3f2254-81ab-4c83-83b8-5a9a32ddfdba",
   "metadata": {},
   "outputs": [],
   "source": [
    "for i in range(31):\n",
    "    print(data['Variables'][i]['Header']['Name'])"
   ]
  },
  {
   "cell_type": "code",
   "execution_count": null,
   "id": "cf2e4bbc-3714-4fb7-a2da-ae2356e57063",
   "metadata": {},
   "outputs": [],
   "source": [
    "data['Variables'][7]"
   ]
  },
  {
   "cell_type": "code",
   "execution_count": null,
   "id": "5d966191-7d15-40de-be43-b9e3676f6d03",
   "metadata": {},
   "outputs": [],
   "source": [
    "np.diff(data['Variables'][11]['Timestamps'])"
   ]
  },
  {
   "cell_type": "code",
   "execution_count": null,
   "id": "48ba742f-8a59-4347-bf6d-6b181a480cd7",
   "metadata": {},
   "outputs": [],
   "source": [
    "data"
   ]
  },
  {
   "cell_type": "code",
   "execution_count": null,
   "id": "774e7013-137b-4b84-88b3-9779e2e5c1e9",
   "metadata": {},
   "outputs": [],
   "source": []
  },
  {
   "cell_type": "code",
   "execution_count": null,
   "id": "f6e8287c-eac0-45cb-94bb-5037887b3de9",
   "metadata": {},
   "outputs": [],
   "source": []
  },
  {
   "cell_type": "code",
   "execution_count": null,
   "id": "c0d0fe3c-6056-4bae-ac44-9665a8145d93",
   "metadata": {},
   "outputs": [],
   "source": []
  },
  {
   "cell_type": "code",
   "execution_count": null,
   "id": "dd9d55b3-477a-4c25-8ea8-6eefc101dce9",
   "metadata": {},
   "outputs": [],
   "source": []
  },
  {
   "cell_type": "code",
   "execution_count": null,
   "id": "0aa165d1-0d76-404f-ac9c-14485237fc30",
   "metadata": {},
   "outputs": [],
   "source": []
  },
  {
   "cell_type": "code",
   "execution_count": null,
   "id": "cac1437f-efd0-4cc7-a70c-9aff68e151ec",
   "metadata": {},
   "outputs": [],
   "source": [
    "data = reader.ReadNexFile(\"/media/luiz/Seagate Basic/storage/catalystneuro/nelson_lab/Raw_Plexon_ephys_LIDpaper/mr150417a3-02.nex\")\n",
    "data['FileHeader']"
   ]
  },
  {
   "cell_type": "code",
   "execution_count": null,
   "id": "508114bf-1f30-4188-a634-1335a1d4c789",
   "metadata": {},
   "outputs": [],
   "source": [
    "for i in range(65):\n",
    "    print(data['Variables'][i]['Header']['Name'])"
   ]
  },
  {
   "cell_type": "code",
   "execution_count": null,
   "id": "7ea3a5b6-c5a8-4dcc-b7ef-0db412633aed",
   "metadata": {
    "scrolled": true
   },
   "outputs": [],
   "source": []
  },
  {
   "cell_type": "code",
   "execution_count": null,
   "id": "8c93d251-96e6-4767-8cb3-032ca7e728cd",
   "metadata": {},
   "outputs": [],
   "source": []
  }
 ],
 "metadata": {
  "kernelspec": {
   "display_name": "nelson_lab_to_nwb_env",
   "language": "python",
   "name": "nelson_lab_to_nwb_env"
  },
  "language_info": {
   "codemirror_mode": {
    "name": "ipython",
    "version": 3
   },
   "file_extension": ".py",
   "mimetype": "text/x-python",
   "name": "python",
   "nbconvert_exporter": "python",
   "pygments_lexer": "ipython3",
   "version": "3.12.1"
  }
 },
 "nbformat": 4,
 "nbformat_minor": 5
}
