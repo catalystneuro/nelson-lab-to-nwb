{
 "cells": [
  {
   "cell_type": "code",
   "execution_count": 1,
   "id": "ba29ff9e-9f46-4848-acbd-7aecda7de74b",
   "metadata": {},
   "outputs": [],
   "source": [
    "%load_ext autoreload\n",
    "%autoreload 2"
   ]
  },
  {
   "cell_type": "code",
   "execution_count": 2,
   "id": "93347100-3df4-4fd9-8056-a58b649ec724",
   "metadata": {},
   "outputs": [],
   "source": [
    "from datetime import datetime\n",
    "from dateutil import tz\n",
    "from pathlib import Path\n",
    "from neuroconv.datainterfaces import PlexonRecordingInterface, PlexonSortingInterface"
   ]
  },
  {
   "cell_type": "code",
   "execution_count": null,
   "id": "01cfbc06-fca1-4132-a16c-4d22faef3abd",
   "metadata": {},
   "outputs": [],
   "source": [
    "# Change the file_path to the location in your system\n",
    "file_path = f\"{ECEPHY_DATA_PATH}/plexon/File_plexon_3.plx\"\n",
    "\n",
    "# Instantiate the data interface\n",
    "interface = PlexonRecordingInterface(file_path=file_path, verbose=False)\n",
    "\n",
    "# Extract what metadata we can from the source files\n",
    "metadata = interface.get_metadata()\n",
    "\n",
    "# Update relevant metadata info\n",
    "session_start_time = datetime(2020, 1, 1, 12, 30, 0, tzinfo=tz.gettz(\"US/Pacific\"))\n",
    "metadata[\"NWBFile\"].update(session_start_time=session_start_time)\n",
    "\n",
    "# Choose a path for saving the nwb file and run the conversion\n",
    "nwbfile_path = f\"{path_to_save_nwbfile}\"\n",
    "interface.run_conversion(nwbfile_path=nwbfile_path, metadata=metadata)"
   ]
  },
  {
   "cell_type": "code",
   "execution_count": null,
   "id": "86f3164d-549e-4a82-90c4-218774a071d8",
   "metadata": {},
   "outputs": [],
   "source": [
    "# Change the file_path to the location in your system\n",
    "file_path = f\"{ECEPHY_DATA_PATH}/plexon/File_plexon_2.plx\"\n",
    "\n",
    "interface = PlexonSortingInterface(file_path=file_path, verbose=False)"
   ]
  }
 ],
 "metadata": {
  "kernelspec": {
   "display_name": "nelson_lab_to_nwb_env",
   "language": "python",
   "name": "nelson_lab_to_nwb_env"
  },
  "language_info": {
   "codemirror_mode": {
    "name": "ipython",
    "version": 3
   },
   "file_extension": ".py",
   "mimetype": "text/x-python",
   "name": "python",
   "nbconvert_exporter": "python",
   "pygments_lexer": "ipython3",
   "version": "3.12.1"
  }
 },
 "nbformat": 4,
 "nbformat_minor": 5
}
